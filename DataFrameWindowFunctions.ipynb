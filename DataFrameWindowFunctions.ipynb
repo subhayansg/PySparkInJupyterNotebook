{
 "cells": [
  {
   "cell_type": "code",
   "execution_count": 1,
   "id": "9e9b8cb1",
   "metadata": {},
   "outputs": [],
   "source": [
    "from pyspark.sql import SparkSession\n",
    "\n",
    "import getpass\n",
    "username = getpass.getuser()\n",
    "\n",
    "spark = SparkSession. \\\n",
    "    builder. \\\n",
    "    config('spark.ui.port', '0'). \\\n",
    "    config(\"spark.sql.warehouse.dir\", f\"/user/{username}/warehouse\"). \\\n",
    "    enableHiveSupport(). \\\n",
    "    appName(f'{username} | Python - Data Processing - Overview'). \\\n",
    "    master('yarn'). \\\n",
    "    getOrCreate()"
   ]
  },
  {
   "cell_type": "markdown",
   "id": "f10f3a59",
   "metadata": {},
   "source": [
    "### Define the window specification\n",
    "\n",
    "`from pyspark.sql.window import Window`\n",
    "\n",
    "`# Defines partitioning specification and ordering specification.`\n",
    "`windowSpec = \\\n",
    "  Window \\\n",
    "    .partitionBy(...) \\\n",
    "    .orderBy(...)`\n",
    "    \n",
    "`# Defines a Window Specification with a ROW frame.`\n",
    "\n",
    "`windowSpec.rowsBetween(start, end)`\n",
    "\n",
    "`# Defines a Window Specification with a RANGE frame.`\n",
    "\n",
    "`windowSpec.rangeBetween(start, end)`\n",
    "\n",
    "Here, frame_type can be either ROWS (for ROW frame) or RANGE (for RANGE frame); \n",
    "\n",
    "start can be any of UNBOUNDED PRECEDING, CURRENT ROW, <value> PRECEDING, and <value> FOLLOWING; and end can be any of UNBOUNDED FOLLOWING, CURRENT ROW, <value> PRECEDING, and <value> FOLLOWING."
   ]
  },
  {
   "cell_type": "code",
   "execution_count": 2,
   "id": "597ff24e",
   "metadata": {},
   "outputs": [],
   "source": [
    "employeeList = [(\"sales\", 1, 5000),\n",
    "(\"personnel\", 2, 3900),\n",
    "(\"sales\", 3, 4800),\n",
    "(\"sales\", 4, 4800),\n",
    "(\"personnel\", 5, 3500),\n",
    "(\"develop\", 7, 4200),\n",
    "(\"develop\", 8, 6000),\n",
    "(\"develop\", 9, 4500),\n",
    "(\"develop\", 10, 5200),\n",
    "(\"develop\", 11, 5200)]"
   ]
  },
  {
   "cell_type": "code",
   "execution_count": 3,
   "id": "b7c42342",
   "metadata": {},
   "outputs": [],
   "source": [
    "empDf = spark.createDataFrame(employeeList, [\"deptName\", \"empID\", \"salary\"])"
   ]
  },
  {
   "cell_type": "code",
   "execution_count": 4,
   "id": "8bc8ddbc",
   "metadata": {},
   "outputs": [
    {
     "name": "stdout",
     "output_type": "stream",
     "text": [
      "+---------+-----+------+\n",
      "| deptName|empID|salary|\n",
      "+---------+-----+------+\n",
      "|    sales|    1|  5000|\n",
      "|personnel|    2|  3900|\n",
      "|    sales|    3|  4800|\n",
      "|    sales|    4|  4800|\n",
      "|personnel|    5|  3500|\n",
      "|  develop|    7|  4200|\n",
      "|  develop|    8|  6000|\n",
      "|  develop|    9|  4500|\n",
      "|  develop|   10|  5200|\n",
      "|  develop|   11|  5200|\n",
      "+---------+-----+------+\n",
      "\n"
     ]
    }
   ],
   "source": [
    "empDf.show()"
   ]
  },
  {
   "cell_type": "code",
   "execution_count": 5,
   "id": "4a58d604",
   "metadata": {},
   "outputs": [],
   "source": [
    "from pyspark.sql.window import Window"
   ]
  },
  {
   "cell_type": "markdown",
   "id": "e0d8d042",
   "metadata": {},
   "source": [
    "### Get dept wise avg salary"
   ]
  },
  {
   "cell_type": "markdown",
   "id": "b5225818",
   "metadata": {},
   "source": [
    "___Using normal groupBy___"
   ]
  },
  {
   "cell_type": "code",
   "execution_count": 6,
   "id": "49440345",
   "metadata": {},
   "outputs": [
    {
     "name": "stdout",
     "output_type": "stream",
     "text": [
      "+---------+-----------------+\n",
      "| deptName|      avg(salary)|\n",
      "+---------+-----------------+\n",
      "|  develop|           5020.0|\n",
      "|    sales|4866.666666666667|\n",
      "|personnel|           3700.0|\n",
      "+---------+-----------------+\n",
      "\n"
     ]
    }
   ],
   "source": [
    "avgSalDf = empDf. \\\n",
    "    groupBy(\"deptName\").\\\n",
    "    avg(\"salary\")\n",
    "\n",
    "avgSalDf.show()"
   ]
  },
  {
   "cell_type": "markdown",
   "id": "f3369db6",
   "metadata": {},
   "source": [
    "___Using window aggregation___"
   ]
  },
  {
   "cell_type": "code",
   "execution_count": 7,
   "id": "8558e866",
   "metadata": {},
   "outputs": [
    {
     "name": "stdout",
     "output_type": "stream",
     "text": [
      "+---------+-----------------+\n",
      "| deptName|          avg sal|\n",
      "+---------+-----------------+\n",
      "|  develop|           5020.0|\n",
      "|    sales|4866.666666666667|\n",
      "|personnel|           3700.0|\n",
      "+---------+-----------------+\n",
      "\n"
     ]
    }
   ],
   "source": [
    "from pyspark.sql.functions import *\n",
    "avgSalDf2 = empDf. \\\n",
    "    withColumn(\"avg sal\", avg(\"salary\").over(Window.partitionBy(\"deptName\"))). \\\n",
    "    select(\"deptName\", \"avg sal\"). \\\n",
    "    distinct()\n",
    "\n",
    "avgSalDf2.show()"
   ]
  },
  {
   "cell_type": "markdown",
   "id": "645e2709",
   "metadata": {},
   "source": [
    "### Top N per Group\n",
    "___Top N per Group is useful when you need to compute the first and second best-sellers in category.___"
   ]
  },
  {
   "cell_type": "code",
   "execution_count": 8,
   "id": "c614022b",
   "metadata": {},
   "outputs": [],
   "source": [
    "prdList = [(\"Thin\", \"cell phone\", 6000),\n",
    "(\"Normal\", \"tablet\", 1500),\n",
    "(\"Mini\", \"tablet\", 5500),\n",
    "(\"Ultra thin\", \"cell phone\", 5000),\n",
    "(\"Very thin\", \"cell phone\", 6000),\n",
    "(\"Big\", \"tablet\", 2500),\n",
    "(\"Bendable\", \"cell phone\", 3000),\n",
    "(\"Foldable\", \"cell phone\", 3000),\n",
    "(\"Pro\", \"tablet\", 4500),\n",
    "(\"Pro2\", \"tablet\", 6500)\n",
    "]"
   ]
  },
  {
   "cell_type": "code",
   "execution_count": 9,
   "id": "f8d6a1f4",
   "metadata": {},
   "outputs": [
    {
     "name": "stdout",
     "output_type": "stream",
     "text": [
      "+----------+----------+-------+\n",
      "|   product|  category|revenue|\n",
      "+----------+----------+-------+\n",
      "|      Thin|cell phone|   6000|\n",
      "|    Normal|    tablet|   1500|\n",
      "|      Mini|    tablet|   5500|\n",
      "|Ultra thin|cell phone|   5000|\n",
      "| Very thin|cell phone|   6000|\n",
      "|       Big|    tablet|   2500|\n",
      "|  Bendable|cell phone|   3000|\n",
      "|  Foldable|cell phone|   3000|\n",
      "|       Pro|    tablet|   4500|\n",
      "|      Pro2|    tablet|   6500|\n",
      "+----------+----------+-------+\n",
      "\n"
     ]
    }
   ],
   "source": [
    "prdDf = spark.createDataFrame(prdList, [\"product\", \"category\", \"revenue\"])\n",
    "\n",
    "prdDf.show()"
   ]
  },
  {
   "cell_type": "markdown",
   "id": "467beea5",
   "metadata": {},
   "source": [
    "___What are the best-selling and the second best-selling products in every category?___"
   ]
  },
  {
   "cell_type": "code",
   "execution_count": 10,
   "id": "9017e8a5",
   "metadata": {},
   "outputs": [],
   "source": [
    "best_selling_window = Window.partitionBy(\"category\"). \\\n",
    "    orderBy(col(\"revenue\").desc())"
   ]
  },
  {
   "cell_type": "code",
   "execution_count": 11,
   "id": "09a2b180",
   "metadata": {},
   "outputs": [
    {
     "name": "stdout",
     "output_type": "stream",
     "text": [
      "+----------+----------+-------+\n",
      "|   product|  category|revenue|\n",
      "+----------+----------+-------+\n",
      "|      Pro2|    tablet|   6500|\n",
      "|      Mini|    tablet|   5500|\n",
      "|      Thin|cell phone|   6000|\n",
      "| Very thin|cell phone|   6000|\n",
      "|Ultra thin|cell phone|   5000|\n",
      "+----------+----------+-------+\n",
      "\n"
     ]
    }
   ],
   "source": [
    "prdDf.withColumn(\"rank\", dense_rank().over(best_selling_window)). \\\n",
    "    filter((col(\"rank\") == 1) | (col(\"rank\") == 2)). \\\n",
    "    drop(\"rank\"). \\\n",
    "    show()"
   ]
  },
  {
   "cell_type": "code",
   "execution_count": 12,
   "id": "ec615241",
   "metadata": {},
   "outputs": [
    {
     "name": "stdout",
     "output_type": "stream",
     "text": [
      "+---------+----------+-------+\n",
      "|  product|  category|revenue|\n",
      "+---------+----------+-------+\n",
      "|     Pro2|    tablet|   6500|\n",
      "|     Thin|cell phone|   6000|\n",
      "|Very thin|cell phone|   6000|\n",
      "+---------+----------+-------+\n",
      "\n"
     ]
    }
   ],
   "source": [
    "prdDf.select(\"product\", \"category\", \"revenue\", (dense_rank().over(best_selling_window)).alias(\"best selling product\")). \\\n",
    "    filter(col(\"best selling product\") == 1). \\\n",
    "    drop(\"best selling product\"). \\\n",
    "    show()"
   ]
  },
  {
   "cell_type": "markdown",
   "id": "b8d5bbc5",
   "metadata": {},
   "source": [
    "___What is the difference between the revenue of each product and the revenue of the best-selling product in the same category of that product?___"
   ]
  },
  {
   "cell_type": "code",
   "execution_count": 13,
   "id": "bdb50198",
   "metadata": {},
   "outputs": [
    {
     "name": "stdout",
     "output_type": "stream",
     "text": [
      "+----------+----------+-------+---------------------+\n",
      "|   product|  category|revenue|difference in revenue|\n",
      "+----------+----------+-------+---------------------+\n",
      "|      Pro2|    tablet|   6500|                    0|\n",
      "|      Mini|    tablet|   5500|                 1000|\n",
      "|       Pro|    tablet|   4500|                 2000|\n",
      "|       Big|    tablet|   2500|                 4000|\n",
      "|    Normal|    tablet|   1500|                 5000|\n",
      "|      Thin|cell phone|   6000|                    0|\n",
      "| Very thin|cell phone|   6000|                    0|\n",
      "|Ultra thin|cell phone|   5000|                 1000|\n",
      "|  Bendable|cell phone|   3000|                 3000|\n",
      "|  Foldable|cell phone|   3000|                 3000|\n",
      "+----------+----------+-------+---------------------+\n",
      "\n"
     ]
    }
   ],
   "source": [
    "revenue_difference = max(prdDf[\"revenue\"]).over(best_selling_window) - prdDf[\"revenue\"]\n",
    "prdDf.select(\"product\", \"category\", \"revenue\", revenue_difference.alias(\"difference in revenue\")).show()"
   ]
  },
  {
   "cell_type": "markdown",
   "id": "8a3400c2",
   "metadata": {},
   "source": [
    "### Creating boundary for the window"
   ]
  },
  {
   "cell_type": "markdown",
   "id": "674ec3d6",
   "metadata": {},
   "source": [
    "There are five types of boundaries, which are:\n",
    "`UNBOUNDED PRECEDING, UNBOUNDED FOLLOWING, CURRENT ROW, <value> PRECEDING, and <value> FOLLOWING`"
   ]
  },
  {
   "cell_type": "markdown",
   "id": "211e6dc8",
   "metadata": {},
   "source": [
    "There are two types of frames, `ROW` frame and `RANGE` frame."
   ]
  },
  {
   "cell_type": "markdown",
   "id": "c32414b8",
   "metadata": {},
   "source": [
    "If `CURRENT ROW` is used as a boundary, it represents the current input row. `<value> PRECEDING` and `<value> FOLLOWING` describes the number of rows appear before and after the current input row, respectively."
   ]
  },
  {
   "cell_type": "markdown",
   "id": "2764b3fb",
   "metadata": {},
   "source": [
    "### RANGE frame"
   ]
  },
  {
   "cell_type": "markdown",
   "id": "b4e89efd",
   "metadata": {},
   "source": [
    "RANGE frames are based on logical offsets from the position of the current input row\n",
    "\n",
    "A logical offset is the difference between the value of the ordering expression of the current input row and the value of that same expression of the boundary row of the frame."
   ]
  },
  {
   "cell_type": "markdown",
   "id": "569bd875",
   "metadata": {},
   "source": [
    "Because of this definition, when a RANGE frame is used, only a single ordering expression is allowed. Also, for a RANGE frame, all rows having the same value of the ordering expression with the current input row are considered as same row as far as the boundary calculation is concerned."
   ]
  },
  {
   "cell_type": "markdown",
   "id": "3be5f872",
   "metadata": {},
   "source": [
    "<img src=\"RangePartition/r1.png\">\n",
    "<img src=\"RangePartition/r2.png\">\n",
    "<img src=\"RangePartition/r3.png\">\n",
    "<img src=\"RangePartition/r4.png\">\n",
    "<img src=\"RangePartition/r5.png\">"
   ]
  },
  {
   "cell_type": "code",
   "execution_count": 14,
   "id": "eaee1b48",
   "metadata": {},
   "outputs": [
    {
     "name": "stdout",
     "output_type": "stream",
     "text": [
      "+----------+----------+-------+\n",
      "|   product|  category|revenue|\n",
      "+----------+----------+-------+\n",
      "|      Thin|cell phone|   6000|\n",
      "|    Normal|    tablet|   1500|\n",
      "|      Mini|    tablet|   5500|\n",
      "|Ultra thin|cell phone|   5000|\n",
      "| Very thin|cell phone|   6000|\n",
      "|       Big|    tablet|   2500|\n",
      "|  Bendable|cell phone|   3000|\n",
      "|  Foldable|cell phone|   3000|\n",
      "|       Pro|    tablet|   4500|\n",
      "|      Pro2|    tablet|   6500|\n",
      "+----------+----------+-------+\n",
      "\n"
     ]
    }
   ],
   "source": [
    "prdDf.show()"
   ]
  },
  {
   "cell_type": "code",
   "execution_count": 18,
   "id": "59b05568",
   "metadata": {},
   "outputs": [],
   "source": [
    "rangeWindow = Window.partitionBy(\"category\").orderBy(\"revenue\").rangeBetween(1000,  3000)\n",
    "rowWindow = Window.partitionBy(\"category\").orderBy(\"revenue\").rowsBetween(1,  2)"
   ]
  },
  {
   "cell_type": "code",
   "execution_count": 20,
   "id": "5616b84d",
   "metadata": {},
   "outputs": [
    {
     "name": "stdout",
     "output_type": "stream",
     "text": [
      "+----------+----------+-------+-------------+-----------+\n",
      "|   product|  category|revenue|range revenue|row revenue|\n",
      "+----------+----------+-------+-------------+-----------+\n",
      "|    Normal|    tablet|   1500|         7000|       7000|\n",
      "|       Big|    tablet|   2500|        10000|      10000|\n",
      "|       Pro|    tablet|   4500|        12000|      12000|\n",
      "|      Mini|    tablet|   5500|         6500|       6500|\n",
      "|      Pro2|    tablet|   6500|         null|       null|\n",
      "|  Bendable|cell phone|   3000|        17000|       8000|\n",
      "|  Foldable|cell phone|   3000|        17000|      11000|\n",
      "|Ultra thin|cell phone|   5000|        12000|      12000|\n",
      "|      Thin|cell phone|   6000|         null|       6000|\n",
      "| Very thin|cell phone|   6000|         null|       null|\n",
      "+----------+----------+-------+-------------+-----------+\n",
      "\n"
     ]
    }
   ],
   "source": [
    "prdDf.withColumn(\"range revenue\", sum(\"revenue\").over(rangeWindow)). \\\n",
    "    withColumn(\"row revenue\", sum(\"revenue\").over(rowWindow)). \\\n",
    "    show()"
   ]
  },
  {
   "cell_type": "code",
   "execution_count": null,
   "id": "859ea034",
   "metadata": {},
   "outputs": [],
   "source": []
  }
 ],
 "metadata": {
  "kernelspec": {
   "display_name": "Pyspark 3",
   "language": "python",
   "name": "pyspark3"
  },
  "language_info": {
   "codemirror_mode": {
    "name": "ipython",
    "version": 3
   },
   "file_extension": ".py",
   "mimetype": "text/x-python",
   "name": "python",
   "nbconvert_exporter": "python",
   "pygments_lexer": "ipython3",
   "version": "3.6.12"
  }
 },
 "nbformat": 4,
 "nbformat_minor": 5
}
