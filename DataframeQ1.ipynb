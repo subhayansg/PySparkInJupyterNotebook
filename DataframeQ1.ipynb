{
 "cells": [
  {
   "cell_type": "code",
   "execution_count": 1,
   "id": "a1fc7c6b",
   "metadata": {},
   "outputs": [],
   "source": [
    "from pyspark.sql import SparkSession\n",
    "\n",
    "import getpass\n",
    "username = getpass.getuser()\n",
    "\n",
    "spark = SparkSession. \\\n",
    "    builder. \\\n",
    "    config('spark.ui.port', '0'). \\\n",
    "    config(\"spark.sql.warehouse.dir\", f\"/user/{username}/warehouse\"). \\\n",
    "    enableHiveSupport(). \\\n",
    "    appName(f'{username} | Python - Spark Metastore'). \\\n",
    "    master('yarn'). \\\n",
    "    getOrCreate()"
   ]
  },
  {
   "cell_type": "code",
   "execution_count": 2,
   "id": "db8a2665",
   "metadata": {},
   "outputs": [
    {
     "name": "stdout",
     "output_type": "stream",
     "text": [
      "+-------+-------+-----+\n",
      "|country|   city|value|\n",
      "+-------+-------+-----+\n",
      "|  India|   Pune|  100|\n",
      "|  India| Mumbai|  200|\n",
      "|  India|   Pune|  400|\n",
      "|  India| Mumbai|  200|\n",
      "|  India|   Pune|  600|\n",
      "| Europe|Germany|  300|\n",
      "| Europe|     NL|  100|\n",
      "+-------+-------+-----+\n",
      "\n"
     ]
    }
   ],
   "source": [
    "df = spark.read. \\\n",
    "    option(\"inferSchema\", \"true\"). \\\n",
    "    option(\"header\", \"true\"). \\\n",
    "    csv(\"/user/itv736079/new21.csv\")\n",
    "\n",
    "df.show()"
   ]
  },
  {
   "cell_type": "code",
   "execution_count": 3,
   "id": "e7d4816a",
   "metadata": {},
   "outputs": [],
   "source": [
    "df_new = spark.createDataFrame([(\"India\",\"Pune\",100),\n",
    "(\"India\",\"Mumbai\",200),\n",
    "(\"India\",\"Pune\",400),\n",
    "(\"India\",\"Mumbai\",200),\n",
    "(\"India\",\"Pune\",600),\n",
    "(\"Europe\",\"Germany\",300),\n",
    "(\"Europe\",\"NL\",100)], [\"country\",\"city\",\"value\"])"
   ]
  },
  {
   "cell_type": "code",
   "execution_count": 4,
   "id": "1c9420ad",
   "metadata": {},
   "outputs": [
    {
     "name": "stdout",
     "output_type": "stream",
     "text": [
      "+-------+-------+-----+\n",
      "|country|   city|value|\n",
      "+-------+-------+-----+\n",
      "|  India|   Pune|  100|\n",
      "|  India| Mumbai|  200|\n",
      "|  India|   Pune|  400|\n",
      "|  India| Mumbai|  200|\n",
      "|  India|   Pune|  600|\n",
      "| Europe|Germany|  300|\n",
      "| Europe|     NL|  100|\n",
      "+-------+-------+-----+\n",
      "\n"
     ]
    }
   ],
   "source": [
    "df_new.show()"
   ]
  },
  {
   "cell_type": "code",
   "execution_count": 5,
   "id": "7b1c9c45",
   "metadata": {},
   "outputs": [],
   "source": [
    "from pyspark.sql.functions import *\n",
    "from pyspark.sql import Window"
   ]
  },
  {
   "cell_type": "code",
   "execution_count": 6,
   "id": "8c727256",
   "metadata": {},
   "outputs": [],
   "source": [
    "df2 = df.filter((col(\"country\") == \"India\") & (col(\"city\") == \"Pune\")) \\\n",
    ".groupBy(\"country\", \"city\") \\\n",
    ".agg(sum(\"value\").alias(\"value\")) \\\n",
    ".union(df.filter(col(\"city\") !=  \"Pune\"))"
   ]
  },
  {
   "cell_type": "code",
   "execution_count": 7,
   "id": "521fda53",
   "metadata": {},
   "outputs": [
    {
     "name": "stdout",
     "output_type": "stream",
     "text": [
      "+-------+-------+-----+\n",
      "|country|   city|value|\n",
      "+-------+-------+-----+\n",
      "|  India|   Pune| 1100|\n",
      "|  India| Mumbai|  200|\n",
      "|  India| Mumbai|  200|\n",
      "| Europe|Germany|  300|\n",
      "| Europe|     NL|  100|\n",
      "+-------+-------+-----+\n",
      "\n"
     ]
    }
   ],
   "source": [
    "df2.show()"
   ]
  },
  {
   "cell_type": "code",
   "execution_count": 11,
   "id": "71b3e21a",
   "metadata": {},
   "outputs": [
    {
     "name": "stdout",
     "output_type": "stream",
     "text": [
      "+-------+-------+-----+\n",
      "|country|   city|value|\n",
      "+-------+-------+-----+\n",
      "| Europe|Germany|  300|\n",
      "|  India| Mumbai|  400|\n",
      "|  India| Mumbai|  400|\n",
      "| Europe|     NL|  100|\n",
      "|  India|   Pune| 1100|\n",
      "|  India|   Pune| 1100|\n",
      "|  India|   Pune| 1100|\n",
      "+-------+-------+-----+\n",
      "\n"
     ]
    }
   ],
   "source": [
    "cal_window = Window.partitionBy([\"Country\", \"city\"])\n",
    "df3 = df \\\n",
    "    .withColumn(\"value\", sum(\"value\").over(Window.partitionBy(\"country\", \"city\"))) \n",
    "df3.show()"
   ]
  },
  {
   "cell_type": "code",
   "execution_count": 23,
   "id": "35e27e01",
   "metadata": {},
   "outputs": [
    {
     "name": "stdout",
     "output_type": "stream",
     "text": [
      "+-------+-------+-----+---+\n",
      "|country|   city|value| id|\n",
      "+-------+-------+-----+---+\n",
      "| Europe|Germany|  300|  0|\n",
      "|  India| Mumbai|  200|  0|\n",
      "|  India| Mumbai|  200|  0|\n",
      "| Europe|     NL|  100|  0|\n",
      "|  India|   Pune| 1100|  1|\n",
      "|  India|   Pune| 1100|  1|\n",
      "|  India|   Pune| 1100|  1|\n",
      "+-------+-------+-----+---+\n",
      "\n"
     ]
    }
   ],
   "source": [
    "\n",
    "df3 = df \\\n",
    "    .withColumn(\"id\", when(col(\"city\") == \"Pune\", 1).otherwise(0)) \\\n",
    "    .withColumn(\"value\", when(col(\"city\") == \"Pune\",  sum(\"value\").over(Window.partitionBy(\"country\", \"city\"))).otherwise(col(\"value\")))\n",
    "\n",
    "df3.show()"
   ]
  },
  {
   "cell_type": "code",
   "execution_count": null,
   "id": "e82ea0f8",
   "metadata": {},
   "outputs": [],
   "source": []
  }
 ],
 "metadata": {
  "kernelspec": {
   "display_name": "Pyspark 2",
   "language": "python",
   "name": "pyspark2"
  },
  "language_info": {
   "codemirror_mode": {
    "name": "ipython",
    "version": 3
   },
   "file_extension": ".py",
   "mimetype": "text/x-python",
   "name": "python",
   "nbconvert_exporter": "python",
   "pygments_lexer": "ipython3",
   "version": "3.6.12"
  }
 },
 "nbformat": 4,
 "nbformat_minor": 5
}
