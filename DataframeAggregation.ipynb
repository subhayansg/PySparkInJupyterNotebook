{
 "cells": [
  {
   "cell_type": "code",
   "execution_count": 1,
   "id": "76b463e3",
   "metadata": {},
   "outputs": [],
   "source": [
    "from pyspark.sql import SparkSession\n",
    "\n",
    "import getpass\n",
    "username = getpass.getuser()\n",
    "\n",
    "spark = SparkSession. \\\n",
    "    builder. \\\n",
    "    config('spark.ui.port', '0'). \\\n",
    "    config(\"spark.sql.warehouse.dir\", f\"/user/{username}/warehouse\"). \\\n",
    "    enableHiveSupport(). \\\n",
    "    appName(f'{username} | Python - Basic Transformations'). \\\n",
    "    master('yarn'). \\\n",
    "    getOrCreate()"
   ]
  },
  {
   "cell_type": "code",
   "execution_count": 2,
   "id": "981dfac0",
   "metadata": {},
   "outputs": [],
   "source": [
    "from pyspark.sql.functions import *"
   ]
  },
  {
   "cell_type": "code",
   "execution_count": 3,
   "id": "5cff582f",
   "metadata": {},
   "outputs": [],
   "source": [
    "airtraffic_path = \"/public/airtraffic_all/airtraffic-part/flightmonth=200801\""
   ]
  },
  {
   "cell_type": "code",
   "execution_count": 4,
   "id": "47156442",
   "metadata": {},
   "outputs": [],
   "source": [
    "airtraffic = spark. \\\n",
    "    read. \\\n",
    "    parquet(airtraffic_path)"
   ]
  },
  {
   "cell_type": "markdown",
   "id": "3bb2c32c",
   "metadata": {},
   "source": [
    "##### Get number of flights in the month of 2008 January."
   ]
  },
  {
   "cell_type": "code",
   "execution_count": 5,
   "id": "bf12c419",
   "metadata": {},
   "outputs": [
    {
     "data": {
      "text/plain": [
       "605659"
      ]
     },
     "execution_count": 5,
     "metadata": {},
     "output_type": "execute_result"
    }
   ],
   "source": [
    "airtraffic.count()"
   ]
  },
  {
   "cell_type": "code",
   "execution_count": 6,
   "id": "c0a5d3e3",
   "metadata": {},
   "outputs": [
    {
     "name": "stdout",
     "output_type": "stream",
     "text": [
      "+------+\n",
      "| count|\n",
      "+------+\n",
      "|605659|\n",
      "+------+\n",
      "\n"
     ]
    }
   ],
   "source": [
    "airtraffic.select(count(\"*\").alias('count')).show()"
   ]
  },
  {
   "cell_type": "code",
   "execution_count": 7,
   "id": "3f046b3c",
   "metadata": {},
   "outputs": [
    {
     "name": "stdout",
     "output_type": "stream",
     "text": [
      "+------+\n",
      "| count|\n",
      "+------+\n",
      "|605659|\n",
      "+------+\n",
      "\n"
     ]
    }
   ],
   "source": [
    "airtraffic.select(count(lit(1)).alias('count')).show()"
   ]
  },
  {
   "cell_type": "code",
   "execution_count": 8,
   "id": "5d646a33",
   "metadata": {},
   "outputs": [
    {
     "name": "stdout",
     "output_type": "stream",
     "text": [
      "+-------+------+------+------------------+\n",
      "|summary|  Year| Month|        DayOfMonth|\n",
      "+-------+------+------+------------------+\n",
      "|  count|605659|605659|            605659|\n",
      "|   mean|2008.0|   1.0|15.908469947610785|\n",
      "| stddev|   0.0|   0.0| 8.994294747375292|\n",
      "|    min|  2008|     1|                 1|\n",
      "|    max|  2008|     1|                31|\n",
      "+-------+------+------+------------------+\n",
      "\n"
     ]
    }
   ],
   "source": [
    "airtraffic. \\\n",
    "    select('Year', 'Month', 'DayOfMonth'). \\\n",
    "    describe(). \\\n",
    "    show()"
   ]
  },
  {
   "cell_type": "code",
   "execution_count": 9,
   "id": "df7f2a84",
   "metadata": {},
   "outputs": [
    {
     "name": "stdout",
     "output_type": "stream",
     "text": [
      "+-------+------+------+------------------+\n",
      "|summary|  Year| Month|        DayOfMonth|\n",
      "+-------+------+------+------------------+\n",
      "|  count|605659|605659|            605659|\n",
      "|   mean|2008.0|   1.0|15.908469947610785|\n",
      "| stddev|   0.0|   0.0| 8.994294747375292|\n",
      "|    min|  2008|     1|                 1|\n",
      "|    25%|  2008|     1|                 8|\n",
      "|    50%|  2008|     1|                16|\n",
      "|    75%|  2008|     1|                24|\n",
      "|    max|  2008|     1|                31|\n",
      "+-------+------+------+------------------+\n",
      "\n"
     ]
    }
   ],
   "source": [
    "airtraffic. \\\n",
    "    select('Year', 'Month', 'DayOfMonth'). \\\n",
    "    summary(). \\\n",
    "    show()"
   ]
  },
  {
   "cell_type": "markdown",
   "id": "02f1599a",
   "metadata": {},
   "source": [
    "##### Get number of distinct dates from airtraffic data frame which is created using 2008 January data."
   ]
  },
  {
   "cell_type": "code",
   "execution_count": 10,
   "id": "a0374011",
   "metadata": {},
   "outputs": [
    {
     "data": {
      "text/plain": [
       "31"
      ]
     },
     "execution_count": 10,
     "metadata": {},
     "output_type": "execute_result"
    }
   ],
   "source": [
    "airtraffic. \\\n",
    "    select('Year', 'Month', 'DayOfMonth'). \\\n",
    "    distinct(). \\\n",
    "    count()"
   ]
  },
  {
   "cell_type": "code",
   "execution_count": 11,
   "id": "539ec566",
   "metadata": {},
   "outputs": [
    {
     "name": "stdout",
     "output_type": "stream",
     "text": [
      "+--------------+\n",
      "|distinct dates|\n",
      "+--------------+\n",
      "|            31|\n",
      "+--------------+\n",
      "\n"
     ]
    }
   ],
   "source": [
    "airtraffic. \\\n",
    "    select(countDistinct('Year', 'Month', 'DayOfMonth').alias('distinct dates')). \\\n",
    "    show()"
   ]
  },
  {
   "cell_type": "markdown",
   "id": "bd4c1bad",
   "metadata": {},
   "source": [
    "##### Get the total bonus amount from employees data set. "
   ]
  },
  {
   "cell_type": "code",
   "execution_count": 12,
   "id": "b7a740c1",
   "metadata": {},
   "outputs": [],
   "source": [
    "employees = [(1, \"Scott\", \"Tiger\", 1000.0, 10,\n",
    "                      \"united states\", \"+1 123 456 7890\", \"123 45 6789\"\n",
    "                     ),\n",
    "                     (2, \"Henry\", \"Ford\", 1250.0, None,\n",
    "                      \"India\", \"+91 234 567 8901\", \"456 78 9123\"\n",
    "                     ),\n",
    "                     (3, \"Nick\", \"Junior\", 750.0, '',\n",
    "                      \"united KINGDOM\", \"+44 111 111 1111\", \"222 33 4444\"\n",
    "                     ),\n",
    "                     (4, \"Bill\", \"Gomes\", 1500.0, 10,\n",
    "                      \"AUSTRALIA\", \"+61 987 654 3210\", \"789 12 6118\"\n",
    "                     )\n",
    "                ]"
   ]
  },
  {
   "cell_type": "code",
   "execution_count": 13,
   "id": "42d8b622",
   "metadata": {},
   "outputs": [],
   "source": [
    "employeesDF = spark. \\\n",
    "    createDataFrame(employees,\n",
    "                    schema=\"\"\"employee_id INT, first_name STRING, \n",
    "                    last_name STRING, salary FLOAT, bonus STRING, nationality STRING,\n",
    "                    phone_number STRING, ssn STRING\"\"\"\n",
    "                   )"
   ]
  },
  {
   "cell_type": "code",
   "execution_count": 14,
   "id": "022f0272",
   "metadata": {},
   "outputs": [
    {
     "name": "stdout",
     "output_type": "stream",
     "text": [
      "+-----------+----------+---------+------+-----+--------------+----------------+-----------+\n",
      "|employee_id|first_name|last_name|salary|bonus|   nationality|    phone_number|        ssn|\n",
      "+-----------+----------+---------+------+-----+--------------+----------------+-----------+\n",
      "|          1|     Scott|    Tiger|1000.0|   10| united states| +1 123 456 7890|123 45 6789|\n",
      "|          2|     Henry|     Ford|1250.0| null|         India|+91 234 567 8901|456 78 9123|\n",
      "|          3|      Nick|   Junior| 750.0|     |united KINGDOM|+44 111 111 1111|222 33 4444|\n",
      "|          4|      Bill|    Gomes|1500.0|   10|     AUSTRALIA|+61 987 654 3210|789 12 6118|\n",
      "+-----------+----------+---------+------+-----+--------------+----------------+-----------+\n",
      "\n"
     ]
    }
   ],
   "source": [
    "employeesDF.show()"
   ]
  },
  {
   "cell_type": "code",
   "execution_count": 15,
   "id": "3032f4eb",
   "metadata": {},
   "outputs": [
    {
     "name": "stdout",
     "output_type": "stream",
     "text": [
      "+-----------+\n",
      "|total_bonus|\n",
      "+-----------+\n",
      "|      250.0|\n",
      "+-----------+\n",
      "\n"
     ]
    }
   ],
   "source": [
    "employeesDF. \\\n",
    "    select(sum(\n",
    "                coalesce(col(\"bonus\").cast('int'), lit(0)) * col(\"salary\") / 100\n",
    "              ).alias('total_bonus')\n",
    "          ). \\\n",
    "    show()"
   ]
  },
  {
   "cell_type": "code",
   "execution_count": 16,
   "id": "d409ce3f",
   "metadata": {},
   "outputs": [
    {
     "name": "stdout",
     "output_type": "stream",
     "text": [
      "+-----------+\n",
      "|total_bonus|\n",
      "+-----------+\n",
      "|      250.0|\n",
      "+-----------+\n",
      "\n"
     ]
    }
   ],
   "source": [
    "employeesDF. \\\n",
    "    selectExpr('sum((coalesce(cast(bonus AS INT), 0) * salary) / 100) AS total_bonus'). \\\n",
    "    show()"
   ]
  },
  {
   "cell_type": "markdown",
   "id": "2b87e378",
   "metadata": {},
   "source": [
    "##### Get revenue generated for a given order from order_items."
   ]
  },
  {
   "cell_type": "code",
   "execution_count": 17,
   "id": "f6323a4b",
   "metadata": {},
   "outputs": [],
   "source": [
    "order_items = spark.read.json('/public/retail_db_json/order_items')"
   ]
  },
  {
   "cell_type": "code",
   "execution_count": 18,
   "id": "44b0fcac",
   "metadata": {},
   "outputs": [
    {
     "name": "stdout",
     "output_type": "stream",
     "text": [
      "+-------------+-------------------+---------------------+------------------------+-------------------+-------------------+\n",
      "|order_item_id|order_item_order_id|order_item_product_id|order_item_product_price|order_item_quantity|order_item_subtotal|\n",
      "+-------------+-------------------+---------------------+------------------------+-------------------+-------------------+\n",
      "|1            |1                  |957                  |299.98                  |1                  |299.98             |\n",
      "|2            |2                  |1073                 |199.99                  |1                  |199.99             |\n",
      "|3            |2                  |502                  |50.0                    |5                  |250.0              |\n",
      "|4            |2                  |403                  |129.99                  |1                  |129.99             |\n",
      "|5            |4                  |897                  |24.99                   |2                  |49.98              |\n",
      "|6            |4                  |365                  |59.99                   |5                  |299.95             |\n",
      "|7            |4                  |502                  |50.0                    |3                  |150.0              |\n",
      "|8            |4                  |1014                 |49.98                   |4                  |199.92             |\n",
      "|9            |5                  |957                  |299.98                  |1                  |299.98             |\n",
      "|10           |5                  |365                  |59.99                   |5                  |299.95             |\n",
      "+-------------+-------------------+---------------------+------------------------+-------------------+-------------------+\n",
      "only showing top 10 rows\n",
      "\n"
     ]
    }
   ],
   "source": [
    "order_items.show(10, truncate=False)"
   ]
  },
  {
   "cell_type": "code",
   "execution_count": 25,
   "id": "01f03c9b",
   "metadata": {},
   "outputs": [
    {
     "name": "stdin",
     "output_type": "stream",
     "text": [
      "Enter order_id: 2\n"
     ]
    }
   ],
   "source": [
    "order_id = input('Enter order_id:')"
   ]
  },
  {
   "cell_type": "code",
   "execution_count": 26,
   "id": "78a04642",
   "metadata": {},
   "outputs": [
    {
     "name": "stdout",
     "output_type": "stream",
     "text": [
      "+-------------+-------------------+---------------------+------------------------+-------------------+-------------------+\n",
      "|order_item_id|order_item_order_id|order_item_product_id|order_item_product_price|order_item_quantity|order_item_subtotal|\n",
      "+-------------+-------------------+---------------------+------------------------+-------------------+-------------------+\n",
      "|            2|                  2|                 1073|                  199.99|                  1|             199.99|\n",
      "|            3|                  2|                  502|                    50.0|                  5|              250.0|\n",
      "|            4|                  2|                  403|                  129.99|                  1|             129.99|\n",
      "+-------------+-------------------+---------------------+------------------------+-------------------+-------------------+\n",
      "\n"
     ]
    }
   ],
   "source": [
    "order_items. \\\n",
    "    filter(f'order_item_order_id = {int(order_id)}'). \\\n",
    "    show()"
   ]
  },
  {
   "cell_type": "code",
   "execution_count": 27,
   "id": "8afdd910",
   "metadata": {},
   "outputs": [
    {
     "name": "stdout",
     "output_type": "stream",
     "text": [
      "+-------------+\n",
      "|order_revenue|\n",
      "+-------------+\n",
      "|       579.98|\n",
      "+-------------+\n",
      "\n"
     ]
    }
   ],
   "source": [
    "order_items. \\\n",
    "    filter(f'order_item_order_id = {int(order_id)}'). \\\n",
    "    select(sum(\"order_item_subtotal\").alias(\"order_revenue\")). \\\n",
    "    show()"
   ]
  },
  {
   "cell_type": "code",
   "execution_count": 28,
   "id": "3460a8b2",
   "metadata": {},
   "outputs": [
    {
     "name": "stdout",
     "output_type": "stream",
     "text": [
      "+-------------+\n",
      "|order_revenue|\n",
      "+-------------+\n",
      "|       579.98|\n",
      "+-------------+\n",
      "\n"
     ]
    }
   ],
   "source": [
    "order_items. \\\n",
    "    filter(col('order_item_order_id') == lit(int(order_id))). \\\n",
    "    select(sum('order_item_subtotal').alias('order_revenue')). \\\n",
    "    show()"
   ]
  },
  {
   "cell_type": "markdown",
   "id": "cfe689e6",
   "metadata": {},
   "source": [
    "#### Aggregate data using groupBy"
   ]
  },
  {
   "cell_type": "markdown",
   "id": "8c53eecb",
   "metadata": {},
   "source": [
    "##### Get number of flights scheduled each day for the month of January 2008"
   ]
  },
  {
   "cell_type": "code",
   "execution_count": 29,
   "id": "02bbc92a",
   "metadata": {},
   "outputs": [
    {
     "name": "stdout",
     "output_type": "stream",
     "text": [
      "+----------+-----+\n",
      "|FlightDate|count|\n",
      "+----------+-----+\n",
      "|2008-01-20|18653|\n",
      "|2008-01-25|20313|\n",
      "|2008-01-26|16276|\n",
      "|2008-01-17|20273|\n",
      "|2008-01-01|19175|\n",
      "|2008-01-09|19820|\n",
      "|2008-01-02|20953|\n",
      "|2008-01-14|20176|\n",
      "|2008-01-30|19766|\n",
      "|2008-01-24|20257|\n",
      "|2008-01-06|19893|\n",
      "|2008-01-12|16572|\n",
      "|2008-01-08|19603|\n",
      "|2008-01-19|16249|\n",
      "|2008-01-29|19485|\n",
      "|2008-01-22|19504|\n",
      "|2008-01-03|20937|\n",
      "|2008-01-21|20133|\n",
      "|2008-01-04|20929|\n",
      "|2008-01-18|20347|\n",
      "|2008-01-11|20349|\n",
      "|2008-01-07|20341|\n",
      "|2008-01-27|18903|\n",
      "|2008-01-05|18066|\n",
      "|2008-01-10|20297|\n",
      "|2008-01-23|19769|\n",
      "|2008-01-13|18946|\n",
      "|2008-01-16|19764|\n",
      "|2008-01-31|20260|\n",
      "|2008-01-15|19503|\n",
      "|2008-01-28|20147|\n",
      "+----------+-----+\n",
      "\n"
     ]
    }
   ],
   "source": [
    "airtraffic. \\\n",
    "    groupBy(to_date(concat(\"year\",\n",
    "                           lpad(\"Month\", 2, \"0\"),\n",
    "                           lpad(\"DayOfMonth\", 2, \"0\")\n",
    "                          ) , 'yyyyMMdd'\n",
    "                  ).alias(\"FlightDate\")\n",
    "           ). \\\n",
    "    count(). \\\n",
    "    show(31)"
   ]
  },
  {
   "cell_type": "code",
   "execution_count": 30,
   "id": "9d44b490",
   "metadata": {},
   "outputs": [
    {
     "name": "stdout",
     "output_type": "stream",
     "text": [
      "+----------+-----------+\n",
      "|FlightDate|FlightCount|\n",
      "+----------+-----------+\n",
      "|2008-01-20|      18653|\n",
      "|2008-01-25|      20313|\n",
      "|2008-01-26|      16276|\n",
      "|2008-01-17|      20273|\n",
      "|2008-01-01|      19175|\n",
      "|2008-01-09|      19820|\n",
      "|2008-01-02|      20953|\n",
      "|2008-01-14|      20176|\n",
      "|2008-01-30|      19766|\n",
      "|2008-01-24|      20257|\n",
      "|2008-01-06|      19893|\n",
      "|2008-01-12|      16572|\n",
      "|2008-01-08|      19603|\n",
      "|2008-01-19|      16249|\n",
      "|2008-01-29|      19485|\n",
      "|2008-01-22|      19504|\n",
      "|2008-01-03|      20937|\n",
      "|2008-01-21|      20133|\n",
      "|2008-01-04|      20929|\n",
      "|2008-01-18|      20347|\n",
      "|2008-01-11|      20349|\n",
      "|2008-01-07|      20341|\n",
      "|2008-01-27|      18903|\n",
      "|2008-01-05|      18066|\n",
      "|2008-01-10|      20297|\n",
      "|2008-01-23|      19769|\n",
      "|2008-01-13|      18946|\n",
      "|2008-01-16|      19764|\n",
      "|2008-01-31|      20260|\n",
      "|2008-01-15|      19503|\n",
      "|2008-01-28|      20147|\n",
      "+----------+-----------+\n",
      "\n"
     ]
    }
   ],
   "source": [
    "airtraffic. \\\n",
    "    groupBy(to_date(concat(\"year\",\n",
    "                           lpad(\"Month\", 2, \"0\"),\n",
    "                           lpad(\"DayOfMonth\", 2, \"0\")\n",
    "                          ) , 'yyyyMMdd'\n",
    "                  ).alias(\"FlightDate\")\n",
    "           ). \\\n",
    "    agg(count(lit(1)).alias(\"FlightCount\")). \\\n",
    "    show(31)"
   ]
  },
  {
   "cell_type": "markdown",
   "id": "71a5fb5e",
   "metadata": {},
   "source": [
    "##### Get count of flights departed, total departure delay and average departure delay for each day over the month of January 2008"
   ]
  },
  {
   "cell_type": "code",
   "execution_count": 31,
   "id": "51139650",
   "metadata": {},
   "outputs": [
    {
     "name": "stdout",
     "output_type": "stream",
     "text": [
      "+----------+-----------+-------------+---------------+\n",
      "|FlightDate|FlightCount|TotalDepDelay|AverageDepDelay|\n",
      "+----------+-----------+-------------+---------------+\n",
      "|2008-01-20|      18406|     117460.0|           6.38|\n",
      "|2008-01-25|      19787|     229850.0|          11.62|\n",
      "|2008-01-26|      15860|      92129.0|           5.81|\n",
      "|2008-01-17|      19401|     341271.0|          17.59|\n",
      "|2008-01-01|      18623|     354108.0|          19.01|\n",
      "|2008-01-09|      19443|      89595.0|           4.61|\n",
      "|2008-01-02|      20442|     452979.0|          22.16|\n",
      "|2008-01-14|      19267|      98261.0|            5.1|\n",
      "|2008-01-30|      19072|     129345.0|           6.78|\n",
      "|2008-01-24|      19935|     158134.0|           7.93|\n",
      "|2008-01-06|      19210|     323214.0|          16.83|\n",
      "|2008-01-12|      16346|      24876.0|           1.52|\n",
      "|2008-01-08|      19140|     200670.0|          10.48|\n",
      "|2008-01-19|      15373|     155488.0|          10.11|\n",
      "|2008-01-29|      18596|     184855.0|           9.94|\n",
      "|2008-01-22|      18716|     303796.0|          16.23|\n",
      "|2008-01-03|      20462|     329690.0|          16.11|\n",
      "|2008-01-21|      19658|     370196.0|          18.83|\n",
      "|2008-01-04|      20160|     277373.0|          13.76|\n",
      "|2008-01-18|      20117|     223738.0|          11.12|\n",
      "|2008-01-11|      19825|     190918.0|           9.63|\n",
      "|2008-01-07|      19762|     238431.0|          12.07|\n",
      "|2008-01-27|      18265|     365491.0|          20.01|\n",
      "|2008-01-05|      17610|     306068.0|          17.38|\n",
      "|2008-01-10|      19956|     148603.0|           7.45|\n",
      "|2008-01-23|      19239|     190807.0|           9.92|\n",
      "|2008-01-13|      18587|     101753.0|           5.47|\n",
      "|2008-01-16|      19232|      61021.0|           3.17|\n",
      "|2008-01-31|      19179|     396280.0|          20.66|\n",
      "|2008-01-15|      19204|      75096.0|           3.91|\n",
      "|2008-01-28|      19493|     220046.0|          11.29|\n",
      "+----------+-----------+-------------+---------------+\n",
      "\n"
     ]
    }
   ],
   "source": [
    "airtraffic. \\\n",
    "    filter('Cancelled = 0'). \\\n",
    "    groupBy(to_date(concat(\"year\",\n",
    "                           lpad(\"Month\", 2, \"0\"),\n",
    "                           lpad(\"DayOfMonth\", 2, \"0\")\n",
    "                          ) , 'yyyyMMdd'\n",
    "                  ).alias(\"FlightDate\")\n",
    "           ). \\\n",
    "    agg(\n",
    "        count(lit(1)).alias(\"FlightCount\"),\n",
    "        sum('DepDelay').alias('TotalDepDelay'),\n",
    "        round(avg('DepDelay'), 2).alias('AverageDepDelay')\n",
    "    ). \\\n",
    "    show(31)"
   ]
  },
  {
   "cell_type": "markdown",
   "id": "79ed7cec",
   "metadata": {},
   "source": [
    "##### Using order_items, get revenue for each order."
   ]
  },
  {
   "cell_type": "code",
   "execution_count": 32,
   "id": "74922cc5",
   "metadata": {},
   "outputs": [
    {
     "name": "stdout",
     "output_type": "stream",
     "text": [
      "+-------------------+------------------------+\n",
      "|order_item_order_id|sum(order_item_subtotal)|\n",
      "+-------------------+------------------------+\n",
      "|                 29|                 1109.85|\n",
      "|                474|       774.8199999999999|\n",
      "|                964|       739.8800000000001|\n",
      "|               1677|       649.9200000000001|\n",
      "|               1806|                  789.94|\n",
      "|               1950|      1015.8700000000001|\n",
      "|               2214|                  449.96|\n",
      "|               2250|                  889.94|\n",
      "|               2453|       999.9300000000001|\n",
      "|               2509|                  889.94|\n",
      "|               2529|                   59.99|\n",
      "|               2927|       999.9100000000001|\n",
      "|               3091|      469.93000000000006|\n",
      "|               3764|                   95.98|\n",
      "|               4590|                  949.83|\n",
      "|               4894|                  899.94|\n",
      "|               5385|                  629.86|\n",
      "|               5409|       699.9200000000001|\n",
      "|               6721|                  139.99|\n",
      "|               7225|                  774.86|\n",
      "+-------------------+------------------------+\n",
      "only showing top 20 rows\n",
      "\n"
     ]
    }
   ],
   "source": [
    "order_items. \\\n",
    "    groupBy('order_item_order_id'). \\\n",
    "    sum('order_item_subtotal'). \\\n",
    "    show()"
   ]
  },
  {
   "cell_type": "code",
   "execution_count": 33,
   "id": "e34694c9",
   "metadata": {},
   "outputs": [
    {
     "name": "stdout",
     "output_type": "stream",
     "text": [
      "+-------------------+-----------------+\n",
      "|order_item_order_id|revenue_per_order|\n",
      "+-------------------+-----------------+\n",
      "|                 29|          1109.85|\n",
      "|                474|           774.82|\n",
      "|                964|           739.88|\n",
      "|               1677|           649.92|\n",
      "|               1806|           789.94|\n",
      "|               1950|          1015.87|\n",
      "|               2214|           449.96|\n",
      "|               2250|           889.94|\n",
      "|               2453|           999.93|\n",
      "|               2509|           889.94|\n",
      "|               2529|            59.99|\n",
      "|               2927|           999.91|\n",
      "|               3091|           469.93|\n",
      "|               3764|            95.98|\n",
      "|               4590|           949.83|\n",
      "|               4894|           899.94|\n",
      "|               5385|           629.86|\n",
      "|               5409|           699.92|\n",
      "|               6721|           139.99|\n",
      "|               7225|           774.86|\n",
      "+-------------------+-----------------+\n",
      "only showing top 20 rows\n",
      "\n"
     ]
    }
   ],
   "source": [
    "order_items. \\\n",
    "    groupBy('order_item_order_id'). \\\n",
    "    agg(round(sum('order_item_subtotal'), 2).alias('revenue_per_order')). \\\n",
    "    show()"
   ]
  },
  {
   "cell_type": "markdown",
   "id": "fa0174aa",
   "metadata": {},
   "source": [
    "##### Get min and max order_item_subtotal for each order id."
   ]
  },
  {
   "cell_type": "code",
   "execution_count": 34,
   "id": "d41dde22",
   "metadata": {},
   "outputs": [
    {
     "name": "stdout",
     "output_type": "stream",
     "text": [
      "+-------------------+-----------------+-----------------------+-----------------------+\n",
      "|order_item_order_id|revenue_per_order|order_item_subtotal_min|order_item_subtotal_max|\n",
      "+-------------------+-----------------+-----------------------+-----------------------+\n",
      "|                 29|          1109.85|                 129.99|                 399.98|\n",
      "|                474|           774.82|                  24.99|                 199.99|\n",
      "|                964|           739.88|                 129.99|                 299.98|\n",
      "|               1677|           649.92|                   50.0|                  250.0|\n",
      "|               1806|           789.94|                  150.0|                 399.98|\n",
      "|               1950|          1015.87|                  87.96|                 399.98|\n",
      "|               2214|           449.96|                   50.0|                 399.96|\n",
      "|               2250|           889.94|                  59.99|                 399.98|\n",
      "|               2453|           999.93|                  100.0|                 299.98|\n",
      "|               2509|           889.94|                  59.99|                 399.98|\n",
      "+-------------------+-----------------+-----------------------+-----------------------+\n",
      "only showing top 10 rows\n",
      "\n"
     ]
    }
   ],
   "source": [
    "order_items. \\\n",
    "    groupBy('order_item_order_id'). \\\n",
    "    agg(\n",
    "        round(sum('order_item_subtotal'), 2).alias('revenue_per_order'),\n",
    "        min('order_item_subtotal').alias('order_item_subtotal_min'),\n",
    "        max('order_item_subtotal').alias('order_item_subtotal_max')\n",
    "    ). \\\n",
    "    show(10)"
   ]
  },
  {
   "cell_type": "markdown",
   "id": "c661a4df",
   "metadata": {},
   "source": [
    "#### RollUp"
   ]
  },
  {
   "cell_type": "code",
   "execution_count": null,
   "id": "2eb799e3",
   "metadata": {},
   "outputs": [],
   "source": []
  },
  {
   "cell_type": "markdown",
   "id": "0278a2b0",
   "metadata": {},
   "source": [
    "#### Sorting Data Frames"
   ]
  },
  {
   "cell_type": "markdown",
   "id": "d92bffbd",
   "metadata": {},
   "source": [
    "##### Get daily count of cancelled flights where data is sorted in ascending order by count of cancelled flights."
   ]
  },
  {
   "cell_type": "code",
   "execution_count": 35,
   "id": "a005f785",
   "metadata": {},
   "outputs": [
    {
     "name": "stdout",
     "output_type": "stream",
     "text": [
      "+----------+--------------------+\n",
      "|FlightDate|CancelledFlightCount|\n",
      "+----------+--------------------+\n",
      "|2008-01-12|                 226|\n",
      "|2008-01-18|                 230|\n",
      "|2008-01-20|                 247|\n",
      "|2008-01-15|                 299|\n",
      "|2008-01-24|                 322|\n",
      "|2008-01-10|                 341|\n",
      "|2008-01-13|                 359|\n",
      "|2008-01-09|                 377|\n",
      "|2008-01-26|                 416|\n",
      "|2008-01-05|                 456|\n",
      "+----------+--------------------+\n",
      "only showing top 10 rows\n",
      "\n"
     ]
    }
   ],
   "source": [
    "airtraffic. \\\n",
    "    filter('cancelled = 1'). \\\n",
    "    groupBy(to_date(concat(\"year\",\n",
    "                           lpad(\"Month\", 2, \"0\"),\n",
    "                           lpad(\"DayOfMonth\", 2, \"0\")\n",
    "                          ) , 'yyyyMMdd'\n",
    "                  ).alias(\"FlightDate\")\n",
    "           ). \\\n",
    "    agg(count(lit(1)).alias('CancelledFlightCount')). \\\n",
    "    orderBy('CancelledFlightCount'). \\\n",
    "    show(10)"
   ]
  },
  {
   "cell_type": "code",
   "execution_count": 36,
   "id": "a7e43626",
   "metadata": {},
   "outputs": [
    {
     "name": "stdout",
     "output_type": "stream",
     "text": [
      "+----------+-----------+\n",
      "|FlightDate|FlightCount|\n",
      "+----------+-----------+\n",
      "|2008-01-12|        226|\n",
      "|2008-01-18|        230|\n",
      "|2008-01-20|        247|\n",
      "|2008-01-15|        299|\n",
      "|2008-01-24|        322|\n",
      "|2008-01-10|        341|\n",
      "|2008-01-13|        359|\n",
      "|2008-01-09|        377|\n",
      "|2008-01-26|        416|\n",
      "|2008-01-05|        456|\n",
      "+----------+-----------+\n",
      "only showing top 10 rows\n",
      "\n"
     ]
    }
   ],
   "source": [
    "airtraffic. \\\n",
    "    filter('cancelled = 1'). \\\n",
    "    groupBy(to_date(concat(\"year\",\n",
    "                           lpad(\"Month\", 2, \"0\"),\n",
    "                           lpad(\"DayOfMonth\", 2, \"0\")\n",
    "                          ) , 'yyyyMMdd'\n",
    "                  ).alias(\"FlightDate\")\n",
    "           ). \\\n",
    "    agg(count(lit(1)).alias('FlightCount')). \\\n",
    "    orderBy(col('FlightCount').asc()). \\\n",
    "    show(10)"
   ]
  },
  {
   "cell_type": "markdown",
   "id": "d3277021",
   "metadata": {},
   "source": [
    "##### Get daily count of cancelled flights where data is sorted in descending order by count of cancelled flights."
   ]
  },
  {
   "cell_type": "code",
   "execution_count": 37,
   "id": "623cb471",
   "metadata": {},
   "outputs": [
    {
     "name": "stdout",
     "output_type": "stream",
     "text": [
      "+----------+-----------+\n",
      "|FlightDate|FlightCount|\n",
      "+----------+-----------+\n",
      "|2008-01-31|       1081|\n",
      "|2008-01-14|        909|\n",
      "|2008-01-29|        889|\n",
      "|2008-01-19|        876|\n",
      "|2008-01-17|        872|\n",
      "|2008-01-22|        788|\n",
      "|2008-01-04|        769|\n",
      "|2008-01-30|        694|\n",
      "|2008-01-06|        683|\n",
      "|2008-01-28|        654|\n",
      "+----------+-----------+\n",
      "only showing top 10 rows\n",
      "\n"
     ]
    }
   ],
   "source": [
    "airtraffic. \\\n",
    "    filter('cancelled = 1'). \\\n",
    "    groupBy(to_date(concat(\"year\",\n",
    "                           lpad(\"Month\", 2, \"0\"),\n",
    "                           lpad(\"DayOfMonth\", 2, \"0\")\n",
    "                          ) , 'yyyyMMdd'\n",
    "                  ).alias(\"FlightDate\")\n",
    "           ). \\\n",
    "    agg(count(lit(1)).alias('FlightCount')). \\\n",
    "    orderBy(col('FlightCount').desc()). \\\n",
    "    show(10)"
   ]
  },
  {
   "cell_type": "markdown",
   "id": "e2676367",
   "metadata": {},
   "source": [
    "##### Project Year, Month, DayOfMonth, CRSDepTime and Origin for this task.\n",
    "\n",
    "##### Sort the data based up on year, month, day of month and then using scheduled time. Data should be sorted in ascending order by year, month and day of month then in descending order by scheduled time."
   ]
  },
  {
   "cell_type": "code",
   "execution_count": 38,
   "id": "3a638102",
   "metadata": {},
   "outputs": [
    {
     "name": "stdout",
     "output_type": "stream",
     "text": [
      "+----+-----+----------+----------+------+\n",
      "|Year|Month|DayOfMonth|CRSDepTime|Origin|\n",
      "+----+-----+----------+----------+------+\n",
      "|2008|    1|         1|        10|   LAX|\n",
      "|2008|    1|         1|        15|   SMF|\n",
      "|2008|    1|         1|        25|   SMF|\n",
      "|2008|    1|         1|        25|   PHX|\n",
      "|2008|    1|         1|        30|   LAX|\n",
      "|2008|    1|         1|        30|   ONT|\n",
      "|2008|    1|         1|        30|   LAS|\n",
      "|2008|    1|         1|        30|   ANC|\n",
      "|2008|    1|         1|        35|   MCO|\n",
      "|2008|    1|         1|        35|   SFO|\n",
      "+----+-----+----------+----------+------+\n",
      "only showing top 10 rows\n",
      "\n"
     ]
    }
   ],
   "source": [
    "airtraffic. \\\n",
    "    select('Year', 'Month', 'DayOfMonth', 'CRSDepTime', 'Origin'). \\\n",
    "    orderBy('Year', 'Month', 'DayOfMonth', 'CRSDepTime'). \\\n",
    "    show(10)"
   ]
  },
  {
   "cell_type": "code",
   "execution_count": 39,
   "id": "809d0a32",
   "metadata": {},
   "outputs": [
    {
     "name": "stdout",
     "output_type": "stream",
     "text": [
      "+----+-----+----------+----------+------+\n",
      "|Year|Month|DayOfMonth|CRSDepTime|Origin|\n",
      "+----+-----+----------+----------+------+\n",
      "|2008|    1|         1|      2359|   LAS|\n",
      "|2008|    1|         1|      2359|   LAS|\n",
      "|2008|    1|         1|      2359|   PHX|\n",
      "|2008|    1|         1|      2359|   LAS|\n",
      "|2008|    1|         1|      2359|   SLC|\n",
      "|2008|    1|         1|      2359|   LAS|\n",
      "|2008|    1|         1|      2359|   LAS|\n",
      "|2008|    1|         1|      2359|   TUS|\n",
      "|2008|    1|         1|      2359|   LAS|\n",
      "|2008|    1|         1|      2359|   LAS|\n",
      "+----+-----+----------+----------+------+\n",
      "only showing top 10 rows\n",
      "\n"
     ]
    }
   ],
   "source": [
    "airtraffic. \\\n",
    "    select('Year', 'Month', 'DayOfMonth', 'CRSDepTime', 'Origin'). \\\n",
    "    orderBy('Year', 'Month', 'DayOfMonth', col('CRSDepTime').desc()). \\\n",
    "    show(10)"
   ]
  },
  {
   "cell_type": "markdown",
   "id": "39314d9e",
   "metadata": {},
   "source": [
    "##### Get employees data in ascending order by nationality. However, data related to United States should come at top always."
   ]
  },
  {
   "cell_type": "code",
   "execution_count": 40,
   "id": "cd15e55c",
   "metadata": {},
   "outputs": [
    {
     "name": "stdout",
     "output_type": "stream",
     "text": [
      "+-----------+----------+---------+------+-----+--------------+----------------+-----------+\n",
      "|employee_id|first_name|last_name|salary|bonus|   nationality|    phone_number|        ssn|\n",
      "+-----------+----------+---------+------+-----+--------------+----------------+-----------+\n",
      "|          1|     Scott|    Tiger|1000.0|   10| united states| +1 123 456 7890|123 45 6789|\n",
      "|          2|     Henry|     Ford|1250.0| null|         India|+91 234 567 8901|456 78 9123|\n",
      "|          3|      Nick|   Junior| 750.0|     |united KINGDOM|+44 111 111 1111|222 33 4444|\n",
      "|          4|      Bill|    Gomes|1500.0|   10|     AUSTRALIA|+61 987 654 3210|789 12 6118|\n",
      "+-----------+----------+---------+------+-----+--------------+----------------+-----------+\n",
      "\n"
     ]
    }
   ],
   "source": [
    "employeesDF.show()"
   ]
  },
  {
   "cell_type": "code",
   "execution_count": 41,
   "id": "267540e6",
   "metadata": {},
   "outputs": [
    {
     "name": "stdout",
     "output_type": "stream",
     "text": [
      "+-----------+----------+---------+------+-----+--------------+----------------+-----------+-----------+\n",
      "|employee_id|first_name|last_name|salary|bonus|   nationality|    phone_number|        ssn|sort_column|\n",
      "+-----------+----------+---------+------+-----+--------------+----------------+-----------+-----------+\n",
      "|          1|     Scott|    Tiger|1000.0|   10| united states| +1 123 456 7890|123 45 6789|          0|\n",
      "|          4|      Bill|    Gomes|1500.0|   10|     AUSTRALIA|+61 987 654 3210|789 12 6118|          1|\n",
      "|          2|     Henry|     Ford|1250.0| null|         India|+91 234 567 8901|456 78 9123|          1|\n",
      "|          3|      Nick|   Junior| 750.0|     |united KINGDOM|+44 111 111 1111|222 33 4444|          1|\n",
      "+-----------+----------+---------+------+-----+--------------+----------------+-----------+-----------+\n",
      "\n"
     ]
    }
   ],
   "source": [
    "employeesDF. \\\n",
    "    withColumn('sort_column', when(upper(col('nationality')) == 'UNITED STATES', 0).otherwise(1)). \\\n",
    "    orderBy('sort_column', 'nationality'). \\\n",
    "    show()"
   ]
  },
  {
   "cell_type": "code",
   "execution_count": 42,
   "id": "014c6f16",
   "metadata": {},
   "outputs": [
    {
     "name": "stdout",
     "output_type": "stream",
     "text": [
      "+-----------+----------+---------+------+-----+--------------+----------------+-----------+-----------+\n",
      "|employee_id|first_name|last_name|salary|bonus|   nationality|    phone_number|        ssn|sort_column|\n",
      "+-----------+----------+---------+------+-----+--------------+----------------+-----------+-----------+\n",
      "|          1|     Scott|    Tiger|1000.0|   10| united states| +1 123 456 7890|123 45 6789|          0|\n",
      "|          4|      Bill|    Gomes|1500.0|   10|     AUSTRALIA|+61 987 654 3210|789 12 6118|          1|\n",
      "|          2|     Henry|     Ford|1250.0| null|         India|+91 234 567 8901|456 78 9123|          1|\n",
      "|          3|      Nick|   Junior| 750.0|     |united KINGDOM|+44 111 111 1111|222 33 4444|          1|\n",
      "+-----------+----------+---------+------+-----+--------------+----------------+-----------+-----------+\n",
      "\n"
     ]
    }
   ],
   "source": [
    "employeesDF. \\\n",
    "    withColumn(\n",
    "        'sort_column', \n",
    "        expr(\"\"\"CASE WHEN upper(nationality) = 'UNITED STATES' THEN 0 else 1 END\"\"\")\n",
    "    ). \\\n",
    "    orderBy('sort_column', 'nationality'). \\\n",
    "    show()"
   ]
  },
  {
   "cell_type": "markdown",
   "id": "0f9da885",
   "metadata": {},
   "source": [
    "##### Sort the data in employeesDF using bonus. Data should be sorted numerically and null and empty values should come at the end."
   ]
  },
  {
   "cell_type": "code",
   "execution_count": 43,
   "id": "dc2aa3dc",
   "metadata": {},
   "outputs": [
    {
     "name": "stdout",
     "output_type": "stream",
     "text": [
      "+-----------+----------+---------+------+-----+--------------+----------------+-----------+\n",
      "|employee_id|first_name|last_name|salary|bonus|   nationality|    phone_number|        ssn|\n",
      "+-----------+----------+---------+------+-----+--------------+----------------+-----------+\n",
      "|          2|     Henry|     Ford|1250.0| null|         India|+91 234 567 8901|456 78 9123|\n",
      "|          3|      Nick|   Junior| 750.0|     |united KINGDOM|+44 111 111 1111|222 33 4444|\n",
      "|          4|      Bill|    Gomes|1500.0|   10|     AUSTRALIA|+61 987 654 3210|789 12 6118|\n",
      "|          1|     Scott|    Tiger|1000.0|   10| united states| +1 123 456 7890|123 45 6789|\n",
      "+-----------+----------+---------+------+-----+--------------+----------------+-----------+\n",
      "\n"
     ]
    }
   ],
   "source": [
    "employeesDF. \\\n",
    "    orderBy('bonus'). \\\n",
    "    show()"
   ]
  },
  {
   "cell_type": "code",
   "execution_count": 44,
   "id": "ee685383",
   "metadata": {},
   "outputs": [
    {
     "name": "stdout",
     "output_type": "stream",
     "text": [
      "+-----------+----------+---------+------+-----+--------------+----------------+-----------+\n",
      "|employee_id|first_name|last_name|salary|bonus|   nationality|    phone_number|        ssn|\n",
      "+-----------+----------+---------+------+-----+--------------+----------------+-----------+\n",
      "|          2|     Henry|     Ford|1250.0| null|         India|+91 234 567 8901|456 78 9123|\n",
      "|          3|      Nick|   Junior| 750.0|     |united KINGDOM|+44 111 111 1111|222 33 4444|\n",
      "|          1|     Scott|    Tiger|1000.0|   10| united states| +1 123 456 7890|123 45 6789|\n",
      "|          4|      Bill|    Gomes|1500.0|   10|     AUSTRALIA|+61 987 654 3210|789 12 6118|\n",
      "+-----------+----------+---------+------+-----+--------------+----------------+-----------+\n",
      "\n"
     ]
    }
   ],
   "source": [
    "employeesDF. \\\n",
    "    orderBy(col('bonus').cast('int')). \\\n",
    "    show()"
   ]
  },
  {
   "cell_type": "code",
   "execution_count": 45,
   "id": "078d6380",
   "metadata": {},
   "outputs": [
    {
     "name": "stdout",
     "output_type": "stream",
     "text": [
      "+-----------+----------+---------+------+-----+--------------+----------------+-----------+\n",
      "|employee_id|first_name|last_name|salary|bonus|   nationality|    phone_number|        ssn|\n",
      "+-----------+----------+---------+------+-----+--------------+----------------+-----------+\n",
      "|          4|      Bill|    Gomes|1500.0|   10|     AUSTRALIA|+61 987 654 3210|789 12 6118|\n",
      "|          1|     Scott|    Tiger|1000.0|   10| united states| +1 123 456 7890|123 45 6789|\n",
      "|          3|      Nick|   Junior| 750.0|     |united KINGDOM|+44 111 111 1111|222 33 4444|\n",
      "|          2|     Henry|     Ford|1250.0| null|         India|+91 234 567 8901|456 78 9123|\n",
      "+-----------+----------+---------+------+-----+--------------+----------------+-----------+\n",
      "\n"
     ]
    }
   ],
   "source": [
    "employeesDF. \\\n",
    "    orderBy(employeesDF.bonus.cast('int').asc_nulls_last()). \\\n",
    "    show()"
   ]
  },
  {
   "cell_type": "code",
   "execution_count": null,
   "id": "626a00b4",
   "metadata": {},
   "outputs": [],
   "source": []
  },
  {
   "cell_type": "code",
   "execution_count": null,
   "id": "260bab3f",
   "metadata": {},
   "outputs": [],
   "source": []
  }
 ],
 "metadata": {
  "kernelspec": {
   "display_name": "Pyspark 2",
   "language": "python",
   "name": "pyspark2"
  },
  "language_info": {
   "codemirror_mode": {
    "name": "ipython",
    "version": 3
   },
   "file_extension": ".py",
   "mimetype": "text/x-python",
   "name": "python",
   "nbconvert_exporter": "python",
   "pygments_lexer": "ipython3",
   "version": "3.6.12"
  }
 },
 "nbformat": 4,
 "nbformat_minor": 5
}
