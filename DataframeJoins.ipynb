{
 "cells": [
  {
   "cell_type": "code",
   "execution_count": 1,
   "id": "dde97f00",
   "metadata": {},
   "outputs": [],
   "source": [
    "from pyspark.sql import SparkSession\n",
    "\n",
    "import getpass\n",
    "username = getpass.getuser()\n",
    "\n",
    "spark = SparkSession. \\\n",
    "    builder. \\\n",
    "    config('spark.ui.port', '0'). \\\n",
    "    config(\"spark.sql.warehouse.dir\", f\"/user/{username}/warehouse\"). \\\n",
    "    enableHiveSupport(). \\\n",
    "    appName(f'{username} | Python - Joining Data Sets'). \\\n",
    "    master('yarn'). \\\n",
    "    getOrCreate()"
   ]
  },
  {
   "cell_type": "code",
   "execution_count": 3,
   "id": "a47f79a7",
   "metadata": {},
   "outputs": [],
   "source": [
    "from pyspark.sql.functions import *"
   ]
  },
  {
   "cell_type": "code",
   "execution_count": 4,
   "id": "e9eed5ed",
   "metadata": {},
   "outputs": [
    {
     "name": "stdout",
     "output_type": "stream",
     "text": [
      "Found 3 items\n",
      "drwxr-xr-x   - hdfs supergroup          0 2021-03-02 19:48 /public/airtraffic_all/airport-codes\n",
      "drwxr-xr-x   - hdfs supergroup          0 2021-03-02 19:42 /public/airtraffic_all/airtraffic\n",
      "drwxr-xr-x   - hdfs supergroup          0 2021-03-02 19:48 /public/airtraffic_all/airtraffic-part\n"
     ]
    }
   ],
   "source": [
    "!hdfs dfs -ls /public/airtraffic_all"
   ]
  },
  {
   "cell_type": "code",
   "execution_count": 5,
   "id": "c3342b18",
   "metadata": {},
   "outputs": [],
   "source": [
    "airportCodesPath = \"/public/airtraffic_all/airport-codes\""
   ]
  },
  {
   "cell_type": "code",
   "execution_count": 6,
   "id": "9f8ac226",
   "metadata": {},
   "outputs": [],
   "source": [
    "# This data is tab separated\n",
    "\n",
    "airportCodes = spark. \\\n",
    "    read. \\\n",
    "    option(\"sep\", \"\\t\"). \\\n",
    "    option(\"header\", True). \\\n",
    "    option(\"inferSchema\", True). \\\n",
    "    csv(airportCodesPath)"
   ]
  },
  {
   "cell_type": "code",
   "execution_count": 7,
   "id": "a961cf61",
   "metadata": {},
   "outputs": [
    {
     "name": "stdout",
     "output_type": "stream",
     "text": [
      "root\n",
      " |-- City: string (nullable = true)\n",
      " |-- State: string (nullable = true)\n",
      " |-- Country: string (nullable = true)\n",
      " |-- IATA: string (nullable = true)\n",
      "\n"
     ]
    }
   ],
   "source": [
    "airportCodes.printSchema()"
   ]
  },
  {
   "cell_type": "code",
   "execution_count": 8,
   "id": "170c3a03",
   "metadata": {},
   "outputs": [
    {
     "name": "stdout",
     "output_type": "stream",
     "text": [
      "+-----------+-----+-------+----+\n",
      "|       City|State|Country|IATA|\n",
      "+-----------+-----+-------+----+\n",
      "| Abbotsford|   BC| Canada| YXX|\n",
      "|   Aberdeen|   SD|    USA| ABR|\n",
      "|    Abilene|   TX|    USA| ABI|\n",
      "|      Akron|   OH|    USA| CAK|\n",
      "|    Alamosa|   CO|    USA| ALS|\n",
      "|     Albany|   GA|    USA| ABY|\n",
      "|     Albany|   NY|    USA| ALB|\n",
      "|Albuquerque|   NM|    USA| ABQ|\n",
      "| Alexandria|   LA|    USA| AEX|\n",
      "|  Allentown|   PA|    USA| ABE|\n",
      "+-----------+-----+-------+----+\n",
      "only showing top 10 rows\n",
      "\n"
     ]
    }
   ],
   "source": [
    "airportCodes.show(10)"
   ]
  },
  {
   "cell_type": "code",
   "execution_count": 9,
   "id": "08a241b0",
   "metadata": {},
   "outputs": [
    {
     "data": {
      "text/plain": [
       "526"
      ]
     },
     "execution_count": 9,
     "metadata": {},
     "output_type": "execute_result"
    }
   ],
   "source": [
    "airportCodes.count()"
   ]
  },
  {
   "cell_type": "code",
   "execution_count": 18,
   "id": "7ccfaa48",
   "metadata": {},
   "outputs": [
    {
     "data": {
      "text/plain": [
       "524"
      ]
     },
     "execution_count": 18,
     "metadata": {},
     "output_type": "execute_result"
    }
   ],
   "source": [
    "# Get the count of unique records and see if it is the same as total count.\n",
    "\n",
    "airportCodes. \\\n",
    "    select('IATA'). \\\n",
    "    distinct(). \\\n",
    "    count()"
   ]
  },
  {
   "cell_type": "code",
   "execution_count": 20,
   "id": "3777e42d",
   "metadata": {},
   "outputs": [],
   "source": [
    "# Remove the duplicates\n",
    "\n",
    "duplicateRecords = airportCodes. \\\n",
    "                        groupBy('IATA'). \\\n",
    "                        agg(count(lit(1)).alias(\"countOfDuplicates\")). \\\n",
    "                        filter(\"countOfDuplicates > 1\")"
   ]
  },
  {
   "cell_type": "code",
   "execution_count": 21,
   "id": "8e211cd9",
   "metadata": {},
   "outputs": [
    {
     "name": "stdout",
     "output_type": "stream",
     "text": [
      "+----+-----------------+\n",
      "|IATA|countOfDuplicates|\n",
      "+----+-----------------+\n",
      "| Big|                3|\n",
      "+----+-----------------+\n",
      "\n"
     ]
    }
   ],
   "source": [
    "duplicateRecords.show()"
   ]
  },
  {
   "cell_type": "code",
   "execution_count": 22,
   "id": "471b2432",
   "metadata": {},
   "outputs": [
    {
     "name": "stdout",
     "output_type": "stream",
     "text": [
      "+-----------+------+-------+----+\n",
      "|       City| State|Country|IATA|\n",
      "+-----------+------+-------+----+\n",
      "|       Hilo|    HI|    USA| Big|\n",
      "|Kailua-Kona|Hawaii|    USA| Big|\n",
      "|    Kamuela|Hawaii|    USA| Big|\n",
      "+-----------+------+-------+----+\n",
      "\n"
     ]
    }
   ],
   "source": [
    "airportCodes. \\\n",
    "    filter(\"IATA = 'Big'\"). \\\n",
    "    show()"
   ]
  },
  {
   "cell_type": "code",
   "execution_count": 25,
   "id": "93a04d24",
   "metadata": {},
   "outputs": [
    {
     "name": "stdout",
     "output_type": "stream",
     "text": [
      "+-----------+-----+-------+----+\n",
      "|       City|State|Country|IATA|\n",
      "+-----------+-----+-------+----+\n",
      "| Abbotsford|   BC| Canada| YXX|\n",
      "|   Aberdeen|   SD|    USA| ABR|\n",
      "|    Abilene|   TX|    USA| ABI|\n",
      "|      Akron|   OH|    USA| CAK|\n",
      "|    Alamosa|   CO|    USA| ALS|\n",
      "|     Albany|   GA|    USA| ABY|\n",
      "|     Albany|   NY|    USA| ALB|\n",
      "|Albuquerque|   NM|    USA| ABQ|\n",
      "| Alexandria|   LA|    USA| AEX|\n",
      "|  Allentown|   PA|    USA| ABE|\n",
      "|   Alliance|   NE|    USA| AIA|\n",
      "|     Alpena|   MI|    USA| APN|\n",
      "|    Altoona|   PA|    USA| AOO|\n",
      "|   Amarillo|   TX|    USA| AMA|\n",
      "|Anahim Lake|   BC| Canada| YAA|\n",
      "|  Anchorage|   AK|    USA| ANC|\n",
      "|   Appleton|   WI|    USA| ATW|\n",
      "|     Arviat|  NWT| Canada| YEK|\n",
      "|  Asheville|   NC|    USA| AVL|\n",
      "|      Aspen|   CO|    USA| ASE|\n",
      "+-----------+-----+-------+----+\n",
      "only showing top 20 rows\n",
      "\n"
     ]
    }
   ],
   "source": [
    "airportCodes. \\\n",
    "    filter(\"!(State = 'Hawaii' AND IATA = 'Big')\"). \\\n",
    "    show()"
   ]
  },
  {
   "cell_type": "markdown",
   "id": "5ef367a8",
   "metadata": {},
   "source": [
    "##### Get number of airports (IATA Codes) for each state in the US. Sort the data in descending order by count."
   ]
  },
  {
   "cell_type": "code",
   "execution_count": 35,
   "id": "197b98ef",
   "metadata": {},
   "outputs": [],
   "source": [
    "airportCountByState = airportCodes. \\\n",
    "                            filter(\"Country = 'USA'\"). \\\n",
    "                            filter(\"!(State = 'Hawaii' AND IATA = 'Big')\"). \\\n",
    "                            groupBy('Country', 'State'). \\\n",
    "                            agg(count(lit(1)).alias(\"IATACount\")) . \\\n",
    "                            orderBy(col(\"IATACount\").desc())"
   ]
  },
  {
   "cell_type": "code",
   "execution_count": 36,
   "id": "4bfb3b14",
   "metadata": {},
   "outputs": [
    {
     "name": "stdout",
     "output_type": "stream",
     "text": [
      "+-------+-----+---------+\n",
      "|Country|State|IATACount|\n",
      "+-------+-----+---------+\n",
      "|    USA|   CA|       29|\n",
      "|    USA|   TX|       26|\n",
      "|    USA|   AK|       25|\n",
      "|    USA|   NY|       18|\n",
      "|    USA|   MI|       18|\n",
      "|    USA|   FL|       18|\n",
      "|    USA|   MT|       14|\n",
      "|    USA|   PA|       13|\n",
      "|    USA|   CO|       12|\n",
      "|    USA|   IL|       12|\n",
      "+-------+-----+---------+\n",
      "only showing top 10 rows\n",
      "\n"
     ]
    }
   ],
   "source": [
    "airportCountByState.show(10)"
   ]
  },
  {
   "cell_type": "code",
   "execution_count": 15,
   "id": "2cb32679",
   "metadata": {},
   "outputs": [],
   "source": [
    "airtraffic = spark. \\\n",
    "    read. \\\n",
    "    parquet(\"/public/airtraffic_all/airtraffic-part/flightmonth=200801\")"
   ]
  },
  {
   "cell_type": "code",
   "execution_count": 16,
   "id": "4113efab",
   "metadata": {},
   "outputs": [
    {
     "name": "stdout",
     "output_type": "stream",
     "text": [
      "root\n",
      " |-- Year: integer (nullable = true)\n",
      " |-- Month: integer (nullable = true)\n",
      " |-- DayofMonth: integer (nullable = true)\n",
      " |-- DayOfWeek: integer (nullable = true)\n",
      " |-- DepTime: string (nullable = true)\n",
      " |-- CRSDepTime: integer (nullable = true)\n",
      " |-- ArrTime: string (nullable = true)\n",
      " |-- CRSArrTime: integer (nullable = true)\n",
      " |-- UniqueCarrier: string (nullable = true)\n",
      " |-- FlightNum: integer (nullable = true)\n",
      " |-- TailNum: string (nullable = true)\n",
      " |-- ActualElapsedTime: string (nullable = true)\n",
      " |-- CRSElapsedTime: integer (nullable = true)\n",
      " |-- AirTime: string (nullable = true)\n",
      " |-- ArrDelay: string (nullable = true)\n",
      " |-- DepDelay: string (nullable = true)\n",
      " |-- Origin: string (nullable = true)\n",
      " |-- Dest: string (nullable = true)\n",
      " |-- Distance: string (nullable = true)\n",
      " |-- TaxiIn: string (nullable = true)\n",
      " |-- TaxiOut: string (nullable = true)\n",
      " |-- Cancelled: integer (nullable = true)\n",
      " |-- CancellationCode: string (nullable = true)\n",
      " |-- Diverted: integer (nullable = true)\n",
      " |-- CarrierDelay: string (nullable = true)\n",
      " |-- WeatherDelay: string (nullable = true)\n",
      " |-- NASDelay: string (nullable = true)\n",
      " |-- SecurityDelay: string (nullable = true)\n",
      " |-- LateAircraftDelay: string (nullable = true)\n",
      " |-- IsArrDelayed: string (nullable = true)\n",
      " |-- IsDepDelayed: string (nullable = true)\n",
      "\n"
     ]
    }
   ],
   "source": [
    "airtraffic.printSchema()"
   ]
  },
  {
   "cell_type": "code",
   "execution_count": 10,
   "id": "d7b32e2d",
   "metadata": {},
   "outputs": [],
   "source": [
    "orders = spark.read.json('/public/retail_db_json/orders')"
   ]
  },
  {
   "cell_type": "code",
   "execution_count": 11,
   "id": "f94621a3",
   "metadata": {},
   "outputs": [
    {
     "name": "stdout",
     "output_type": "stream",
     "text": [
      "root\n",
      " |-- order_customer_id: long (nullable = true)\n",
      " |-- order_date: string (nullable = true)\n",
      " |-- order_id: long (nullable = true)\n",
      " |-- order_status: string (nullable = true)\n",
      "\n"
     ]
    }
   ],
   "source": [
    "orders.printSchema()"
   ]
  },
  {
   "cell_type": "code",
   "execution_count": 13,
   "id": "81ffd2c3",
   "metadata": {},
   "outputs": [
    {
     "name": "stdout",
     "output_type": "stream",
     "text": [
      "+-----------------+---------------------+--------+---------------+\n",
      "|order_customer_id|order_date           |order_id|order_status   |\n",
      "+-----------------+---------------------+--------+---------------+\n",
      "|11599            |2013-07-25 00:00:00.0|1       |CLOSED         |\n",
      "|256              |2013-07-25 00:00:00.0|2       |PENDING_PAYMENT|\n",
      "|12111            |2013-07-25 00:00:00.0|3       |COMPLETE       |\n",
      "|8827             |2013-07-25 00:00:00.0|4       |CLOSED         |\n",
      "|11318            |2013-07-25 00:00:00.0|5       |COMPLETE       |\n",
      "|7130             |2013-07-25 00:00:00.0|6       |COMPLETE       |\n",
      "|4530             |2013-07-25 00:00:00.0|7       |COMPLETE       |\n",
      "|2911             |2013-07-25 00:00:00.0|8       |PROCESSING     |\n",
      "|5657             |2013-07-25 00:00:00.0|9       |PENDING_PAYMENT|\n",
      "|5648             |2013-07-25 00:00:00.0|10      |PENDING_PAYMENT|\n",
      "+-----------------+---------------------+--------+---------------+\n",
      "only showing top 10 rows\n",
      "\n"
     ]
    }
   ],
   "source": [
    "orders.show(10, truncate=False)"
   ]
  },
  {
   "cell_type": "code",
   "execution_count": 14,
   "id": "e50c2079",
   "metadata": {},
   "outputs": [
    {
     "data": {
      "text/plain": [
       "68883"
      ]
     },
     "execution_count": 14,
     "metadata": {},
     "output_type": "execute_result"
    }
   ],
   "source": [
    "orders.count()"
   ]
  },
  {
   "cell_type": "code",
   "execution_count": 37,
   "id": "a6afebc0",
   "metadata": {},
   "outputs": [],
   "source": [
    "order_items = spark.read.json('/public/retail_db_json/order_items')"
   ]
  },
  {
   "cell_type": "code",
   "execution_count": 38,
   "id": "61164357",
   "metadata": {},
   "outputs": [
    {
     "name": "stdout",
     "output_type": "stream",
     "text": [
      "root\n",
      " |-- order_item_id: long (nullable = true)\n",
      " |-- order_item_order_id: long (nullable = true)\n",
      " |-- order_item_product_id: long (nullable = true)\n",
      " |-- order_item_product_price: double (nullable = true)\n",
      " |-- order_item_quantity: long (nullable = true)\n",
      " |-- order_item_subtotal: double (nullable = true)\n",
      "\n"
     ]
    }
   ],
   "source": [
    "order_items.printSchema()"
   ]
  },
  {
   "cell_type": "code",
   "execution_count": 39,
   "id": "4f5cf707",
   "metadata": {},
   "outputs": [],
   "source": [
    "# To avoid 200 shuffle partitions\n",
    "\n",
    "spark.conf.set(\"spark.sql.shuffle.partitions\", \"2\")"
   ]
  },
  {
   "cell_type": "markdown",
   "id": "b7b8550f",
   "metadata": {},
   "source": [
    "##### Inner join"
   ]
  },
  {
   "cell_type": "code",
   "execution_count": 40,
   "id": "99d4e91a",
   "metadata": {},
   "outputs": [],
   "source": [
    "joinCondition = orders.order_id == order_items.order_item_order_id\n",
    "\n",
    "joinType = \"inner\"\n",
    "\n",
    "joinedOrders = orders.join(order_items, joinCondition, joinType)"
   ]
  },
  {
   "cell_type": "code",
   "execution_count": 41,
   "id": "475a8e73",
   "metadata": {},
   "outputs": [
    {
     "name": "stdout",
     "output_type": "stream",
     "text": [
      "+-----------------+--------------------+--------+---------------+-------------+-------------------+---------------------+------------------------+-------------------+-------------------+\n",
      "|order_customer_id|          order_date|order_id|   order_status|order_item_id|order_item_order_id|order_item_product_id|order_item_product_price|order_item_quantity|order_item_subtotal|\n",
      "+-----------------+--------------------+--------+---------------+-------------+-------------------+---------------------+------------------------+-------------------+-------------------+\n",
      "|            11599|2013-07-25 00:00:...|       1|         CLOSED|            1|                  1|                  957|                  299.98|                  1|             299.98|\n",
      "|              256|2013-07-25 00:00:...|       2|PENDING_PAYMENT|            2|                  2|                 1073|                  199.99|                  1|             199.99|\n",
      "|              256|2013-07-25 00:00:...|       2|PENDING_PAYMENT|            3|                  2|                  502|                    50.0|                  5|              250.0|\n",
      "|              256|2013-07-25 00:00:...|       2|PENDING_PAYMENT|            4|                  2|                  403|                  129.99|                  1|             129.99|\n",
      "|             8827|2013-07-25 00:00:...|       4|         CLOSED|            5|                  4|                  897|                   24.99|                  2|              49.98|\n",
      "+-----------------+--------------------+--------+---------------+-------------+-------------------+---------------------+------------------------+-------------------+-------------------+\n",
      "only showing top 5 rows\n",
      "\n"
     ]
    }
   ],
   "source": [
    "joinedOrders.show(5)"
   ]
  },
  {
   "cell_type": "markdown",
   "id": "01731168",
   "metadata": {},
   "source": [
    "##### Project all the fields from orders and then order_item_subtotal from order_items."
   ]
  },
  {
   "cell_type": "code",
   "execution_count": 43,
   "id": "c3f594b4",
   "metadata": {},
   "outputs": [
    {
     "name": "stdout",
     "output_type": "stream",
     "text": [
      "+-----------------+--------------------+--------+---------------+-------------------+\n",
      "|order_customer_id|          order_date|order_id|   order_status|order_item_subtotal|\n",
      "+-----------------+--------------------+--------+---------------+-------------------+\n",
      "|            11599|2013-07-25 00:00:...|       1|         CLOSED|             299.98|\n",
      "|              256|2013-07-25 00:00:...|       2|PENDING_PAYMENT|             199.99|\n",
      "|              256|2013-07-25 00:00:...|       2|PENDING_PAYMENT|              250.0|\n",
      "|              256|2013-07-25 00:00:...|       2|PENDING_PAYMENT|             129.99|\n",
      "|             8827|2013-07-25 00:00:...|       4|         CLOSED|              49.98|\n",
      "|             8827|2013-07-25 00:00:...|       4|         CLOSED|             299.95|\n",
      "|             8827|2013-07-25 00:00:...|       4|         CLOSED|              150.0|\n",
      "|             8827|2013-07-25 00:00:...|       4|         CLOSED|             199.92|\n",
      "|            11318|2013-07-25 00:00:...|       5|       COMPLETE|             299.98|\n",
      "|            11318|2013-07-25 00:00:...|       5|       COMPLETE|             299.95|\n",
      "+-----------------+--------------------+--------+---------------+-------------------+\n",
      "only showing top 10 rows\n",
      "\n"
     ]
    }
   ],
   "source": [
    "orders. \\\n",
    "    join(\n",
    "        order_items, \n",
    "        on=orders['order_id'] == order_items['order_item_order_id'],\n",
    "        how='inner'\n",
    "    ). \\\n",
    "    select(orders['*'], order_items['order_item_subtotal']). \\\n",
    "    show(10)"
   ]
  },
  {
   "cell_type": "code",
   "execution_count": null,
   "id": "378286e7",
   "metadata": {},
   "outputs": [],
   "source": []
  }
 ],
 "metadata": {
  "kernelspec": {
   "display_name": "Pyspark 2",
   "language": "python",
   "name": "pyspark2"
  },
  "language_info": {
   "codemirror_mode": {
    "name": "ipython",
    "version": 3
   },
   "file_extension": ".py",
   "mimetype": "text/x-python",
   "name": "python",
   "nbconvert_exporter": "python",
   "pygments_lexer": "ipython3",
   "version": "3.6.12"
  }
 },
 "nbformat": 4,
 "nbformat_minor": 5
}
