{
 "cells": [
  {
   "cell_type": "code",
   "execution_count": 1,
   "id": "bdc364e5",
   "metadata": {},
   "outputs": [],
   "source": [
    "from pyspark.sql import SparkSession\n",
    "\n",
    "import getpass\n",
    "username = getpass.getuser()\n",
    "\n",
    "spark = SparkSession. \\\n",
    "    builder. \\\n",
    "    config('spark.ui.port', '0'). \\\n",
    "    config(\"spark.sql.warehouse.dir\", f\"/user/{username}/warehouse\"). \\\n",
    "    enableHiveSupport(). \\\n",
    "    appName(f'{username} | Python - Basic Transformations'). \\\n",
    "    master('yarn'). \\\n",
    "    getOrCreate()"
   ]
  },
  {
   "cell_type": "code",
   "execution_count": 2,
   "id": "9bef9150",
   "metadata": {},
   "outputs": [],
   "source": [
    "data = [(67532, \"9876543210:1234567890\"),\n",
    "(67890, \"876543210:123456780\"),\n",
    "(67980, \"765432190:1234567980\")\n",
    "]"
   ]
  },
  {
   "cell_type": "code",
   "execution_count": 3,
   "id": "76a81483",
   "metadata": {},
   "outputs": [],
   "source": [
    "df = spark.createDataFrame(data, [\"A\", \"B\"])"
   ]
  },
  {
   "cell_type": "code",
   "execution_count": 4,
   "id": "bb532bcc",
   "metadata": {},
   "outputs": [
    {
     "name": "stdout",
     "output_type": "stream",
     "text": [
      "+-----+---------------------+\n",
      "|A    |B                    |\n",
      "+-----+---------------------+\n",
      "|67532|9876543210:1234567890|\n",
      "|67890|876543210:123456780  |\n",
      "|67980|765432190:1234567980 |\n",
      "+-----+---------------------+\n",
      "\n"
     ]
    }
   ],
   "source": [
    "df.show(truncate=False)"
   ]
  },
  {
   "cell_type": "code",
   "execution_count": 5,
   "id": "4d1080a7",
   "metadata": {},
   "outputs": [],
   "source": [
    "from pyspark.sql.functions import *"
   ]
  },
  {
   "cell_type": "code",
   "execution_count": 6,
   "id": "03ca4654",
   "metadata": {},
   "outputs": [],
   "source": [
    "df2 = df.select(\"A\",explode(split(col(\"B\"), \":\")).alias(\"B\"))\n",
    "\n",
    "df3 = df.select(explode(split(col(\"B\"), \":\")).alias(\"B\"))"
   ]
  },
  {
   "cell_type": "code",
   "execution_count": 7,
   "id": "cc64ec04",
   "metadata": {},
   "outputs": [
    {
     "name": "stdout",
     "output_type": "stream",
     "text": [
      "+-----+----------+\n",
      "|    A|         B|\n",
      "+-----+----------+\n",
      "|67532|9876543210|\n",
      "|67532|1234567890|\n",
      "|67890| 876543210|\n",
      "|67890| 123456780|\n",
      "|67980| 765432190|\n",
      "|67980|1234567980|\n",
      "+-----+----------+\n",
      "\n"
     ]
    }
   ],
   "source": [
    "df2.show()"
   ]
  },
  {
   "cell_type": "code",
   "execution_count": 8,
   "id": "ba8c0b4b",
   "metadata": {},
   "outputs": [
    {
     "name": "stdout",
     "output_type": "stream",
     "text": [
      "+----------+\n",
      "|         B|\n",
      "+----------+\n",
      "|9876543210|\n",
      "|1234567890|\n",
      "| 876543210|\n",
      "| 123456780|\n",
      "| 765432190|\n",
      "|1234567980|\n",
      "+----------+\n",
      "\n"
     ]
    }
   ],
   "source": [
    "df3.show()"
   ]
  },
  {
   "cell_type": "code",
   "execution_count": 9,
   "id": "fb5d005e",
   "metadata": {},
   "outputs": [
    {
     "name": "stdout",
     "output_type": "stream",
     "text": [
      "H|ID|NAME|SALARY|LOCATION\n",
      "101|ABC|10|HYD\n",
      "102|BCD|20|CHE\n",
      "103|KLO|30|MUM\n",
      "104|UIN|40|BLR\n",
      "105|GPA|50|PUN\n",
      "T|5\n"
     ]
    }
   ],
   "source": [
    "%%sh\n",
    "\n",
    "cat new22.csv"
   ]
  },
  {
   "cell_type": "code",
   "execution_count": 10,
   "id": "2fc24dfa",
   "metadata": {},
   "outputs": [],
   "source": [
    "df = spark.read.option(\"header\", \"true\").option(\"delimiter\", \"|\").csv(\"new22.csv\")"
   ]
  },
  {
   "cell_type": "code",
   "execution_count": 11,
   "id": "0bb03a7b",
   "metadata": {},
   "outputs": [
    {
     "name": "stdout",
     "output_type": "stream",
     "text": [
      "+---+---+----+------+--------+\n",
      "|  H| ID|NAME|SALARY|LOCATION|\n",
      "+---+---+----+------+--------+\n",
      "|101|ABC|  10|   HYD|    null|\n",
      "|102|BCD|  20|   CHE|    null|\n",
      "|103|KLO|  30|   MUM|    null|\n",
      "|104|UIN|  40|   BLR|    null|\n",
      "|105|GPA|  50|   PUN|    null|\n",
      "|  T|  5|null|  null|    null|\n",
      "+---+---+----+------+--------+\n",
      "\n"
     ]
    }
   ],
   "source": [
    "df.show()"
   ]
  },
  {
   "cell_type": "code",
   "execution_count": 12,
   "id": "f5706767",
   "metadata": {},
   "outputs": [
    {
     "data": {
      "text/plain": [
       "'H'"
      ]
     },
     "execution_count": 12,
     "metadata": {},
     "output_type": "execute_result"
    }
   ],
   "source": [
    "cols = df.columns\n",
    "cols.pop(0)"
   ]
  },
  {
   "cell_type": "code",
   "execution_count": 13,
   "id": "5af0d0f3",
   "metadata": {},
   "outputs": [
    {
     "data": {
      "text/plain": [
       "['ID', 'NAME', 'SALARY', 'LOCATION']"
      ]
     },
     "execution_count": 13,
     "metadata": {},
     "output_type": "execute_result"
    }
   ],
   "source": [
    "cols"
   ]
  },
  {
   "cell_type": "code",
   "execution_count": 14,
   "id": "d8d33f17",
   "metadata": {},
   "outputs": [
    {
     "data": {
      "text/plain": [
       "['H', 'ID', 'NAME', 'SALARY']"
      ]
     },
     "execution_count": 14,
     "metadata": {},
     "output_type": "execute_result"
    }
   ],
   "source": [
    "df.columns[:-1]"
   ]
  },
  {
   "cell_type": "code",
   "execution_count": 15,
   "id": "90efe985",
   "metadata": {},
   "outputs": [
    {
     "data": {
      "text/plain": [
       "['H', 'ID', 'NAME', 'SALARY', 'LOCATION']"
      ]
     },
     "execution_count": 15,
     "metadata": {},
     "output_type": "execute_result"
    }
   ],
   "source": [
    "df.columns"
   ]
  },
  {
   "cell_type": "code",
   "execution_count": 16,
   "id": "730cc523",
   "metadata": {},
   "outputs": [],
   "source": [
    "new_list = []\n",
    "for i, old_col in enumerate(df.columns[:-1]):\n",
    "  new_list.append(col(old_col).alias(cols[i]))"
   ]
  },
  {
   "cell_type": "code",
   "execution_count": 17,
   "id": "ae0d770b",
   "metadata": {},
   "outputs": [
    {
     "name": "stdout",
     "output_type": "stream",
     "text": [
      "0H\n",
      "1ID\n",
      "2NAME\n",
      "3SALARY\n"
     ]
    }
   ],
   "source": [
    "for i, old_col in enumerate(df.columns[:-1]):\n",
    "    print(str(i)+old_col)"
   ]
  },
  {
   "cell_type": "code",
   "execution_count": 18,
   "id": "82ebe9a0",
   "metadata": {},
   "outputs": [
    {
     "data": {
      "text/plain": [
       "[Column<b'H AS `ID`'>,\n",
       " Column<b'ID AS `NAME`'>,\n",
       " Column<b'NAME AS `SALARY`'>,\n",
       " Column<b'SALARY AS `LOCATION`'>]"
      ]
     },
     "execution_count": 18,
     "metadata": {},
     "output_type": "execute_result"
    }
   ],
   "source": [
    "new_list"
   ]
  },
  {
   "cell_type": "code",
   "execution_count": 19,
   "id": "cb858045",
   "metadata": {},
   "outputs": [
    {
     "name": "stdout",
     "output_type": "stream",
     "text": [
      "+---+----+------+--------+\n",
      "| ID|NAME|SALARY|LOCATION|\n",
      "+---+----+------+--------+\n",
      "|101| ABC|    10|     HYD|\n",
      "|102| BCD|    20|     CHE|\n",
      "|103| KLO|    30|     MUM|\n",
      "|104| UIN|    40|     BLR|\n",
      "|105| GPA|    50|     PUN|\n",
      "|  T|   5|  null|    null|\n",
      "+---+----+------+--------+\n",
      "\n"
     ]
    }
   ],
   "source": [
    "df = df.select(*new_list)\n",
    "\n",
    "df.show()"
   ]
  },
  {
   "cell_type": "code",
   "execution_count": 20,
   "id": "e967259c",
   "metadata": {},
   "outputs": [
    {
     "name": "stdout",
     "output_type": "stream",
     "text": [
      "total records as per footer 5\n"
     ]
    }
   ],
   "source": [
    "total_records_footer = df.filter(col('ID')=='T').head().NAME\n",
    "print('total records as per footer', total_records_footer)"
   ]
  },
  {
   "cell_type": "code",
   "execution_count": 21,
   "id": "0363cd5f",
   "metadata": {},
   "outputs": [],
   "source": [
    "df = df.filter('ID != \"T\"')"
   ]
  },
  {
   "cell_type": "code",
   "execution_count": 22,
   "id": "49a4a412",
   "metadata": {},
   "outputs": [
    {
     "name": "stdout",
     "output_type": "stream",
     "text": [
      "+---+----+------+--------+\n",
      "| ID|NAME|SALARY|LOCATION|\n",
      "+---+----+------+--------+\n",
      "|101| ABC|    10|     HYD|\n",
      "|102| BCD|    20|     CHE|\n",
      "|103| KLO|    30|     MUM|\n",
      "|104| UIN|    40|     BLR|\n",
      "|105| GPA|    50|     PUN|\n",
      "+---+----+------+--------+\n",
      "\n"
     ]
    }
   ],
   "source": [
    "df.show()"
   ]
  },
  {
   "cell_type": "code",
   "execution_count": 23,
   "id": "41f1d265",
   "metadata": {},
   "outputs": [
    {
     "name": "stdout",
     "output_type": "stream",
     "text": [
      "count is matching\n"
     ]
    }
   ],
   "source": [
    "total_count = df.count()\n",
    "if int(total_records_footer) == int(total_count):\n",
    "  print(\"count is matching\")"
   ]
  },
  {
   "cell_type": "code",
   "execution_count": 24,
   "id": "f04c1216",
   "metadata": {},
   "outputs": [
    {
     "data": {
      "text/plain": [
       "5"
      ]
     },
     "execution_count": 24,
     "metadata": {},
     "output_type": "execute_result"
    }
   ],
   "source": [
    "total_count"
   ]
  },
  {
   "cell_type": "markdown",
   "id": "ceb5dde6",
   "metadata": {},
   "source": [
    "### using RDD"
   ]
  },
  {
   "cell_type": "code",
   "execution_count": 25,
   "id": "a3aabc09",
   "metadata": {},
   "outputs": [],
   "source": [
    "rdd1 = spark.sparkContext.textFile(\"new22.csv\")"
   ]
  },
  {
   "cell_type": "code",
   "execution_count": 26,
   "id": "8a2a2c04",
   "metadata": {},
   "outputs": [
    {
     "data": {
      "text/plain": [
       "['H|ID|NAME|SALARY|LOCATION',\n",
       " '101|ABC|10|HYD',\n",
       " '102|BCD|20|CHE',\n",
       " '103|KLO|30|MUM',\n",
       " '104|UIN|40|BLR',\n",
       " '105|GPA|50|PUN',\n",
       " 'T|5']"
      ]
     },
     "execution_count": 26,
     "metadata": {},
     "output_type": "execute_result"
    }
   ],
   "source": [
    "rdd1.collect()"
   ]
  },
  {
   "cell_type": "code",
   "execution_count": 27,
   "id": "b748b6d4",
   "metadata": {},
   "outputs": [],
   "source": [
    "count = rdd1.count()"
   ]
  },
  {
   "cell_type": "code",
   "execution_count": 28,
   "id": "3831df26",
   "metadata": {},
   "outputs": [],
   "source": [
    "filt_df = rdd1.zipWithIndex(). \\\n",
    "    filter(lambda x: x[1] >0 and x[1] != count-1). \\\n",
    "    map(lambda x: x[0]). \\\n",
    "    map(lambda x: x.split(\"|\")). \\\n",
    "    toDF([\"ID\", \"NAME\", \"SALARY\", \"LOCATION\"])"
   ]
  },
  {
   "cell_type": "code",
   "execution_count": 29,
   "id": "4f9ac357",
   "metadata": {},
   "outputs": [
    {
     "name": "stdout",
     "output_type": "stream",
     "text": [
      "+---+----+------+--------+\n",
      "| ID|NAME|SALARY|LOCATION|\n",
      "+---+----+------+--------+\n",
      "|101| ABC|    10|     HYD|\n",
      "|102| BCD|    20|     CHE|\n",
      "|103| KLO|    30|     MUM|\n",
      "|104| UIN|    40|     BLR|\n",
      "|105| GPA|    50|     PUN|\n",
      "+---+----+------+--------+\n",
      "\n"
     ]
    }
   ],
   "source": [
    "filt_df.show()"
   ]
  },
  {
   "cell_type": "code",
   "execution_count": 30,
   "id": "9cf89d6c",
   "metadata": {},
   "outputs": [
    {
     "name": "stdout",
     "output_type": "stream",
     "text": [
      "+---+----+------+--------+\n",
      "| ID|NAME|SALARY|LOCATION|\n",
      "+---+----+------+--------+\n",
      "|101| ABC|    10|     HYD|\n",
      "|102| BCD|    20|     CHE|\n",
      "|103| KLO|    30|     MUM|\n",
      "|104| UIN|    40|     BLR|\n",
      "|105| GPA|    50|     PUN|\n",
      "+---+----+------+--------+\n",
      "\n"
     ]
    }
   ],
   "source": [
    "df.show()"
   ]
  }
 ],
 "metadata": {
  "kernelspec": {
   "display_name": "Pyspark 3",
   "language": "python",
   "name": "pyspark3"
  },
  "language_info": {
   "codemirror_mode": {
    "name": "ipython",
    "version": 3
   },
   "file_extension": ".py",
   "mimetype": "text/x-python",
   "name": "python",
   "nbconvert_exporter": "python",
   "pygments_lexer": "ipython3",
   "version": "3.6.12"
  }
 },
 "nbformat": 4,
 "nbformat_minor": 5
}
