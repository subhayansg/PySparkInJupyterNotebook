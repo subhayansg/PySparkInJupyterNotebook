{
 "cells": [
  {
   "cell_type": "code",
   "execution_count": 1,
   "id": "8f643b69",
   "metadata": {},
   "outputs": [],
   "source": [
    "from pyspark.sql import SparkSession\n",
    "\n",
    "import getpass\n",
    "username = getpass.getuser()\n",
    "\n",
    "spark = SparkSession. \\\n",
    "    builder. \\\n",
    "    config('spark.ui.port', '0'). \\\n",
    "    config(\"spark.sql.warehouse.dir\", f\"/user/{username}/warehouse\"). \\\n",
    "    enableHiveSupport(). \\\n",
    "    appName(f'{username} | Python - Processing Column Data'). \\\n",
    "    master('yarn'). \\\n",
    "    getOrCreate()"
   ]
  },
  {
   "cell_type": "code",
   "execution_count": 2,
   "id": "95464d37",
   "metadata": {},
   "outputs": [],
   "source": [
    "from pyspark.sql.functions import *"
   ]
  },
  {
   "cell_type": "code",
   "execution_count": 3,
   "id": "3f4de832",
   "metadata": {},
   "outputs": [],
   "source": [
    "# Creating a dummy dataframe for checking functions\n",
    "l = [(\"X\", )]\n",
    "\n",
    "df = spark.createDataFrame(l, \"dummy STRING\")"
   ]
  },
  {
   "cell_type": "code",
   "execution_count": 4,
   "id": "943b4966",
   "metadata": {},
   "outputs": [
    {
     "name": "stdout",
     "output_type": "stream",
     "text": [
      "+----------+\n",
      "|   to_date|\n",
      "+----------+\n",
      "|2021-02-28|\n",
      "+----------+\n",
      "\n"
     ]
    }
   ],
   "source": [
    "df.select(to_date(lit('20210228'), 'yyyyMMdd').alias('to_date')).show()    # with format"
   ]
  },
  {
   "cell_type": "code",
   "execution_count": 5,
   "id": "24121957",
   "metadata": {},
   "outputs": [
    {
     "name": "stdout",
     "output_type": "stream",
     "text": [
      "+-------+\n",
      "|to_date|\n",
      "+-------+\n",
      "|   null|\n",
      "+-------+\n",
      "\n"
     ]
    }
   ],
   "source": [
    "df.select(to_date(lit('20210228')).alias('to_date')).show() # format=None"
   ]
  },
  {
   "cell_type": "code",
   "execution_count": 6,
   "id": "4d9e45df",
   "metadata": {},
   "outputs": [
    {
     "name": "stdout",
     "output_type": "stream",
     "text": [
      "+----------+\n",
      "|   to_date|\n",
      "+----------+\n",
      "|2021-02-28|\n",
      "+----------+\n",
      "\n"
     ]
    }
   ],
   "source": [
    "df.select(to_date(lit('2021-02-28')).alias('to_date')).show() # format=None, default format"
   ]
  },
  {
   "cell_type": "code",
   "execution_count": 7,
   "id": "db275332",
   "metadata": {},
   "outputs": [
    {
     "name": "stdout",
     "output_type": "stream",
     "text": [
      "+-------+\n",
      "|to_date|\n",
      "+-------+\n",
      "|      8|\n",
      "+-------+\n",
      "\n"
     ]
    }
   ],
   "source": [
    "df.select(datediff(lit('2021-02-28'), lit('2021-02-20')).alias('to_date')).show()"
   ]
  },
  {
   "cell_type": "code",
   "execution_count": 8,
   "id": "d453e2c2",
   "metadata": {},
   "outputs": [
    {
     "name": "stdout",
     "output_type": "stream",
     "text": [
      "+-------+\n",
      "|to_date|\n",
      "+-------+\n",
      "|     -8|\n",
      "+-------+\n",
      "\n"
     ]
    }
   ],
   "source": [
    "df.select(datediff(lit('2021-02-20'), lit('2021-02-28')).alias('to_date')).show()"
   ]
  },
  {
   "cell_type": "code",
   "execution_count": 9,
   "id": "b064bbba",
   "metadata": {},
   "outputs": [
    {
     "name": "stdout",
     "output_type": "stream",
     "text": [
      "+-------+\n",
      "|to_date|\n",
      "+-------+\n",
      "|     28|\n",
      "+-------+\n",
      "\n"
     ]
    }
   ],
   "source": [
    "df.select(dayofmonth(lit('2021-02-28')).alias('to_date')).show()"
   ]
  },
  {
   "cell_type": "code",
   "execution_count": null,
   "id": "c1400e33",
   "metadata": {},
   "outputs": [],
   "source": []
  }
 ],
 "metadata": {
  "kernelspec": {
   "display_name": "Pyspark 3",
   "language": "python",
   "name": "pyspark3"
  },
  "language_info": {
   "codemirror_mode": {
    "name": "ipython",
    "version": 3
   },
   "file_extension": ".py",
   "mimetype": "text/x-python",
   "name": "python",
   "nbconvert_exporter": "python",
   "pygments_lexer": "ipython3",
   "version": "3.6.12"
  }
 },
 "nbformat": 4,
 "nbformat_minor": 5
}
