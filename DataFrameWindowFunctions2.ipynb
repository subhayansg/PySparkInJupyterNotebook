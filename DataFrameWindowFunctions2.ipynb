{
 "cells": [
  {
   "cell_type": "code",
   "execution_count": 1,
   "id": "ede7e29d",
   "metadata": {},
   "outputs": [],
   "source": [
    "from pyspark.sql import SparkSession\n",
    "\n",
    "import getpass\n",
    "username = getpass.getuser()\n",
    "\n",
    "spark = SparkSession. \\\n",
    "    builder. \\\n",
    "    config('spark.ui.port', '0'). \\\n",
    "    config(\"spark.sql.warehouse.dir\", f\"/user/{username}/warehouse\"). \\\n",
    "    enableHiveSupport(). \\\n",
    "    appName(f'{username} | Python - Data Processing - Overview'). \\\n",
    "    master('yarn'). \\\n",
    "    getOrCreate()"
   ]
  },
  {
   "cell_type": "code",
   "execution_count": 2,
   "id": "375479c3",
   "metadata": {},
   "outputs": [],
   "source": [
    "data = [(\"sales\", 1, 5000),\n",
    "(\"personnel\", 2, 3900),\n",
    "(\"sales\", 3, 4800),\n",
    "(\"sales\", 4, 4800),\n",
    "(\"personnel\", 5, 3500),\n",
    "(\"develop\", 7, 4200),\n",
    "(\"develop\", 8, 6000),\n",
    "(\"develop\", 9, 4500),\n",
    "(\"develop\", 10, 5200),\n",
    "(\"develop\", 11, 5200)]"
   ]
  },
  {
   "cell_type": "code",
   "execution_count": 3,
   "id": "de48db23",
   "metadata": {},
   "outputs": [
    {
     "name": "stdout",
     "output_type": "stream",
     "text": [
      "+---------+-----+------+\n",
      "|  depName|empNo|salary|\n",
      "+---------+-----+------+\n",
      "|    sales|    1|  5000|\n",
      "|personnel|    2|  3900|\n",
      "|    sales|    3|  4800|\n",
      "|    sales|    4|  4800|\n",
      "|personnel|    5|  3500|\n",
      "|  develop|    7|  4200|\n",
      "|  develop|    8|  6000|\n",
      "|  develop|    9|  4500|\n",
      "|  develop|   10|  5200|\n",
      "|  develop|   11|  5200|\n",
      "+---------+-----+------+\n",
      "\n"
     ]
    },
    {
     "name": "stderr",
     "output_type": "stream",
     "text": [
      "----------------------------------------\n",
      "Exception happened during processing of request from ('127.0.0.1', 50220)\n",
      "Traceback (most recent call last):\n",
      "  File \"/opt/anaconda3/envs/beakerx/lib/python3.6/socketserver.py\", line 320, in _handle_request_noblock\n",
      "    self.process_request(request, client_address)\n",
      "  File \"/opt/anaconda3/envs/beakerx/lib/python3.6/socketserver.py\", line 351, in process_request\n",
      "    self.finish_request(request, client_address)\n",
      "  File \"/opt/anaconda3/envs/beakerx/lib/python3.6/socketserver.py\", line 364, in finish_request\n",
      "    self.RequestHandlerClass(request, client_address, self)\n",
      "  File \"/opt/anaconda3/envs/beakerx/lib/python3.6/socketserver.py\", line 724, in __init__\n",
      "    self.handle()\n",
      "  File \"/opt/spark-3.0.1-bin-hadoop3.2/python/pyspark/accumulators.py\", line 268, in handle\n",
      "    poll(accum_updates)\n",
      "  File \"/opt/spark-3.0.1-bin-hadoop3.2/python/pyspark/accumulators.py\", line 241, in poll\n",
      "    if func():\n",
      "  File \"/opt/spark-3.0.1-bin-hadoop3.2/python/pyspark/accumulators.py\", line 245, in accum_updates\n",
      "    num_updates = read_int(self.rfile)\n",
      "  File \"/opt/spark-3.0.1-bin-hadoop3.2/python/pyspark/serializers.py\", line 595, in read_int\n",
      "    raise EOFError\n",
      "EOFError\n",
      "----------------------------------------\n"
     ]
    }
   ],
   "source": [
    "empsalary = spark.createDataFrame(data, [\"depName\", \"empNo\", \"salary\"])\n",
    "\n",
    "empsalary.show()"
   ]
  },
  {
   "cell_type": "code",
   "execution_count": null,
   "id": "1b244edc",
   "metadata": {},
   "outputs": [],
   "source": []
  }
 ],
 "metadata": {
  "kernelspec": {
   "display_name": "Pyspark 3",
   "language": "python",
   "name": "pyspark3"
  },
  "language_info": {
   "codemirror_mode": {
    "name": "ipython",
    "version": 3
   },
   "file_extension": ".py",
   "mimetype": "text/x-python",
   "name": "python",
   "nbconvert_exporter": "python",
   "pygments_lexer": "ipython3",
   "version": "3.6.12"
  }
 },
 "nbformat": 4,
 "nbformat_minor": 5
}
