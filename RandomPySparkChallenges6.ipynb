{
 "cells": [
  {
   "cell_type": "code",
   "execution_count": 1,
   "id": "327b4412",
   "metadata": {},
   "outputs": [],
   "source": [
    "from pyspark.sql import SparkSession\n",
    "\n",
    "import getpass\n",
    "username = getpass.getuser()\n",
    "\n",
    "spark = SparkSession. \\\n",
    "    builder. \\\n",
    "    config('spark.ui.port', '0'). \\\n",
    "    config(\"spark.sql.warehouse.dir\", f\"/user/{username}/warehouse\"). \\\n",
    "    enableHiveSupport(). \\\n",
    "    appName(f'{username} | Python - Basic Transformations'). \\\n",
    "    master('yarn'). \\\n",
    "    getOrCreate()"
   ]
  },
  {
   "cell_type": "code",
   "execution_count": 2,
   "id": "b59d7959",
   "metadata": {},
   "outputs": [],
   "source": [
    "from pyspark.sql.functions import *\n",
    "from pyspark.sql import Window"
   ]
  },
  {
   "cell_type": "code",
   "execution_count": 3,
   "id": "d8bcc86f",
   "metadata": {},
   "outputs": [],
   "source": [
    "raw_df = spark. \\\n",
    "    read. \\\n",
    "    option(\"delimiter\", \"|\"). \\\n",
    "    csv(\"extracolumndata.txt\")"
   ]
  },
  {
   "cell_type": "code",
   "execution_count": 4,
   "id": "2b17451c",
   "metadata": {},
   "outputs": [
    {
     "name": "stdout",
     "output_type": "stream",
     "text": [
      "+--------------+\n",
      "|           _c0|\n",
      "+--------------+\n",
      "|    23, 56, 76|\n",
      "|75, 17, 76, 97|\n",
      "|    22, 57, 66|\n",
      "+--------------+\n",
      "\n"
     ]
    }
   ],
   "source": [
    "raw_df.show()"
   ]
  },
  {
   "cell_type": "code",
   "execution_count": 5,
   "id": "87fab4fb",
   "metadata": {},
   "outputs": [],
   "source": [
    "raw_df = raw_df.withColumn(\"id\", monotonically_increasing_id())"
   ]
  },
  {
   "cell_type": "code",
   "execution_count": 6,
   "id": "37de0c8d",
   "metadata": {},
   "outputs": [
    {
     "name": "stdout",
     "output_type": "stream",
     "text": [
      "+--------------+---+\n",
      "|           _c0| id|\n",
      "+--------------+---+\n",
      "|    23, 56, 76|  0|\n",
      "|75, 17, 76, 97|  1|\n",
      "|    22, 57, 66|  2|\n",
      "+--------------+---+\n",
      "\n"
     ]
    }
   ],
   "source": [
    "raw_df.show()"
   ]
  },
  {
   "cell_type": "code",
   "execution_count": 7,
   "id": "5b3b5054",
   "metadata": {},
   "outputs": [
    {
     "name": "stdout",
     "output_type": "stream",
     "text": [
      "+---+----------------+---+---+\n",
      "| id|         numbers|pos|val|\n",
      "+---+----------------+---+---+\n",
      "|  0|    [23, 56, 76]|  0| 23|\n",
      "|  0|    [23, 56, 76]|  1| 56|\n",
      "|  0|    [23, 56, 76]|  2| 76|\n",
      "|  1|[75, 17, 76, 97]|  0| 75|\n",
      "|  1|[75, 17, 76, 97]|  1| 17|\n",
      "|  1|[75, 17, 76, 97]|  2| 76|\n",
      "|  1|[75, 17, 76, 97]|  3| 97|\n",
      "|  2|    [22, 57, 66]|  0| 22|\n",
      "|  2|    [22, 57, 66]|  1| 57|\n",
      "|  2|    [22, 57, 66]|  2| 66|\n",
      "+---+----------------+---+---+\n",
      "\n"
     ]
    }
   ],
   "source": [
    "raw_df.select(\n",
    "        col(\"id\"),\n",
    "        split(\"_c0\", \", \").alias(\"numbers\"),\n",
    "        posexplode(split(\"_c0\", \", \")).alias(\"pos\", \"val\")\n",
    "    )\\\n",
    "    .show()"
   ]
  },
  {
   "cell_type": "code",
   "execution_count": 13,
   "id": "62106e5c",
   "metadata": {},
   "outputs": [
    {
     "name": "stdout",
     "output_type": "stream",
     "text": [
      "+---+-----------+---+\n",
      "| id|column_name|val|\n",
      "+---+-----------+---+\n",
      "|  0|       col0| 23|\n",
      "|  0|       col1| 56|\n",
      "|  0|       col2| 76|\n",
      "|  1|       col0| 75|\n",
      "|  1|       col1| 17|\n",
      "|  1|       col2| 76|\n",
      "|  1|       col3| 97|\n",
      "|  2|       col0| 22|\n",
      "|  2|       col1| 57|\n",
      "|  2|       col2| 66|\n",
      "+---+-----------+---+\n",
      "\n"
     ]
    }
   ],
   "source": [
    "raw_df.select(\n",
    "        col(\"id\"),\n",
    "        split(\"_c0\", \", \").alias(\"numbers\"),\n",
    "        posexplode(split(\"_c0\", \", \")).alias(\"pos\", \"val\")\n",
    "    )\\\n",
    ".drop(\"val\")\\\n",
    "    .select(\n",
    "        col(\"id\"),\n",
    "        concat(lit(\"col\"),col(\"pos\").cast(\"string\")).alias(\"column_name\"),\n",
    "        expr(\"numbers[pos]\").alias(\"val\")\n",
    "    )\\\n",
    ".show()"
   ]
  },
  {
   "cell_type": "code",
   "execution_count": 15,
   "id": "1b6b306a",
   "metadata": {},
   "outputs": [
    {
     "name": "stdout",
     "output_type": "stream",
     "text": [
      "+---+----+----+----+----+\n",
      "| id|col0|col1|col2|col3|\n",
      "+---+----+----+----+----+\n",
      "|  0|  23|  56|  76|null|\n",
      "|  1|  75|  17|  76|  97|\n",
      "|  2|  22|  57|  66|null|\n",
      "+---+----+----+----+----+\n",
      "\n"
     ]
    }
   ],
   "source": [
    "raw_df.select(\n",
    "        col(\"id\"),\n",
    "        split(\"_c0\", \", \").alias(\"numbers\"),\n",
    "        posexplode(split(\"_c0\", \", \")).alias(\"pos\", \"val\")\n",
    "    )\\\n",
    ".drop(\"val\")\\\n",
    "    .select(\n",
    "        col(\"id\"),\n",
    "        concat(lit(\"col\"),col(\"pos\").cast(\"string\")).alias(\"column_name\"),\n",
    "        expr(\"numbers[pos]\").alias(\"val\")\n",
    "    )\\\n",
    ".groupBy(\"id\").pivot(\"column_name\").agg(first(\"val\"))\\\n",
    "    .show()"
   ]
  },
  {
   "cell_type": "code",
   "execution_count": 11,
   "id": "1217501e",
   "metadata": {},
   "outputs": [
    {
     "name": "stdout",
     "output_type": "stream",
     "text": [
      "+----+----+----+----+\n",
      "|col0|col1|col2|col3|\n",
      "+----+----+----+----+\n",
      "|  23|  56|  76|null|\n",
      "|  75|  17|  76|  97|\n",
      "|  22|  57|  66|null|\n",
      "+----+----+----+----+\n",
      "\n"
     ]
    }
   ],
   "source": [
    "raw_df.select(\n",
    "        col(\"id\"),\n",
    "        split(\"_c0\", \", \").alias(\"numbers\"),\n",
    "        posexplode(split(\"_c0\", \", \")).alias(\"pos\", \"val\")\n",
    "    )\\\n",
    ".drop(\"val\")\\\n",
    "    .select(\n",
    "        col(\"id\"),\n",
    "        concat(lit(\"col\"),col(\"pos\").cast(\"string\")).alias(\"column_name\"),\n",
    "        expr(\"numbers[pos]\").alias(\"val\")\n",
    "    )\\\n",
    ".groupBy(\"id\").pivot(\"name\").agg(first(\"val\"))\\\n",
    ".drop(\"id\")\\\n",
    "    .show()"
   ]
  },
  {
   "cell_type": "code",
   "execution_count": null,
   "id": "87c191c3",
   "metadata": {},
   "outputs": [],
   "source": []
  }
 ],
 "metadata": {
  "kernelspec": {
   "display_name": "Pyspark 3",
   "language": "python",
   "name": "pyspark3"
  },
  "language_info": {
   "codemirror_mode": {
    "name": "ipython",
    "version": 3
   },
   "file_extension": ".py",
   "mimetype": "text/x-python",
   "name": "python",
   "nbconvert_exporter": "python",
   "pygments_lexer": "ipython3",
   "version": "3.6.12"
  }
 },
 "nbformat": 4,
 "nbformat_minor": 5
}
