{
 "cells": [
  {
   "cell_type": "code",
   "execution_count": 1,
   "id": "b1d8ae26",
   "metadata": {},
   "outputs": [],
   "source": [
    "from pyspark.sql import SparkSession\n",
    "\n",
    "import getpass\n",
    "username = getpass.getuser()\n",
    "\n",
    "spark = SparkSession. \\\n",
    "    builder. \\\n",
    "    config('spark.ui.port', '0'). \\\n",
    "    config(\"spark.sql.warehouse.dir\", f\"/user/{username}/warehouse\"). \\\n",
    "    enableHiveSupport(). \\\n",
    "    appName(f'{username} | Python - Basic Transformations'). \\\n",
    "    master('yarn'). \\\n",
    "    getOrCreate()"
   ]
  },
  {
   "cell_type": "code",
   "execution_count": 2,
   "id": "072e413d",
   "metadata": {},
   "outputs": [],
   "source": [
    "from pyspark.sql.functions import *"
   ]
  },
  {
   "cell_type": "markdown",
   "id": "851c1b55",
   "metadata": {},
   "source": [
    "##### Read the data for the month of 2008 January. "
   ]
  },
  {
   "cell_type": "code",
   "execution_count": 3,
   "id": "7f3dac5c",
   "metadata": {},
   "outputs": [
    {
     "name": "stdout",
     "output_type": "stream",
     "text": [
      "Found 1 items\n",
      "-rw-r--r--   3 hdfs supergroup   14654075 2021-03-02 19:47 /public/airtraffic_all/airtraffic-part/flightmonth=200801/part-00252-5cde1303-4ebf-4a12-8fad-f5d9f9c9124a.c000.snappy.parquet\n"
     ]
    }
   ],
   "source": [
    "%%sh\n",
    "\n",
    "hdfs dfs -ls /public/airtraffic_all/airtraffic-part/flightmonth=200801"
   ]
  },
  {
   "cell_type": "code",
   "execution_count": 4,
   "id": "bbd4c670",
   "metadata": {},
   "outputs": [],
   "source": [
    "airtraffic_path = \"/public/airtraffic_all/airtraffic-part/flightmonth=200801\""
   ]
  },
  {
   "cell_type": "code",
   "execution_count": 5,
   "id": "b6bc3357",
   "metadata": {},
   "outputs": [],
   "source": [
    "airtraffic = spark. \\\n",
    "    read. \\\n",
    "    parquet(airtraffic_path)"
   ]
  },
  {
   "cell_type": "code",
   "execution_count": 6,
   "id": "0cde90f3",
   "metadata": {},
   "outputs": [
    {
     "name": "stdout",
     "output_type": "stream",
     "text": [
      "root\n",
      " |-- Year: integer (nullable = true)\n",
      " |-- Month: integer (nullable = true)\n",
      " |-- DayofMonth: integer (nullable = true)\n",
      " |-- DayOfWeek: integer (nullable = true)\n",
      " |-- DepTime: string (nullable = true)\n",
      " |-- CRSDepTime: integer (nullable = true)\n",
      " |-- ArrTime: string (nullable = true)\n",
      " |-- CRSArrTime: integer (nullable = true)\n",
      " |-- UniqueCarrier: string (nullable = true)\n",
      " |-- FlightNum: integer (nullable = true)\n",
      " |-- TailNum: string (nullable = true)\n",
      " |-- ActualElapsedTime: string (nullable = true)\n",
      " |-- CRSElapsedTime: integer (nullable = true)\n",
      " |-- AirTime: string (nullable = true)\n",
      " |-- ArrDelay: string (nullable = true)\n",
      " |-- DepDelay: string (nullable = true)\n",
      " |-- Origin: string (nullable = true)\n",
      " |-- Dest: string (nullable = true)\n",
      " |-- Distance: string (nullable = true)\n",
      " |-- TaxiIn: string (nullable = true)\n",
      " |-- TaxiOut: string (nullable = true)\n",
      " |-- Cancelled: integer (nullable = true)\n",
      " |-- CancellationCode: string (nullable = true)\n",
      " |-- Diverted: integer (nullable = true)\n",
      " |-- CarrierDelay: string (nullable = true)\n",
      " |-- WeatherDelay: string (nullable = true)\n",
      " |-- NASDelay: string (nullable = true)\n",
      " |-- SecurityDelay: string (nullable = true)\n",
      " |-- LateAircraftDelay: string (nullable = true)\n",
      " |-- IsArrDelayed: string (nullable = true)\n",
      " |-- IsDepDelayed: string (nullable = true)\n",
      "\n"
     ]
    }
   ],
   "source": [
    "airtraffic.printSchema()"
   ]
  },
  {
   "cell_type": "code",
   "execution_count": 7,
   "id": "8088b55b",
   "metadata": {},
   "outputs": [
    {
     "data": {
      "text/plain": [
       "605659"
      ]
     },
     "execution_count": 7,
     "metadata": {},
     "output_type": "execute_result"
    }
   ],
   "source": [
    "airtraffic.count()"
   ]
  },
  {
   "cell_type": "code",
   "execution_count": 8,
   "id": "60c78c94",
   "metadata": {},
   "outputs": [
    {
     "name": "stdout",
     "output_type": "stream",
     "text": [
      "+----+-----+----------+\n",
      "|Year|Month|DayOfMonth|\n",
      "+----+-----+----------+\n",
      "|2008|    1|        28|\n",
      "|2008|    1|        25|\n",
      "|2008|    1|        20|\n",
      "|2008|    1|        11|\n",
      "|2008|    1|         4|\n",
      "|2008|    1|         5|\n",
      "|2008|    1|        15|\n",
      "|2008|    1|         3|\n",
      "|2008|    1|        16|\n",
      "|2008|    1|         9|\n",
      "|2008|    1|        17|\n",
      "|2008|    1|        19|\n",
      "|2008|    1|        12|\n",
      "|2008|    1|         6|\n",
      "|2008|    1|        21|\n",
      "|2008|    1|        18|\n",
      "|2008|    1|         7|\n",
      "|2008|    1|         1|\n",
      "|2008|    1|        26|\n",
      "|2008|    1|        24|\n",
      "+----+-----+----------+\n",
      "only showing top 20 rows\n",
      "\n"
     ]
    }
   ],
   "source": [
    "airtraffic.select('Year', 'Month', 'DayOfMonth').distinct().show()"
   ]
  },
  {
   "cell_type": "code",
   "execution_count": 9,
   "id": "240fad21",
   "metadata": {},
   "outputs": [
    {
     "data": {
      "text/plain": [
       "31"
      ]
     },
     "execution_count": 9,
     "metadata": {},
     "output_type": "execute_result"
    }
   ],
   "source": [
    "# Validate whether dataset has records for all 31 days of 2008 Jan\n",
    "\n",
    "airtraffic.select('Year', 'Month', 'DayOfMonth').distinct().count()"
   ]
  },
  {
   "cell_type": "markdown",
   "id": "cbd6d74b",
   "metadata": {},
   "source": [
    "##### Filtering data\n",
    "\n",
    "* Filtering can be done either by using `filter` or `where`. These are like __synonyms__ to each other.\n",
    "\n",
    "* When it comes to the condition, we can either pass it in SQL Style or Data Frame Style.\n",
    "\n",
    "* Example for SQL Style - `airtraffic.filter(\"IsArrDelayed = 'YES'\").show()` or `airtraffic.where(\"IsArrDelayed = 'YES'\").show()`\n",
    "\n",
    "* Example for Data Frame Style - `airtraffic.filter(airtraffic[\"IsArrDelayed\"] == 'YES').show()` or `airtraffic.filter(airtraffic.IsArrDelayed == 'YES').show()`. We can also use where instead of filter.\n",
    "\n",
    "* Here are the other operations we can perform to filter the data - `!=, >, <, >=, <=, LIKE, BETWEEN AND, isNull` etc."
   ]
  },
  {
   "cell_type": "markdown",
   "id": "dd45c9cb",
   "metadata": {},
   "source": [
    "##### Get the count of cancelled flights"
   ]
  },
  {
   "cell_type": "code",
   "execution_count": 10,
   "id": "4b507867",
   "metadata": {},
   "outputs": [
    {
     "name": "stdout",
     "output_type": "stream",
     "text": [
      "+---------+\n",
      "|Cancelled|\n",
      "+---------+\n",
      "|        1|\n",
      "|        0|\n",
      "+---------+\n",
      "\n"
     ]
    }
   ],
   "source": [
    "# different possible values for Cancelled column\n",
    "airtraffic.select('Cancelled').distinct().show()"
   ]
  },
  {
   "cell_type": "code",
   "execution_count": 11,
   "id": "f17a1af1",
   "metadata": {},
   "outputs": [
    {
     "data": {
      "text/plain": [
       "17293"
      ]
     },
     "execution_count": 11,
     "metadata": {},
     "output_type": "execute_result"
    }
   ],
   "source": [
    "airtraffic.filter('Cancelled = 1').count()"
   ]
  },
  {
   "cell_type": "code",
   "execution_count": 12,
   "id": "4ca2afe1",
   "metadata": {},
   "outputs": [
    {
     "data": {
      "text/plain": [
       "17293"
      ]
     },
     "execution_count": 12,
     "metadata": {},
     "output_type": "execute_result"
    }
   ],
   "source": [
    "airtraffic.filter(airtraffic['Cancelled'] == 1).count()"
   ]
  },
  {
   "cell_type": "code",
   "execution_count": 13,
   "id": "089919aa",
   "metadata": {},
   "outputs": [
    {
     "data": {
      "text/plain": [
       "17293"
      ]
     },
     "execution_count": 13,
     "metadata": {},
     "output_type": "execute_result"
    }
   ],
   "source": [
    "airtraffic.filter(col('Cancelled') == 1).count()"
   ]
  },
  {
   "cell_type": "markdown",
   "id": "6a8e8541",
   "metadata": {},
   "source": [
    "##### Get number of flights scheduled for departure from SFO airport."
   ]
  },
  {
   "cell_type": "code",
   "execution_count": 14,
   "id": "31d9e161",
   "metadata": {},
   "outputs": [
    {
     "data": {
      "text/plain": [
       "11573"
      ]
     },
     "execution_count": 14,
     "metadata": {},
     "output_type": "execute_result"
    }
   ],
   "source": [
    "airtraffic.filter('Origin = \"SFO\"').count()"
   ]
  },
  {
   "cell_type": "markdown",
   "id": "4bb3c085",
   "metadata": {},
   "source": [
    "##### Get number of flights that have departed from airport with out any delay."
   ]
  },
  {
   "cell_type": "code",
   "execution_count": 15,
   "id": "16c04247",
   "metadata": {},
   "outputs": [
    {
     "data": {
      "text/html": [
       "<table border='1'>\n",
       "<tr><th>IsDepDelayed</th></tr>\n",
       "<tr><td>YES</td></tr>\n",
       "<tr><td>NO</td></tr>\n",
       "</table>\n"
      ],
      "text/plain": [
       "+------------+\n",
       "|IsDepDelayed|\n",
       "+------------+\n",
       "|         YES|\n",
       "|          NO|\n",
       "+------------+"
      ]
     },
     "execution_count": 15,
     "metadata": {},
     "output_type": "execute_result"
    }
   ],
   "source": [
    "airtraffic.select('IsDepDelayed').distinct()"
   ]
  },
  {
   "cell_type": "code",
   "execution_count": 16,
   "id": "4bbd2dd2",
   "metadata": {},
   "outputs": [
    {
     "data": {
      "text/plain": [
       "0"
      ]
     },
     "execution_count": 16,
     "metadata": {},
     "output_type": "execute_result"
    }
   ],
   "source": [
    "# Check if any of the delayed flights were cancelled later\n",
    "\n",
    "airtraffic.filter('IsDepDelayed = \"NO\"').filter('Cancelled = 1').count()"
   ]
  },
  {
   "cell_type": "code",
   "execution_count": 17,
   "id": "136543a4",
   "metadata": {},
   "outputs": [
    {
     "data": {
      "text/plain": [
       "340461"
      ]
     },
     "execution_count": 17,
     "metadata": {},
     "output_type": "execute_result"
    }
   ],
   "source": [
    "airtraffic.filter('IsDepDelayed = \"NO\"').count()"
   ]
  },
  {
   "cell_type": "markdown",
   "id": "5f148793",
   "metadata": {},
   "source": [
    "##### Get number of flights departed late on Sundays.\n",
    "\n",
    "As if the dataset we donot have a column which identifies day of the week, we need to find that first"
   ]
  },
  {
   "cell_type": "code",
   "execution_count": 18,
   "id": "40727e33",
   "metadata": {},
   "outputs": [
    {
     "name": "stdout",
     "output_type": "stream",
     "text": [
      "+-----+\n",
      "|dummy|\n",
      "+-----+\n",
      "|    X|\n",
      "+-----+\n",
      "\n"
     ]
    }
   ],
   "source": [
    "# create the dummy dataframe\n",
    "\n",
    "l = [('X', )]\n",
    "\n",
    "df = spark.createDataFrame(l, \"dummy STRING\")\n",
    "df.show()"
   ]
  },
  {
   "cell_type": "code",
   "execution_count": 19,
   "id": "4f371fd0",
   "metadata": {},
   "outputs": [
    {
     "name": "stdout",
     "output_type": "stream",
     "text": [
      "+--------------+\n",
      "|current_date()|\n",
      "+--------------+\n",
      "|    2021-06-23|\n",
      "+--------------+\n",
      "\n"
     ]
    }
   ],
   "source": [
    "df.select(current_date()).show()"
   ]
  },
  {
   "cell_type": "code",
   "execution_count": 35,
   "id": "21954a0b",
   "metadata": {},
   "outputs": [
    {
     "name": "stdout",
     "output_type": "stream",
     "text": [
      "+--------------+---------+\n",
      "|current_date()| day_name|\n",
      "+--------------+---------+\n",
      "|    2021-06-23|Wednesday|\n",
      "+--------------+---------+\n",
      "\n"
     ]
    }
   ],
   "source": [
    "df.select(current_date(), date_format(current_date(), 'EEEE').alias('day_name')).show()"
   ]
  },
  {
   "cell_type": "code",
   "execution_count": 36,
   "id": "ab54e280",
   "metadata": {},
   "outputs": [
    {
     "name": "stdout",
     "output_type": "stream",
     "text": [
      "+----+-----+----------+---------+\n",
      "|Year|Month|DayofMonth|DayOfWeek|\n",
      "+----+-----+----------+---------+\n",
      "|2008|    1|        16|        3|\n",
      "|2008|    1|        17|        4|\n",
      "|2008|    1|        17|        4|\n",
      "|2008|    1|        17|        4|\n",
      "|2008|    1|        17|        4|\n",
      "+----+-----+----------+---------+\n",
      "only showing top 5 rows\n",
      "\n"
     ]
    }
   ],
   "source": [
    "airtraffic.select('Year', 'Month', 'DayofMonth','DayOfWeek').show(5)"
   ]
  },
  {
   "cell_type": "code",
   "execution_count": 37,
   "id": "5c2ef988",
   "metadata": {},
   "outputs": [
    {
     "name": "stdout",
     "output_type": "stream",
     "text": [
      "+--------+\n",
      "|day_name|\n",
      "+--------+\n",
      "|Thursday|\n",
      "|  Friday|\n",
      "|  Friday|\n",
      "|  Friday|\n",
      "|  Friday|\n",
      "+--------+\n",
      "only showing top 5 rows\n",
      "\n"
     ]
    }
   ],
   "source": [
    "airtraffic.select(date_format(to_date(concat('Year', 'Month', 'DayofMonth'), 'yyyyMMdd'), 'EEEE').alias('day_name')).show(5)"
   ]
  },
  {
   "cell_type": "code",
   "execution_count": 39,
   "id": "c0a2cbdb",
   "metadata": {},
   "outputs": [
    {
     "name": "stdout",
     "output_type": "stream",
     "text": [
      "+----------+\n",
      "|FlightDate|\n",
      "+----------+\n",
      "|  20080116|\n",
      "|  20080117|\n",
      "|  20080117|\n",
      "|  20080117|\n",
      "|  20080117|\n",
      "+----------+\n",
      "only showing top 5 rows\n",
      "\n"
     ]
    }
   ],
   "source": [
    "# As the Month and DayofMonth columns might have single digit data, let's make it uniform\n",
    "# If the length of the string is less than 2, lpad 0\n",
    "\n",
    "airtraffic.select(\n",
    "    concat(\n",
    "        col(\"Year\"),\n",
    "        lpad(col(\"Month\"), 2, \"0\"),\n",
    "        lpad(col(\"DayOfMonth\"), 2, \"0\")\n",
    "    ).alias('FlightDate')\n",
    ").show(5)"
   ]
  },
  {
   "cell_type": "code",
   "execution_count": 43,
   "id": "c3d8e426",
   "metadata": {},
   "outputs": [
    {
     "name": "stdout",
     "output_type": "stream",
     "text": [
      "+----------+\n",
      "|FlightDate|\n",
      "+----------+\n",
      "| Wednesday|\n",
      "|  Thursday|\n",
      "|  Thursday|\n",
      "|  Thursday|\n",
      "|  Thursday|\n",
      "+----------+\n",
      "only showing top 5 rows\n",
      "\n"
     ]
    }
   ],
   "source": [
    "airtraffic. \\\n",
    "    select(\n",
    "        concat(\n",
    "            col(\"Year\"),\n",
    "            lpad(col(\"Month\"), 2, \"0\"),\n",
    "            lpad(col(\"DayOfMonth\"), 2, \"0\")\n",
    "        ).alias('FlightDate')\n",
    "    ). \\\n",
    "    selectExpr(\"date_format(to_date(FlightDate, 'yyyyMMdd'), 'EEEE') AS FlightDate\"). \\\n",
    "    show(5)"
   ]
  },
  {
   "cell_type": "code",
   "execution_count": 48,
   "id": "7ecf8e82",
   "metadata": {},
   "outputs": [
    {
     "data": {
      "text/plain": [
       "34708"
      ]
     },
     "execution_count": 48,
     "metadata": {},
     "output_type": "execute_result"
    }
   ],
   "source": [
    "airtraffic. \\\n",
    "    withColumn(\"FlightDate\", date_format(\n",
    "                                    to_date(\n",
    "                                        concat(\n",
    "                                                col(\"Year\"),\n",
    "                                                lpad(col(\"Month\"), 2, \"0\"),\n",
    "                                                lpad(col(\"DayOfMonth\"), 2, \"0\")\n",
    "                                        ), 'yyyyMMdd'\n",
    "                                    ), 'EEEE'\n",
    "                            )\n",
    "    ). \\\n",
    "    filter('FlightDate = \"Sunday\"'). \\\n",
    "    filter('IsDepDelayed = \"YES\"'). \\\n",
    "    count()"
   ]
  },
  {
   "cell_type": "code",
   "execution_count": 49,
   "id": "6e7dbe09",
   "metadata": {},
   "outputs": [
    {
     "data": {
      "text/plain": [
       "34708"
      ]
     },
     "execution_count": 49,
     "metadata": {},
     "output_type": "execute_result"
    }
   ],
   "source": [
    "airtraffic. \\\n",
    "    withColumn(\"FlightDate\",\n",
    "               concat(col(\"Year\"),\n",
    "                      lpad(col(\"Month\"), 2, \"0\"),\n",
    "                      lpad(col(\"DayOfMonth\"), 2, \"0\")\n",
    "                     )\n",
    "              ). \\\n",
    "    filter((col(\"IsDepDelayed\") == \"YES\") &\n",
    "           (date_format(\n",
    "               to_date(\"FlightDate\", \"yyyyMMdd\"), \"EEEE\"\n",
    "           ) == \"Sunday\")\n",
    "          ). \\\n",
    "    count()"
   ]
  },
  {
   "cell_type": "code",
   "execution_count": 50,
   "id": "3158ff3a",
   "metadata": {},
   "outputs": [
    {
     "data": {
      "text/plain": [
       "34708"
      ]
     },
     "execution_count": 50,
     "metadata": {},
     "output_type": "execute_result"
    }
   ],
   "source": [
    "airtraffic. \\\n",
    "    withColumn(\"FlightDate\",\n",
    "               concat(col(\"Year\"),\n",
    "                      lpad(col(\"Month\"), 2, \"0\"),\n",
    "                      lpad(col(\"DayOfMonth\"), 2, \"0\")\n",
    "                     )\n",
    "              ). \\\n",
    "    filter(\"\"\"\n",
    "           IsDepDelayed = 'YES' AND \n",
    "           date_format(to_date(FlightDate, 'yyyyMMdd'), 'EEEE') = 'Sunday'\n",
    "           \"\"\"). \\\n",
    "    count()"
   ]
  },
  {
   "cell_type": "markdown",
   "id": "231984c4",
   "metadata": {},
   "source": [
    "##### Get count of flights which are departed late at origin and reach destination early or on time"
   ]
  },
  {
   "cell_type": "code",
   "execution_count": 51,
   "id": "b9e6aade",
   "metadata": {},
   "outputs": [
    {
     "name": "stdout",
     "output_type": "stream",
     "text": [
      "+------------+------------+---------+\n",
      "|IsDepDelayed|IsArrDelayed|Cancelled|\n",
      "+------------+------------+---------+\n",
      "|          NO|          NO|        0|\n",
      "|         YES|         YES|        1|\n",
      "|          NO|         YES|        0|\n",
      "|         YES|          NO|        0|\n",
      "|         YES|         YES|        0|\n",
      "+------------+------------+---------+\n",
      "\n"
     ]
    }
   ],
   "source": [
    "airtraffic. \\\n",
    "    select('IsDepDelayed', 'IsArrDelayed', 'Cancelled'). \\\n",
    "    distinct(). \\\n",
    "    show()\n",
    "\n",
    "# So, when both IsDepDelayed and IsArrDelayed is YES, Cancelled is set to 1"
   ]
  },
  {
   "cell_type": "code",
   "execution_count": 53,
   "id": "62258474",
   "metadata": {},
   "outputs": [
    {
     "data": {
      "text/plain": [
       "54233"
      ]
     },
     "execution_count": 53,
     "metadata": {},
     "output_type": "execute_result"
    }
   ],
   "source": [
    "# SQL style \n",
    "\n",
    "airtraffic. \\\n",
    "    filter(\"IsDepDelayed = 'YES' AND IsArrDelayed = 'NO' AND Cancelled = 0\"). \\\n",
    "    count()"
   ]
  },
  {
   "cell_type": "code",
   "execution_count": 54,
   "id": "230eff28",
   "metadata": {},
   "outputs": [
    {
     "data": {
      "text/plain": [
       "54233"
      ]
     },
     "execution_count": 54,
     "metadata": {},
     "output_type": "execute_result"
    }
   ],
   "source": [
    "# API style\n",
    "\n",
    "airtraffic. \\\n",
    "    filter(\n",
    "           (col(\"IsDepDelayed\") == \"YES\") & \n",
    "           (col(\"IsArrDelayed\") == \"NO\") &\n",
    "           (col(\"Cancelled\") == 0)\n",
    "          ). \\\n",
    "    count()\n",
    "\n",
    "# Notice how each filter condition is wrapped inside ()"
   ]
  },
  {
   "cell_type": "code",
   "execution_count": 55,
   "id": "bb603536",
   "metadata": {},
   "outputs": [
    {
     "data": {
      "text/plain": [
       "54233"
      ]
     },
     "execution_count": 55,
     "metadata": {},
     "output_type": "execute_result"
    }
   ],
   "source": [
    "airtraffic. \\\n",
    "    filter(\n",
    "           (airtraffic[\"IsDepDelayed\"] == \"YES\") & \n",
    "           (airtraffic.IsArrDelayed == \"NO\") &\n",
    "           (airtraffic.Cancelled == 0)\n",
    "          ). \\\n",
    "    count()"
   ]
  },
  {
   "cell_type": "markdown",
   "id": "ca7a9ef8",
   "metadata": {},
   "source": [
    "##### Get count of flights which are departed early or on time but arrive late by at least 15 minutes."
   ]
  },
  {
   "cell_type": "code",
   "execution_count": 56,
   "id": "e5281863",
   "metadata": {},
   "outputs": [
    {
     "data": {
      "text/plain": [
       "20705"
      ]
     },
     "execution_count": 56,
     "metadata": {},
     "output_type": "execute_result"
    }
   ],
   "source": [
    "airtraffic. \\\n",
    "    filter(\"IsDepDelayed = 'NO' AND ArrDelay >= 15 AND cancelled = 0\"). \\\n",
    "    count()"
   ]
  },
  {
   "cell_type": "code",
   "execution_count": 57,
   "id": "d3e3429f",
   "metadata": {},
   "outputs": [
    {
     "data": {
      "text/plain": [
       "20705"
      ]
     },
     "execution_count": 57,
     "metadata": {},
     "output_type": "execute_result"
    }
   ],
   "source": [
    "airtraffic. \\\n",
    "    filter(\n",
    "           (col(\"IsDepDelayed\") == \"NO\") & \n",
    "           (col(\"ArrDelay\") >= 15)\n",
    "          ). \\\n",
    "    count()"
   ]
  },
  {
   "cell_type": "markdown",
   "id": "af1b861f",
   "metadata": {},
   "source": [
    "##### Get number of flights departed late on Sundays as well as on Saturdays. "
   ]
  },
  {
   "cell_type": "code",
   "execution_count": 59,
   "id": "ff39abbb",
   "metadata": {},
   "outputs": [
    {
     "data": {
      "text/plain": [
       "57873"
      ]
     },
     "execution_count": 59,
     "metadata": {},
     "output_type": "execute_result"
    }
   ],
   "source": [
    "airtraffic. \\\n",
    "    withColumn(\"FlightDate\",\n",
    "               concat(col(\"Year\"),\n",
    "                      lpad(col(\"Month\"), 2, \"0\"),\n",
    "                      lpad(col(\"DayOfMonth\"), 2, \"0\")\n",
    "                     )\n",
    "              ). \\\n",
    "    filter(\"\"\"\n",
    "           IsDepDelayed = 'YES' AND Cancelled = 0 AND\n",
    "           (date_format(to_date(FlightDate, 'yyyyMMdd'), 'EEEE') = 'Saturday'\n",
    "               OR date_format(to_date(FlightDate, 'yyyyMMdd'), 'EEEE') = 'Sunday'\n",
    "           )\n",
    "           \"\"\"). \\\n",
    "    count()"
   ]
  },
  {
   "cell_type": "code",
   "execution_count": 60,
   "id": "1f764d06",
   "metadata": {},
   "outputs": [
    {
     "data": {
      "text/plain": [
       "57873"
      ]
     },
     "execution_count": 60,
     "metadata": {},
     "output_type": "execute_result"
    }
   ],
   "source": [
    "airtraffic. \\\n",
    "    withColumn(\"FlightDate\",\n",
    "               concat(col(\"Year\"),\n",
    "                      lpad(col(\"Month\"), 2, \"0\"),\n",
    "                      lpad(col(\"DayOfMonth\"), 2, \"0\")\n",
    "                     )\n",
    "              ). \\\n",
    "    filter(\n",
    "            (col(\"IsDepDelayed\") == \"YES\") & (col(\"Cancelled\") == 0) &\n",
    "            (\n",
    "                 (date_format(\n",
    "                       to_date(\"FlightDate\", \"yyyyMMdd\"), \"EEEE\"\n",
    "                 ) == \"Saturday\") |\n",
    "                 (date_format(\n",
    "                       to_date(\"FlightDate\", \"yyyyMMdd\"), \"EEEE\"\n",
    "                 ) == \"Sunday\")\n",
    "           )\n",
    "          ). \\\n",
    "    count()"
   ]
  },
  {
   "cell_type": "markdown",
   "id": "bf55220a",
   "metadata": {},
   "source": [
    "___now the same problem can be solved using `IN` or `isin`___\n",
    "\n",
    "i.e.,\n",
    "##### Get number of flights departed late on Sundays as well as on Saturdays using `IN` or `isin`"
   ]
  },
  {
   "cell_type": "code",
   "execution_count": 61,
   "id": "0fe75316",
   "metadata": {},
   "outputs": [
    {
     "data": {
      "text/plain": [
       "pyspark.sql.column.Column"
      ]
     },
     "execution_count": 61,
     "metadata": {},
     "output_type": "execute_result"
    }
   ],
   "source": [
    "# Now isin can be run on top of col type objects\n",
    "# Let's create a col type object to run help on isin function\n",
    "\n",
    "c = col('X')\n",
    "type(c)"
   ]
  },
  {
   "cell_type": "code",
   "execution_count": 62,
   "id": "de01f0c7",
   "metadata": {},
   "outputs": [
    {
     "name": "stdout",
     "output_type": "stream",
     "text": [
      "Help on method isin in module pyspark.sql.column:\n",
      "\n",
      "isin(*cols) method of pyspark.sql.column.Column instance\n",
      "    A boolean expression that is evaluated to true if the value of this\n",
      "    expression is contained by the evaluated values of the arguments.\n",
      "    \n",
      "    >>> df[df.name.isin(\"Bob\", \"Mike\")].collect()\n",
      "    [Row(age=5, name='Bob')]\n",
      "    >>> df[df.age.isin([1, 2, 3])].collect()\n",
      "    [Row(age=2, name='Alice')]\n",
      "    \n",
      "    .. versionadded:: 1.5\n",
      "\n"
     ]
    }
   ],
   "source": [
    "help(c.isin)"
   ]
  },
  {
   "cell_type": "code",
   "execution_count": 63,
   "id": "82ee56ac",
   "metadata": {},
   "outputs": [
    {
     "data": {
      "text/plain": [
       "57873"
      ]
     },
     "execution_count": 63,
     "metadata": {},
     "output_type": "execute_result"
    }
   ],
   "source": [
    "airtraffic. \\\n",
    "    withColumn(\"FlightDate\",\n",
    "               concat(col(\"Year\"),\n",
    "                      lpad(col(\"Month\"), 2, \"0\"),\n",
    "                      lpad(col(\"DayOfMonth\"), 2, \"0\")\n",
    "                     )\n",
    "              ). \\\n",
    "    filter(\n",
    "            (col(\"IsDepDelayed\") == \"YES\") & (col(\"Cancelled\") == 0) &\n",
    "            (date_format(\n",
    "                   to_date(\"FlightDate\", \"yyyyMMdd\"), \"EEEE\"\n",
    "                   ).isin(\"Saturday\", \"Sunday\")\n",
    "            )\n",
    "          ). \\\n",
    "    count()"
   ]
  },
  {
   "cell_type": "code",
   "execution_count": 64,
   "id": "a45e8154",
   "metadata": {},
   "outputs": [
    {
     "data": {
      "text/plain": [
       "57873"
      ]
     },
     "execution_count": 64,
     "metadata": {},
     "output_type": "execute_result"
    }
   ],
   "source": [
    "airtraffic. \\\n",
    "    withColumn(\"FlightDate\",\n",
    "               concat(col(\"Year\"),\n",
    "                      lpad(col(\"Month\"), 2, \"0\"),\n",
    "                      lpad(col(\"DayOfMonth\"), 2, \"0\")\n",
    "                     )\n",
    "              ). \\\n",
    "    filter(\"\"\"\n",
    "           IsDepDelayed = 'YES' AND Cancelled = 0 AND\n",
    "           date_format(to_date(FlightDate, 'yyyyMMdd'), 'EEEE') IN\n",
    "               ('Saturday', 'Sunday')\n",
    "           \"\"\"). \\\n",
    "    count()"
   ]
  },
  {
   "cell_type": "markdown",
   "id": "8234f684",
   "metadata": {},
   "source": [
    "##### Get count of flights departed from following major airports - ORD, DFW, ATL, LAX, SFO."
   ]
  },
  {
   "cell_type": "code",
   "execution_count": 65,
   "id": "512e94e1",
   "metadata": {},
   "outputs": [
    {
     "data": {
      "text/plain": [
       "118212"
      ]
     },
     "execution_count": 65,
     "metadata": {},
     "output_type": "execute_result"
    }
   ],
   "source": [
    "airtraffic. \\\n",
    "    filter(\"Origin IN ('ORD', 'DFW', 'ATL', 'LAX', 'SFO')\"). \\\n",
    "    count()"
   ]
  },
  {
   "cell_type": "code",
   "execution_count": 66,
   "id": "7177016d",
   "metadata": {},
   "outputs": [
    {
     "data": {
      "text/plain": [
       "118212"
      ]
     },
     "execution_count": 66,
     "metadata": {},
     "output_type": "execute_result"
    }
   ],
   "source": [
    "airtraffic. \\\n",
    "    filter(col(\"Origin\").isin(\"ORD\", \"DFW\", \"ATL\", \"LAX\", \"SFO\")). \\\n",
    "    count()"
   ]
  },
  {
   "cell_type": "markdown",
   "id": "a67e2b22",
   "metadata": {},
   "source": [
    "#### LIKE Operator or like Function"
   ]
  },
  {
   "cell_type": "code",
   "execution_count": 67,
   "id": "144506e5",
   "metadata": {},
   "outputs": [],
   "source": [
    "employees = [(1, \"Scott\", \"Tiger\", 1000.0, 10,\n",
    "                      \"united states\", \"+1 123 456 7890\", \"123 45 6789\"\n",
    "                     ),\n",
    "                     (2, \"Henry\", \"Ford\", 1250.0, None,\n",
    "                      \"India\", \"+91 234 567 8901\", \"456 78 9123\"\n",
    "                     ),\n",
    "                     (3, \"Nick\", \"Junior\", 750.0, '',\n",
    "                      \"united KINGDOM\", \"+44 111 111 1111\", \"222 33 4444\"\n",
    "                     ),\n",
    "                     (4, \"Bill\", \"Gomes\", 1500.0, 10,\n",
    "                      \"AUSTRALIA\", \"+61 987 654 3210\", \"789 12 6118\"\n",
    "                     )\n",
    "                ]"
   ]
  },
  {
   "cell_type": "code",
   "execution_count": 68,
   "id": "8b56fb92",
   "metadata": {},
   "outputs": [],
   "source": [
    "employeesDF = spark. \\\n",
    "    createDataFrame(employees,\n",
    "                    schema=\"\"\"employee_id INT, first_name STRING, \n",
    "                    last_name STRING, salary FLOAT, bonus STRING, nationality STRING,\n",
    "                    phone_number STRING, ssn STRING\"\"\"\n",
    "                   )"
   ]
  },
  {
   "cell_type": "code",
   "execution_count": 69,
   "id": "81fd56f7",
   "metadata": {},
   "outputs": [
    {
     "name": "stdout",
     "output_type": "stream",
     "text": [
      "+-----------+----------+---------+------+-----+--------------+----------------+-----------+\n",
      "|employee_id|first_name|last_name|salary|bonus|   nationality|    phone_number|        ssn|\n",
      "+-----------+----------+---------+------+-----+--------------+----------------+-----------+\n",
      "|          1|     Scott|    Tiger|1000.0|   10| united states| +1 123 456 7890|123 45 6789|\n",
      "|          2|     Henry|     Ford|1250.0| null|         India|+91 234 567 8901|456 78 9123|\n",
      "|          3|      Nick|   Junior| 750.0|     |united KINGDOM|+44 111 111 1111|222 33 4444|\n",
      "|          4|      Bill|    Gomes|1500.0|   10|     AUSTRALIA|+61 987 654 3210|789 12 6118|\n",
      "+-----------+----------+---------+------+-----+--------------+----------------+-----------+\n",
      "\n"
     ]
    }
   ],
   "source": [
    "employeesDF.show()"
   ]
  },
  {
   "cell_type": "markdown",
   "id": "6c7ed8c2",
   "metadata": {},
   "source": [
    "##### Get employees whose first name starts with Sco"
   ]
  },
  {
   "cell_type": "code",
   "execution_count": 70,
   "id": "f0a76297",
   "metadata": {},
   "outputs": [
    {
     "name": "stdout",
     "output_type": "stream",
     "text": [
      "+-----------+----------+---------+------+-----+-------------+---------------+-----------+\n",
      "|employee_id|first_name|last_name|salary|bonus|  nationality|   phone_number|        ssn|\n",
      "+-----------+----------+---------+------+-----+-------------+---------------+-----------+\n",
      "|          1|     Scott|    Tiger|1000.0|   10|united states|+1 123 456 7890|123 45 6789|\n",
      "+-----------+----------+---------+------+-----+-------------+---------------+-----------+\n",
      "\n"
     ]
    }
   ],
   "source": [
    "employeesDF. \\\n",
    "    filter(\"first_name LIKE 'Sco%'\"). \\\n",
    "    show()"
   ]
  },
  {
   "cell_type": "code",
   "execution_count": 71,
   "id": "b3b4ec5a",
   "metadata": {},
   "outputs": [
    {
     "name": "stdout",
     "output_type": "stream",
     "text": [
      "+-----------+----------+---------+------+-----+-------------+---------------+-----------+\n",
      "|employee_id|first_name|last_name|salary|bonus|  nationality|   phone_number|        ssn|\n",
      "+-----------+----------+---------+------+-----+-------------+---------------+-----------+\n",
      "|          1|     Scott|    Tiger|1000.0|   10|united states|+1 123 456 7890|123 45 6789|\n",
      "+-----------+----------+---------+------+-----+-------------+---------------+-----------+\n",
      "\n"
     ]
    }
   ],
   "source": [
    "employeesDF. \\\n",
    "    filter(\"upper(first_name) LIKE 'SCO%'\"). \\\n",
    "    show()"
   ]
  },
  {
   "cell_type": "code",
   "execution_count": 72,
   "id": "9b846c73",
   "metadata": {},
   "outputs": [
    {
     "name": "stdout",
     "output_type": "stream",
     "text": [
      "+-----------+----------+---------+------+-----+-------------+---------------+-----------+\n",
      "|employee_id|first_name|last_name|salary|bonus|  nationality|   phone_number|        ssn|\n",
      "+-----------+----------+---------+------+-----+-------------+---------------+-----------+\n",
      "|          1|     Scott|    Tiger|1000.0|   10|united states|+1 123 456 7890|123 45 6789|\n",
      "+-----------+----------+---------+------+-----+-------------+---------------+-----------+\n",
      "\n"
     ]
    }
   ],
   "source": [
    "# API style\n",
    "\n",
    "employeesDF. \\\n",
    "    filter(col('first_name').like('Sco%')). \\\n",
    "    show()"
   ]
  },
  {
   "cell_type": "code",
   "execution_count": 73,
   "id": "22a1afb9",
   "metadata": {},
   "outputs": [
    {
     "name": "stdout",
     "output_type": "stream",
     "text": [
      "+-----------+----------+---------+------+-----+-------------+---------------+-----------+\n",
      "|employee_id|first_name|last_name|salary|bonus|  nationality|   phone_number|        ssn|\n",
      "+-----------+----------+---------+------+-----+-------------+---------------+-----------+\n",
      "|          1|     Scott|    Tiger|1000.0|   10|united states|+1 123 456 7890|123 45 6789|\n",
      "+-----------+----------+---------+------+-----+-------------+---------------+-----------+\n",
      "\n"
     ]
    }
   ],
   "source": [
    "employeesDF. \\\n",
    "    filter(upper(col('first_name')).like('SCO%')). \\\n",
    "    show()"
   ]
  },
  {
   "cell_type": "markdown",
   "id": "50e5f6f5",
   "metadata": {},
   "source": [
    "##### Get employees where first name contain `ott` irrespective of case."
   ]
  },
  {
   "cell_type": "code",
   "execution_count": 77,
   "id": "7da171eb",
   "metadata": {},
   "outputs": [
    {
     "name": "stdout",
     "output_type": "stream",
     "text": [
      "+-----------+----------+---------+------+-----+-------------+---------------+-----------+\n",
      "|employee_id|first_name|last_name|salary|bonus|  nationality|   phone_number|        ssn|\n",
      "+-----------+----------+---------+------+-----+-------------+---------------+-----------+\n",
      "|          1|     Scott|    Tiger|1000.0|   10|united states|+1 123 456 7890|123 45 6789|\n",
      "+-----------+----------+---------+------+-----+-------------+---------------+-----------+\n",
      "\n"
     ]
    }
   ],
   "source": [
    "employeesDF. \\\n",
    "    filter(lower(col(\"first_name\")).like(\"%ott%\")). \\\n",
    "    show()"
   ]
  },
  {
   "cell_type": "markdown",
   "id": "b7ca43f8",
   "metadata": {},
   "source": [
    "##### Get employees whose phone number does not start with +44"
   ]
  },
  {
   "cell_type": "code",
   "execution_count": 78,
   "id": "8e1f6f54",
   "metadata": {},
   "outputs": [
    {
     "name": "stdout",
     "output_type": "stream",
     "text": [
      "+-----------+----------+---------+------+-----+-------------+----------------+-----------+\n",
      "|employee_id|first_name|last_name|salary|bonus|  nationality|    phone_number|        ssn|\n",
      "+-----------+----------+---------+------+-----+-------------+----------------+-----------+\n",
      "|          1|     Scott|    Tiger|1000.0|   10|united states| +1 123 456 7890|123 45 6789|\n",
      "|          2|     Henry|     Ford|1250.0| null|        India|+91 234 567 8901|456 78 9123|\n",
      "|          4|      Bill|    Gomes|1500.0|   10|    AUSTRALIA|+61 987 654 3210|789 12 6118|\n",
      "+-----------+----------+---------+------+-----+-------------+----------------+-----------+\n",
      "\n"
     ]
    }
   ],
   "source": [
    "employeesDF. \\\n",
    "    filter(\"phone_number NOT LIKE '+44%'\"). \\\n",
    "    show()"
   ]
  },
  {
   "cell_type": "code",
   "execution_count": 79,
   "id": "4524a658",
   "metadata": {},
   "outputs": [
    {
     "name": "stdout",
     "output_type": "stream",
     "text": [
      "+-----------+----------+---------+------+-----+-------------+----------------+-----------+\n",
      "|employee_id|first_name|last_name|salary|bonus|  nationality|    phone_number|        ssn|\n",
      "+-----------+----------+---------+------+-----+-------------+----------------+-----------+\n",
      "|          1|     Scott|    Tiger|1000.0|   10|united states| +1 123 456 7890|123 45 6789|\n",
      "|          2|     Henry|     Ford|1250.0| null|        India|+91 234 567 8901|456 78 9123|\n",
      "|          4|      Bill|    Gomes|1500.0|   10|    AUSTRALIA|+61 987 654 3210|789 12 6118|\n",
      "+-----------+----------+---------+------+-----+-------------+----------------+-----------+\n",
      "\n"
     ]
    }
   ],
   "source": [
    "employeesDF. \\\n",
    "    filter(~ col('phone_number').like('+44%')). \\\n",
    "    show()"
   ]
  },
  {
   "cell_type": "markdown",
   "id": "6845b8a3",
   "metadata": {},
   "source": [
    "##### Get count of flights departed late between 2008 January 1st to January 9th using FlightDate."
   ]
  },
  {
   "cell_type": "code",
   "execution_count": 83,
   "id": "044126a3",
   "metadata": {},
   "outputs": [
    {
     "name": "stdout",
     "output_type": "stream",
     "text": [
      "+----------+\n",
      "|FlightDate|\n",
      "+----------+\n",
      "|  20080116|\n",
      "|  20080117|\n",
      "|  20080117|\n",
      "|  20080117|\n",
      "|  20080117|\n",
      "+----------+\n",
      "only showing top 5 rows\n",
      "\n"
     ]
    }
   ],
   "source": [
    "airtraffic. \\\n",
    "    select(concat(col(\"Year\"), lpad(col(\"Month\"), 2, \"0\"), lpad(col(\"DayOfMonth\"), 2, \"0\")).alias(\"FlightDate\")). \\\n",
    "    show(5)"
   ]
  },
  {
   "cell_type": "code",
   "execution_count": 80,
   "id": "8e800b4b",
   "metadata": {},
   "outputs": [
    {
     "data": {
      "text/plain": [
       "86180"
      ]
     },
     "execution_count": 80,
     "metadata": {},
     "output_type": "execute_result"
    }
   ],
   "source": [
    "# Using BETWEEN AND\n",
    "\n",
    "airtraffic. \\\n",
    "    withColumn(\"FlightDate\",\n",
    "               concat(col(\"Year\"),\n",
    "                      lpad(col(\"Month\"), 2, \"0\"),\n",
    "                      lpad(col(\"DayOfMonth\"), 2, \"0\")\n",
    "                     )\n",
    "              ). \\\n",
    "    filter(\"\"\"\n",
    "           IsDepDelayed = 'YES' AND \n",
    "           Cancelled = 0 AND\n",
    "           FlightDate BETWEEN 20080101 AND 20080109\n",
    "          \"\"\"). \\\n",
    "    count()"
   ]
  },
  {
   "cell_type": "code",
   "execution_count": 84,
   "id": "92dd4415",
   "metadata": {},
   "outputs": [
    {
     "data": {
      "text/plain": [
       "86180"
      ]
     },
     "execution_count": 84,
     "metadata": {},
     "output_type": "execute_result"
    }
   ],
   "source": [
    "# Using >= <=\n",
    "\n",
    "airtraffic. \\\n",
    "    withColumn(\"FlightDate\",\n",
    "               concat(col(\"Year\"),\n",
    "                      lpad(col(\"Month\"), 2, \"0\"),\n",
    "                      lpad(col(\"DayOfMonth\"), 2, \"0\")\n",
    "                     )\n",
    "              ). \\\n",
    "    filter(\"\"\"\n",
    "           IsDepDelayed = 'YES' AND \n",
    "           Cancelled = 0 AND\n",
    "           FlightDate >= 20080101 AND\n",
    "           FlightDate <= 20080109\n",
    "          \"\"\"). \\\n",
    "    count()"
   ]
  },
  {
   "cell_type": "code",
   "execution_count": 85,
   "id": "5dee9d55",
   "metadata": {},
   "outputs": [
    {
     "data": {
      "text/plain": [
       "86180"
      ]
     },
     "execution_count": 85,
     "metadata": {},
     "output_type": "execute_result"
    }
   ],
   "source": [
    "airtraffic. \\\n",
    "    withColumn(\"FlightDate\",\n",
    "               concat(col(\"Year\"),\n",
    "                      lpad(col(\"Month\"), 2, \"0\"),\n",
    "                      lpad(col(\"DayOfMonth\"), 2, \"0\")\n",
    "                     )\n",
    "              ). \\\n",
    "    filter((col(\"IsDepDelayed\") == \"YES\") & \n",
    "           (col(\"Cancelled\") == 0) &\n",
    "           (col(\"FlightDate\").between(20080101, 20080109))\n",
    "          ). \\\n",
    "    count()"
   ]
  },
  {
   "cell_type": "markdown",
   "id": "9f7a5cb6",
   "metadata": {},
   "source": [
    "#### Handling Null"
   ]
  },
  {
   "cell_type": "markdown",
   "id": "e08a85ea",
   "metadata": {},
   "source": [
    "##### Get all the records where bonus is not null or not empty."
   ]
  },
  {
   "cell_type": "code",
   "execution_count": 87,
   "id": "84300cfa",
   "metadata": {},
   "outputs": [
    {
     "name": "stdout",
     "output_type": "stream",
     "text": [
      "+-----------+----------+---------+------+-----+-------------+----------------+-----------+\n",
      "|employee_id|first_name|last_name|salary|bonus|  nationality|    phone_number|        ssn|\n",
      "+-----------+----------+---------+------+-----+-------------+----------------+-----------+\n",
      "|          1|     Scott|    Tiger|1000.0|   10|united states| +1 123 456 7890|123 45 6789|\n",
      "|          4|      Bill|    Gomes|1500.0|   10|    AUSTRALIA|+61 987 654 3210|789 12 6118|\n",
      "+-----------+----------+---------+------+-----+-------------+----------------+-----------+\n",
      "\n"
     ]
    }
   ],
   "source": [
    "employeesDF. \\\n",
    "    filter(\"bonus IS NOT NULL AND bonus <> ''\"). \\\n",
    "    show()"
   ]
  },
  {
   "cell_type": "code",
   "execution_count": 88,
   "id": "a10c49de",
   "metadata": {},
   "outputs": [
    {
     "name": "stdout",
     "output_type": "stream",
     "text": [
      "+-----------+----------+---------+------+-----+-------------+----------------+-----------+\n",
      "|employee_id|first_name|last_name|salary|bonus|  nationality|    phone_number|        ssn|\n",
      "+-----------+----------+---------+------+-----+-------------+----------------+-----------+\n",
      "|          1|     Scott|    Tiger|1000.0|   10|united states| +1 123 456 7890|123 45 6789|\n",
      "|          4|      Bill|    Gomes|1500.0|   10|    AUSTRALIA|+61 987 654 3210|789 12 6118|\n",
      "+-----------+----------+---------+------+-----+-------------+----------------+-----------+\n",
      "\n"
     ]
    }
   ],
   "source": [
    "employeesDF. \\\n",
    "    filter(\"!(bonus IS NULL OR bonus = '')\"). \\\n",
    "    show()"
   ]
  },
  {
   "cell_type": "code",
   "execution_count": 89,
   "id": "1afaf017",
   "metadata": {},
   "outputs": [
    {
     "name": "stdout",
     "output_type": "stream",
     "text": [
      "+-----------+----------+---------+------+-----+-------------+----------------+-----------+\n",
      "|employee_id|first_name|last_name|salary|bonus|  nationality|    phone_number|        ssn|\n",
      "+-----------+----------+---------+------+-----+-------------+----------------+-----------+\n",
      "|          1|     Scott|    Tiger|1000.0|   10|united states| +1 123 456 7890|123 45 6789|\n",
      "|          4|      Bill|    Gomes|1500.0|   10|    AUSTRALIA|+61 987 654 3210|789 12 6118|\n",
      "+-----------+----------+---------+------+-----+-------------+----------------+-----------+\n",
      "\n"
     ]
    }
   ],
   "source": [
    "employeesDF. \\\n",
    "    filter((col('bonus').isNotNull()) &\n",
    "           (col('bonus') != '')\n",
    "          ). \\\n",
    "    show()"
   ]
  },
  {
   "cell_type": "code",
   "execution_count": 90,
   "id": "536f67f7",
   "metadata": {},
   "outputs": [
    {
     "name": "stdout",
     "output_type": "stream",
     "text": [
      "+-----------+----------+---------+------+-----+-------------+----------------+-----------+\n",
      "|employee_id|first_name|last_name|salary|bonus|  nationality|    phone_number|        ssn|\n",
      "+-----------+----------+---------+------+-----+-------------+----------------+-----------+\n",
      "|          1|     Scott|    Tiger|1000.0|   10|united states| +1 123 456 7890|123 45 6789|\n",
      "|          4|      Bill|    Gomes|1500.0|   10|    AUSTRALIA|+61 987 654 3210|789 12 6118|\n",
      "+-----------+----------+---------+------+-----+-------------+----------------+-----------+\n",
      "\n"
     ]
    }
   ],
   "source": [
    "# Using negation ~\n",
    "\n",
    "employeesDF. \\\n",
    "    filter((~ col('bonus').isNull()) &\n",
    "           (col('bonus') != '')\n",
    "          ). \\\n",
    "    show()"
   ]
  },
  {
   "cell_type": "markdown",
   "id": "8365ad04",
   "metadata": {},
   "source": [
    "##### Get all the records where bonus is null or empty."
   ]
  },
  {
   "cell_type": "code",
   "execution_count": 91,
   "id": "d973a86e",
   "metadata": {},
   "outputs": [
    {
     "name": "stdout",
     "output_type": "stream",
     "text": [
      "+-----------+----------+---------+------+-----+--------------+----------------+-----------+\n",
      "|employee_id|first_name|last_name|salary|bonus|   nationality|    phone_number|        ssn|\n",
      "+-----------+----------+---------+------+-----+--------------+----------------+-----------+\n",
      "|          2|     Henry|     Ford|1250.0| null|         India|+91 234 567 8901|456 78 9123|\n",
      "|          3|      Nick|   Junior| 750.0|     |united KINGDOM|+44 111 111 1111|222 33 4444|\n",
      "+-----------+----------+---------+------+-----+--------------+----------------+-----------+\n",
      "\n"
     ]
    }
   ],
   "source": [
    "employeesDF. \\\n",
    "    filter(\"nullif(bonus, '') IS NULL\"). \\\n",
    "    show()"
   ]
  },
  {
   "cell_type": "code",
   "execution_count": 92,
   "id": "11316de1",
   "metadata": {},
   "outputs": [
    {
     "name": "stdout",
     "output_type": "stream",
     "text": [
      "+-----------+----------+---------+------+-----+--------------+----------------+-----------+\n",
      "|employee_id|first_name|last_name|salary|bonus|   nationality|    phone_number|        ssn|\n",
      "+-----------+----------+---------+------+-----+--------------+----------------+-----------+\n",
      "|          2|     Henry|     Ford|1250.0| null|         India|+91 234 567 8901|456 78 9123|\n",
      "|          3|      Nick|   Junior| 750.0|     |united KINGDOM|+44 111 111 1111|222 33 4444|\n",
      "+-----------+----------+---------+------+-----+--------------+----------------+-----------+\n",
      "\n"
     ]
    }
   ],
   "source": [
    "employeesDF. \\\n",
    "    filter((col('bonus').isNull()) |\n",
    "           (col('bonus') == '')\n",
    "          ). \\\n",
    "    show()"
   ]
  },
  {
   "cell_type": "code",
   "execution_count": 93,
   "id": "7c038610",
   "metadata": {},
   "outputs": [
    {
     "name": "stdout",
     "output_type": "stream",
     "text": [
      "+-----------+----------+---------+------+-----+--------------+----------------+-----------+\n",
      "|employee_id|first_name|last_name|salary|bonus|   nationality|    phone_number|        ssn|\n",
      "+-----------+----------+---------+------+-----+--------------+----------------+-----------+\n",
      "|          2|     Henry|     Ford|1250.0| null|         India|+91 234 567 8901|456 78 9123|\n",
      "|          3|      Nick|   Junior| 750.0|     |united KINGDOM|+44 111 111 1111|222 33 4444|\n",
      "+-----------+----------+---------+------+-----+--------------+----------------+-----------+\n",
      "\n"
     ]
    }
   ],
   "source": [
    "# casting the empty string to int will fail and return null\n",
    "\n",
    "employeesDF. \\\n",
    "    filter((col('bonus').cast('int').isNull()) \n",
    "          ). \\\n",
    "    show()"
   ]
  },
  {
   "cell_type": "code",
   "execution_count": null,
   "id": "b10e43e7",
   "metadata": {},
   "outputs": [],
   "source": []
  }
 ],
 "metadata": {
  "kernelspec": {
   "display_name": "Pyspark 2",
   "language": "python",
   "name": "pyspark2"
  },
  "language_info": {
   "codemirror_mode": {
    "name": "ipython",
    "version": 3
   },
   "file_extension": ".py",
   "mimetype": "text/x-python",
   "name": "python",
   "nbconvert_exporter": "python",
   "pygments_lexer": "ipython3",
   "version": "3.6.12"
  }
 },
 "nbformat": 4,
 "nbformat_minor": 5
}
