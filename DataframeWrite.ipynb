{
 "cells": [
  {
   "cell_type": "code",
   "execution_count": 1,
   "id": "1bf061a2",
   "metadata": {},
   "outputs": [],
   "source": [
    "from pyspark.sql import SparkSession\n",
    "\n",
    "import getpass\n",
    "username = getpass.getuser()\n",
    "\n",
    "spark = SparkSession. \\\n",
    "    builder. \\\n",
    "    config('spark.ui.port', '0'). \\\n",
    "    config(\"spark.sql.warehouse.dir\", f\"/user/{username}/warehouse\"). \\\n",
    "    enableHiveSupport(). \\\n",
    "    appName(f'{username} | Python - Data Processing - Overview'). \\\n",
    "    master('yarn'). \\\n",
    "    getOrCreate()"
   ]
  },
  {
   "cell_type": "code",
   "execution_count": 2,
   "id": "5169551d",
   "metadata": {},
   "outputs": [],
   "source": [
    "orders = spark. \\\n",
    "    read. \\\n",
    "    csv('/public/retail_db/orders',\n",
    "        schema='''\n",
    "            order_id INT, \n",
    "            order_date STRING, \n",
    "            order_customer_id INT, \n",
    "            order_status STRING\n",
    "        '''\n",
    "       )"
   ]
  },
  {
   "cell_type": "code",
   "execution_count": 5,
   "id": "21d1e49d",
   "metadata": {},
   "outputs": [
    {
     "name": "stdout",
     "output_type": "stream",
     "text": [
      "+--------+---------------------+-----------------+---------------+\n",
      "|order_id|order_date           |order_customer_id|order_status   |\n",
      "+--------+---------------------+-----------------+---------------+\n",
      "|1       |2013-07-25 00:00:00.0|11599            |CLOSED         |\n",
      "|2       |2013-07-25 00:00:00.0|256              |PENDING_PAYMENT|\n",
      "|3       |2013-07-25 00:00:00.0|12111            |COMPLETE       |\n",
      "|4       |2013-07-25 00:00:00.0|8827             |CLOSED         |\n",
      "|5       |2013-07-25 00:00:00.0|11318            |COMPLETE       |\n",
      "+--------+---------------------+-----------------+---------------+\n",
      "only showing top 5 rows\n",
      "\n"
     ]
    }
   ],
   "source": [
    "orders.show(5, False)"
   ]
  },
  {
   "cell_type": "code",
   "execution_count": 6,
   "id": "5a1f45b8",
   "metadata": {},
   "outputs": [
    {
     "data": {
      "text/plain": [
       "68883"
      ]
     },
     "execution_count": 6,
     "metadata": {},
     "output_type": "execute_result"
    }
   ],
   "source": [
    "orders.count()"
   ]
  },
  {
   "cell_type": "code",
   "execution_count": 7,
   "id": "c86a9292",
   "metadata": {},
   "outputs": [],
   "source": [
    "orders. \\\n",
    "    write. \\\n",
    "    parquet(f'/user/{username}/retail_db/orders', \n",
    "            mode='overwrite', \n",
    "            compression='none'\n",
    "           )"
   ]
  },
  {
   "cell_type": "code",
   "execution_count": 8,
   "id": "7cbc01f6",
   "metadata": {},
   "outputs": [
    {
     "name": "stdout",
     "output_type": "stream",
     "text": [
      "Found 2 items\n",
      "-rw-r--r--   3 itv736079 supergroup          0 2021-07-11 01:33 /user/itv736079/retail_db/orders/_SUCCESS\n",
      "-rw-r--r--   3 itv736079 supergroup     495238 2021-07-11 01:33 /user/itv736079/retail_db/orders/part-00000-ec11ef19-8976-451a-b5d5-288dd46c30ba-c000.parquet\n"
     ]
    }
   ],
   "source": [
    "%%sh\n",
    "\n",
    "hdfs dfs -ls /user/${USER}/retail_db/orders\n",
    "\n",
    "# File extension should not contain compression algorithms such as snappy."
   ]
  },
  {
   "cell_type": "code",
   "execution_count": 9,
   "id": "14cbdef6",
   "metadata": {},
   "outputs": [],
   "source": [
    "# Alternative approach - using option\n",
    "orders. \\\n",
    "    write. \\\n",
    "    mode('overwrite'). \\\n",
    "    option('compression', 'none'). \\\n",
    "    parquet(f'/user/{username}/retail_db/orders')"
   ]
  },
  {
   "cell_type": "markdown",
   "id": "75eccc5b",
   "metadata": {},
   "source": [
    "___When you pass options, if there are typos then options will be ignored rather than failing. Be careful and make sure that output is validated.___"
   ]
  },
  {
   "cell_type": "code",
   "execution_count": 10,
   "id": "b4675a21",
   "metadata": {},
   "outputs": [
    {
     "name": "stdout",
     "output_type": "stream",
     "text": [
      "Found 2 items\n",
      "-rw-r--r--   3 itv736079 supergroup          0 2021-07-11 01:34 /user/itv736079/retail_db/orders/_SUCCESS\n",
      "-rw-r--r--   3 itv736079 supergroup     495238 2021-07-11 01:34 /user/itv736079/retail_db/orders/part-00000-641ef73c-b39a-4f36-90d4-a654447f23a8-c000.parquet\n"
     ]
    }
   ],
   "source": [
    "%%sh\n",
    "\n",
    "hdfs dfs -ls /user/${USER}/retail_db/orders\n",
    "\n",
    "# File extension should not contain compression algorithms such as snappy."
   ]
  },
  {
   "cell_type": "code",
   "execution_count": 11,
   "id": "99047a92",
   "metadata": {},
   "outputs": [],
   "source": [
    "# Alternative approach - using format\n",
    "orders. \\\n",
    "    write. \\\n",
    "    mode('overwrite'). \\\n",
    "    option('compression', 'none'). \\\n",
    "    format('parquet'). \\\n",
    "    save(f'/user/{username}/retail_db/orders')"
   ]
  },
  {
   "cell_type": "code",
   "execution_count": 12,
   "id": "d744e2cb",
   "metadata": {},
   "outputs": [
    {
     "name": "stdout",
     "output_type": "stream",
     "text": [
      "Found 2 items\n",
      "-rw-r--r--   3 itv736079 supergroup          0 2021-07-11 01:35 /user/itv736079/retail_db/orders/_SUCCESS\n",
      "-rw-r--r--   3 itv736079 supergroup     495238 2021-07-11 01:35 /user/itv736079/retail_db/orders/part-00000-8b1e052b-6294-4063-a1f5-0675c2f31b5b-c000.parquet\n"
     ]
    }
   ],
   "source": [
    "%%sh\n",
    "\n",
    "hdfs dfs -ls /user/${USER}/retail_db/orders\n",
    "\n",
    "# File extension should not contain compression algorithms such as snappy."
   ]
  },
  {
   "cell_type": "markdown",
   "id": "3a2885d7",
   "metadata": {},
   "source": [
    "* Read order_items data from /public/retail_db_json/order_items and write it to pipe delimited files with gzip compression. Target Location: /user/[YOUR_USER_NAME]/retail_db/order_items. Make sure to validate.\n",
    "\n",
    "* Ignore the error if the target location already exists. Also make sure to write into only one file. We can use coalesce for it.___"
   ]
  },
  {
   "cell_type": "code",
   "execution_count": 13,
   "id": "ee06b896",
   "metadata": {},
   "outputs": [],
   "source": [
    "order_items = spark. \\\n",
    "    read. \\\n",
    "    json('/public/retail_db_json/order_items')"
   ]
  },
  {
   "cell_type": "code",
   "execution_count": 14,
   "id": "336a0625",
   "metadata": {},
   "outputs": [
    {
     "name": "stdout",
     "output_type": "stream",
     "text": [
      "+-------------+-------------------+---------------------+------------------------+-------------------+-------------------+\n",
      "|order_item_id|order_item_order_id|order_item_product_id|order_item_product_price|order_item_quantity|order_item_subtotal|\n",
      "+-------------+-------------------+---------------------+------------------------+-------------------+-------------------+\n",
      "|            1|                  1|                  957|                  299.98|                  1|             299.98|\n",
      "|            2|                  2|                 1073|                  199.99|                  1|             199.99|\n",
      "|            3|                  2|                  502|                    50.0|                  5|              250.0|\n",
      "|            4|                  2|                  403|                  129.99|                  1|             129.99|\n",
      "|            5|                  4|                  897|                   24.99|                  2|              49.98|\n",
      "+-------------+-------------------+---------------------+------------------------+-------------------+-------------------+\n",
      "only showing top 5 rows\n",
      "\n"
     ]
    }
   ],
   "source": [
    "order_items.show(5)"
   ]
  },
  {
   "cell_type": "code",
   "execution_count": 15,
   "id": "82eb7ca2",
   "metadata": {},
   "outputs": [
    {
     "data": {
      "text/plain": [
       "172198"
      ]
     },
     "execution_count": 15,
     "metadata": {},
     "output_type": "execute_result"
    }
   ],
   "source": [
    "order_items.count()"
   ]
  },
  {
   "cell_type": "code",
   "execution_count": 16,
   "id": "3cbfafff",
   "metadata": {},
   "outputs": [],
   "source": [
    "# Using format\n",
    "order_items. \\\n",
    "    coalesce(1). \\\n",
    "    write. \\\n",
    "    mode('ignore'). \\\n",
    "    option('compression', 'gzip'). \\\n",
    "    option('sep', '|'). \\\n",
    "    format('csv'). \\\n",
    "    save(f'/user/{username}/retail_db/order_items')"
   ]
  },
  {
   "cell_type": "code",
   "execution_count": 17,
   "id": "51af751b",
   "metadata": {},
   "outputs": [
    {
     "name": "stdout",
     "output_type": "stream",
     "text": [
      "Found 2 items\n",
      "-rw-r--r--   3 itv736079 supergroup          0 2021-07-11 01:38 /user/itv736079/retail_db/order_items/_SUCCESS\n",
      "-rw-r--r--   3 itv736079 supergroup    1032820 2021-07-11 01:38 /user/itv736079/retail_db/order_items/part-00000-3e25aefd-d353-4fbe-9195-1e48d601e6c3-c000.csv.gz\n"
     ]
    }
   ],
   "source": [
    "%%sh\n",
    "\n",
    "hdfs dfs -ls /user/${USER}/retail_db/order_items"
   ]
  },
  {
   "cell_type": "code",
   "execution_count": 18,
   "id": "7372a11b",
   "metadata": {},
   "outputs": [],
   "source": [
    "# Alternative approach - using keyword arguments\n",
    "order_items. \\\n",
    "    coalesce(1). \\\n",
    "    write. \\\n",
    "    csv(f'/user/{username}/retail_db/order_items',\n",
    "        sep='|',\n",
    "        mode='overwrite',\n",
    "        compression='gzip'\n",
    "       )"
   ]
  },
  {
   "cell_type": "code",
   "execution_count": 19,
   "id": "f8f54058",
   "metadata": {},
   "outputs": [
    {
     "name": "stdout",
     "output_type": "stream",
     "text": [
      "Found 2 items\n",
      "-rw-r--r--   3 itv736079 supergroup          0 2021-07-11 01:38 /user/itv736079/retail_db/order_items/_SUCCESS\n",
      "-rw-r--r--   3 itv736079 supergroup    1032820 2021-07-11 01:38 /user/itv736079/retail_db/order_items/part-00000-54224c69-3b7e-4964-9710-3deeb474d2d6-c000.csv.gz\n"
     ]
    }
   ],
   "source": [
    "%%sh\n",
    "\n",
    "hdfs dfs -ls /user/${USER}/retail_db/order_items"
   ]
  },
  {
   "cell_type": "code",
   "execution_count": null,
   "id": "ad4af12c",
   "metadata": {},
   "outputs": [],
   "source": []
  }
 ],
 "metadata": {
  "kernelspec": {
   "display_name": "Pyspark 2",
   "language": "python",
   "name": "pyspark2"
  },
  "language_info": {
   "codemirror_mode": {
    "name": "ipython",
    "version": 3
   },
   "file_extension": ".py",
   "mimetype": "text/x-python",
   "name": "python",
   "nbconvert_exporter": "python",
   "pygments_lexer": "ipython3",
   "version": "3.6.12"
  }
 },
 "nbformat": 4,
 "nbformat_minor": 5
}
