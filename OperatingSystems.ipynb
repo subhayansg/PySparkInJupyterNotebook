{
 "cells": [
  {
   "cell_type": "markdown",
   "metadata": {},
   "source": [
    "Python has __os__ and __subprocess__ libraries to run OS commands"
   ]
  },
  {
   "cell_type": "markdown",
   "metadata": {},
   "source": [
    "##### Get current working directory"
   ]
  },
  {
   "cell_type": "code",
   "execution_count": 2,
   "metadata": {},
   "outputs": [],
   "source": [
    "import os"
   ]
  },
  {
   "cell_type": "code",
   "execution_count": 3,
   "metadata": {},
   "outputs": [
    {
     "data": {
      "text/plain": [
       "'/home/itv736079'"
      ]
     },
     "execution_count": 3,
     "metadata": {},
     "output_type": "execute_result"
    }
   ],
   "source": [
    "os.getcwd()"
   ]
  },
  {
   "cell_type": "markdown",
   "metadata": {},
   "source": [
    "##### Read environment variables"
   ]
  },
  {
   "cell_type": "code",
   "execution_count": 4,
   "metadata": {},
   "outputs": [
    {
     "data": {
      "text/plain": [
       "'/bin:/usr/local/sbin:/usr/local/bin:/usr/sbin:/usr/bin:/opt/anaconda3/envs/beakerx/bin'"
      ]
     },
     "execution_count": 4,
     "metadata": {},
     "output_type": "execute_result"
    }
   ],
   "source": [
    "os.environ.get('PATH')"
   ]
  },
  {
   "cell_type": "code",
   "execution_count": 4,
   "metadata": {},
   "outputs": [
    {
     "data": {
      "text/plain": [
       "'itv736079'"
      ]
     },
     "execution_count": 4,
     "metadata": {},
     "output_type": "execute_result"
    }
   ],
   "source": [
    "os.environ.get('USER')"
   ]
  },
  {
   "cell_type": "code",
   "execution_count": 11,
   "metadata": {},
   "outputs": [
    {
     "name": "stdout",
     "output_type": "stream",
     "text": [
      "TERM=xterm-color\n",
      "SHELL=/bin/bash\n",
      "CLICOLOR=1\n",
      "JPY_API_TOKEN=9e6cfe2a77ed41d2bd8b285188271d9a\n",
      "USER=itv736079\n",
      "JUPYTERHUB_CLIENT_ID=jupyterhub-user-itv736079\n",
      "JUPYTERHUB_BASE_URL=/\n",
      "JUPYTERHUB_API_TOKEN=9e6cfe2a77ed41d2bd8b285188271d9a\n",
      "JPY_PARENT_PID=6567\n",
      "PAGER=cat\n",
      "PATH=/bin:/usr/local/sbin:/usr/local/bin:/usr/sbin:/usr/bin:/opt/anaconda3/envs/beakerx/bin\n",
      "PWD=/home/itv736079\n",
      "MPLBACKEND=module://ipykernel.pylab.backend_inline\n",
      "LANG=en_US.UTF-8\n",
      "JUPYTERHUB_SERVER_NAME=\n",
      "JUPYTERHUB_API_URL=http://127.0.0.1:8081/hub/api\n",
      "HOME=/home/itv736079\n",
      "SHLVL=1\n",
      "JUPYTERHUB_USER=itv736079\n",
      "BEAKERX_AUTOTRANSLATION_PASSWORD=Z0ITOaB3OqtFP63jhJLOIMAazzBDSGML2Qkb1TbH1OA9Lt800GTCiMdA0LsJw1jPIzZKipKX2wb9hp8WWDk7dubwoNrtqoDTzLmZvgYqR40xhcrmdO98of18Q0B9fKvN\n",
      "JUPYTERHUB_ACTIVITY_URL=http://127.0.0.1:8081/hub/api/users/itv736079/activity\n",
      "JUPYTERHUB_OAUTH_CALLBACK_URL=/user/itv736079/oauth_callback\n",
      "GIT_PAGER=cat\n",
      "BEAKERX_AUTOTRANSLATION_PORT=35289\n",
      "JUPYTERHUB_HOST=\n",
      "JUPYTERHUB_SERVICE_PREFIX=/user/itv736079/\n",
      "_=/bin/env\n"
     ]
    }
   ],
   "source": [
    "%%sh\n",
    "\n",
    "env"
   ]
  },
  {
   "cell_type": "markdown",
   "metadata": {},
   "source": [
    "#### For running commands subprocess is more popular"
   ]
  },
  {
   "cell_type": "code",
   "execution_count": 6,
   "metadata": {},
   "outputs": [],
   "source": [
    "import subprocess"
   ]
  },
  {
   "cell_type": "markdown",
   "metadata": {},
   "source": [
    "##### subprocess.check_call() is used to get the exit code of the linux command run\n",
    "\n",
    "It can be used to return the exit code when we create a folder for example"
   ]
  },
  {
   "cell_type": "code",
   "execution_count": 7,
   "metadata": {},
   "outputs": [
    {
     "data": {
      "text/plain": [
       "0"
      ]
     },
     "execution_count": 7,
     "metadata": {},
     "output_type": "execute_result"
    }
   ],
   "source": [
    "output = subprocess.check_call(['mkdir', '-p', '/home/itv736079/testing_os_mod'])\n",
    "output"
   ]
  },
  {
   "cell_type": "markdown",
   "metadata": {},
   "source": [
    "##### status 0 means directory got created"
   ]
  },
  {
   "cell_type": "code",
   "execution_count": null,
   "metadata": {},
   "outputs": [],
   "source": []
  },
  {
   "cell_type": "code",
   "execution_count": 7,
   "metadata": {},
   "outputs": [],
   "source": [
    "output = subprocess.check_output(['ls', '-ltr'])"
   ]
  },
  {
   "cell_type": "code",
   "execution_count": 8,
   "metadata": {},
   "outputs": [
    {
     "data": {
      "text/plain": [
       "b'total 39888\\n-rw-r--r-- 1 itv736079 students      120 Sep 25  2020 authors.csv\\n-rw-r--r-- 1 itv736079 students      153 Sep 25  2020 sample_data.txt\\n-rw-r--r-- 1 itv736079 students      171 Sep 25  2020 mobilephones.csv\\n-rw-r--r-- 1 itv736079 students       95 Sep 25  2020 freshproducts.csv\\n-rw-r--r-- 1 itv736079 students      123 Sep 25  2020 products.csv\\ndrwxr-xr-x 3 itv736079 students     4096 Mar  6 01:54 ${system:java.io.tmpdir}\\n-rw-r--r-- 1 itv736079 students       30 Mar  6 02:17 myscript.hql\\n-rw-r--r-- 1 itv736079 students 40613445 Mar  7 06:04 udf_hive_touppercase.jar\\n-rw-r--r-- 1 itv736079 students    14341 Mar  8 11:43 assignment_1_hive.txt\\n-rw-r--r-- 1 itv736079 students    20549 Mar  8 23:18 Customers1.java\\n-rw-r--r-- 1 itv736079 students      283 Mar  8 23:26 log_out1.out\\n-rw-r--r-- 1 itv736079 students     5758 Mar  8 23:26 log_out2.err\\n-rw-r--r-- 1 itv736079 students      283 Mar  8 23:32 2019-01-01\\n-rw-r--r-- 1 itv736079 students        0 Mar  9 12:38 testing\\n-rw-r--r-- 1 itv736079 students       27 Mar 10 00:08 file1.txt\\n-rw-r--r-- 1 itv736079 students       27 Mar 10 00:08 file2.txt\\n-rw-r--r-- 1 itv736079 students       54 Mar 10 00:13 filenew.txt\\n-rw-r--r-- 1 itv736079 students    17008 Mar 13 23:47 orders.java\\n-rw-r--r-- 1 itv736079 students    29147 Mar 13 23:51 customers.java\\n-rw-r--r-- 1 itv736079 students     5812 Apr  1 11:31 kv1.txt\\ndrwxr-xr-x 2 itv736079 students     4096 Apr 30 10:10 testing_os_mod\\ndrwxr-xr-x 3 itv736079 students     4096 May  1 00:44 week5data\\n-rw-r--r-- 1 itv736079 students    20496 May  1 03:40 cov_19_ind.java\\n-rw-r--r-- 1 itv736079 students    20120 May  1 03:47 StatewiseTestingDetails.java\\n-rw-r--r-- 1 itv736079 students      103 May  2 09:43 word_count.txt\\n-rwxr--r-- 1 itv736079 students      298 May  7 03:14 script1.hql\\n-rw-r--r-- 1 itv736079 students     7195 May  7 07:49 OperatingSystems.ipynb\\n'"
      ]
     },
     "execution_count": 8,
     "metadata": {},
     "output_type": "execute_result"
    }
   ],
   "source": [
    "output # Output is in binary format, notice the b at the start"
   ]
  },
  {
   "cell_type": "code",
   "execution_count": 9,
   "metadata": {},
   "outputs": [
    {
     "data": {
      "text/plain": [
       "bytes"
      ]
     },
     "execution_count": 9,
     "metadata": {},
     "output_type": "execute_result"
    }
   ],
   "source": [
    "type(output) # bytes or binary"
   ]
  },
  {
   "cell_type": "code",
   "execution_count": 10,
   "metadata": {},
   "outputs": [
    {
     "data": {
      "text/plain": [
       "'total 39888\\n-rw-r--r-- 1 itv736079 students      120 Sep 25  2020 authors.csv\\n-rw-r--r-- 1 itv736079 students      153 Sep 25  2020 sample_data.txt\\n-rw-r--r-- 1 itv736079 students      171 Sep 25  2020 mobilephones.csv\\n-rw-r--r-- 1 itv736079 students       95 Sep 25  2020 freshproducts.csv\\n-rw-r--r-- 1 itv736079 students      123 Sep 25  2020 products.csv\\ndrwxr-xr-x 3 itv736079 students     4096 Mar  6 01:54 ${system:java.io.tmpdir}\\n-rw-r--r-- 1 itv736079 students       30 Mar  6 02:17 myscript.hql\\n-rw-r--r-- 1 itv736079 students 40613445 Mar  7 06:04 udf_hive_touppercase.jar\\n-rw-r--r-- 1 itv736079 students    14341 Mar  8 11:43 assignment_1_hive.txt\\n-rw-r--r-- 1 itv736079 students    20549 Mar  8 23:18 Customers1.java\\n-rw-r--r-- 1 itv736079 students      283 Mar  8 23:26 log_out1.out\\n-rw-r--r-- 1 itv736079 students     5758 Mar  8 23:26 log_out2.err\\n-rw-r--r-- 1 itv736079 students      283 Mar  8 23:32 2019-01-01\\n-rw-r--r-- 1 itv736079 students        0 Mar  9 12:38 testing\\n-rw-r--r-- 1 itv736079 students       27 Mar 10 00:08 file1.txt\\n-rw-r--r-- 1 itv736079 students       27 Mar 10 00:08 file2.txt\\n-rw-r--r-- 1 itv736079 students       54 Mar 10 00:13 filenew.txt\\n-rw-r--r-- 1 itv736079 students    17008 Mar 13 23:47 orders.java\\n-rw-r--r-- 1 itv736079 students    29147 Mar 13 23:51 customers.java\\n-rw-r--r-- 1 itv736079 students     5812 Apr  1 11:31 kv1.txt\\ndrwxr-xr-x 2 itv736079 students     4096 Apr 30 10:10 testing_os_mod\\ndrwxr-xr-x 3 itv736079 students     4096 May  1 00:44 week5data\\n-rw-r--r-- 1 itv736079 students    20496 May  1 03:40 cov_19_ind.java\\n-rw-r--r-- 1 itv736079 students    20120 May  1 03:47 StatewiseTestingDetails.java\\n-rw-r--r-- 1 itv736079 students      103 May  2 09:43 word_count.txt\\n-rwxr--r-- 1 itv736079 students      298 May  7 03:14 script1.hql\\n-rw-r--r-- 1 itv736079 students     7195 May  7 07:49 OperatingSystems.ipynb\\n'"
      ]
     },
     "execution_count": 10,
     "metadata": {},
     "output_type": "execute_result"
    }
   ],
   "source": [
    "output.decode('utf-8') # convert to string of format utf-8"
   ]
  },
  {
   "cell_type": "code",
   "execution_count": 11,
   "metadata": {},
   "outputs": [
    {
     "data": {
      "text/plain": [
       "str"
      ]
     },
     "execution_count": 11,
     "metadata": {},
     "output_type": "execute_result"
    }
   ],
   "source": [
    "type(output.decode('utf-8'))"
   ]
  },
  {
   "cell_type": "code",
   "execution_count": 12,
   "metadata": {},
   "outputs": [
    {
     "data": {
      "text/plain": [
       "['total 39888',\n",
       " '-rw-r--r-- 1 itv736079 students      120 Sep 25  2020 authors.csv',\n",
       " '-rw-r--r-- 1 itv736079 students      153 Sep 25  2020 sample_data.txt',\n",
       " '-rw-r--r-- 1 itv736079 students      171 Sep 25  2020 mobilephones.csv',\n",
       " '-rw-r--r-- 1 itv736079 students       95 Sep 25  2020 freshproducts.csv',\n",
       " '-rw-r--r-- 1 itv736079 students      123 Sep 25  2020 products.csv',\n",
       " 'drwxr-xr-x 3 itv736079 students     4096 Mar  6 01:54 ${system:java.io.tmpdir}',\n",
       " '-rw-r--r-- 1 itv736079 students       30 Mar  6 02:17 myscript.hql',\n",
       " '-rw-r--r-- 1 itv736079 students 40613445 Mar  7 06:04 udf_hive_touppercase.jar',\n",
       " '-rw-r--r-- 1 itv736079 students    14341 Mar  8 11:43 assignment_1_hive.txt',\n",
       " '-rw-r--r-- 1 itv736079 students    20549 Mar  8 23:18 Customers1.java',\n",
       " '-rw-r--r-- 1 itv736079 students      283 Mar  8 23:26 log_out1.out',\n",
       " '-rw-r--r-- 1 itv736079 students     5758 Mar  8 23:26 log_out2.err',\n",
       " '-rw-r--r-- 1 itv736079 students      283 Mar  8 23:32 2019-01-01',\n",
       " '-rw-r--r-- 1 itv736079 students        0 Mar  9 12:38 testing',\n",
       " '-rw-r--r-- 1 itv736079 students       27 Mar 10 00:08 file1.txt',\n",
       " '-rw-r--r-- 1 itv736079 students       27 Mar 10 00:08 file2.txt',\n",
       " '-rw-r--r-- 1 itv736079 students       54 Mar 10 00:13 filenew.txt',\n",
       " '-rw-r--r-- 1 itv736079 students    17008 Mar 13 23:47 orders.java',\n",
       " '-rw-r--r-- 1 itv736079 students    29147 Mar 13 23:51 customers.java',\n",
       " '-rw-r--r-- 1 itv736079 students     5812 Apr  1 11:31 kv1.txt',\n",
       " 'drwxr-xr-x 2 itv736079 students     4096 Apr 30 10:10 testing_os_mod',\n",
       " 'drwxr-xr-x 3 itv736079 students     4096 May  1 00:44 week5data',\n",
       " '-rw-r--r-- 1 itv736079 students    20496 May  1 03:40 cov_19_ind.java',\n",
       " '-rw-r--r-- 1 itv736079 students    20120 May  1 03:47 StatewiseTestingDetails.java',\n",
       " '-rw-r--r-- 1 itv736079 students      103 May  2 09:43 word_count.txt',\n",
       " '-rwxr--r-- 1 itv736079 students      298 May  7 03:14 script1.hql',\n",
       " '-rw-r--r-- 1 itv736079 students     7195 May  7 07:49 OperatingSystems.ipynb']"
      ]
     },
     "execution_count": 12,
     "metadata": {},
     "output_type": "execute_result"
    }
   ],
   "source": [
    "# Format the output string for proper viz.\n",
    "\n",
    "output.decode('utf-8').splitlines()"
   ]
  },
  {
   "cell_type": "code",
   "execution_count": 10,
   "metadata": {},
   "outputs": [
    {
     "name": "stdout",
     "output_type": "stream",
     "text": [
      "total 39832\n",
      "-rw-r--r-- 1 itv736079 students      120 Sep 25  2020 authors.csv\n",
      "-rw-r--r-- 1 itv736079 students      153 Sep 25  2020 sample_data.txt\n",
      "-rw-r--r-- 1 itv736079 students      171 Sep 25  2020 mobilephones.csv\n",
      "-rw-r--r-- 1 itv736079 students       95 Sep 25  2020 freshproducts.csv\n",
      "-rw-r--r-- 1 itv736079 students      123 Sep 25  2020 products.csv\n",
      "drwxr-xr-x 3 itv736079 students     4096 Mar  6 01:54 ${system:java.io.tmpdir}\n",
      "-rw-r--r-- 1 itv736079 students       30 Mar  6 02:17 myscript.hql\n",
      "-rw-r--r-- 1 itv736079 students 40613445 Mar  7 06:04 udf_hive_touppercase.jar\n",
      "-rw-r--r-- 1 itv736079 students    14341 Mar  8 11:43 assignment_1_hive.txt\n",
      "-rw-r--r-- 1 itv736079 students    20549 Mar  8 23:18 Customers1.java\n",
      "-rw-r--r-- 1 itv736079 students      283 Mar  8 23:26 log_out1.out\n",
      "-rw-r--r-- 1 itv736079 students     5758 Mar  8 23:26 log_out2.err\n",
      "-rw-r--r-- 1 itv736079 students      283 Mar  8 23:32 2019-01-01\n",
      "-rw-r--r-- 1 itv736079 students        0 Mar  9 12:38 testing\n",
      "-rw-r--r-- 1 itv736079 students       27 Mar 10 00:08 file1.txt\n",
      "-rw-r--r-- 1 itv736079 students       27 Mar 10 00:08 file2.txt\n",
      "-rw-r--r-- 1 itv736079 students       54 Mar 10 00:13 filenew.txt\n",
      "-rw-r--r-- 1 itv736079 students    17008 Mar 13 23:47 orders.java\n",
      "-rw-r--r-- 1 itv736079 students    29147 Mar 13 23:51 customers.java\n",
      "-rw-r--r-- 1 itv736079 students     5812 Apr  1 11:31 kv1.txt\n",
      "drwxr-xr-x 3 itv736079 students     4096 Apr 28 23:26 week5data\n",
      "drwxr-xr-x 2 itv736079 students     4096 Apr 30 10:10 testing_os_mod\n",
      "-rw-r--r-- 1 itv736079 students     3497 Apr 30 10:11 OperatingSystems.ipynb\n"
     ]
    }
   ],
   "source": [
    "%%sh\n",
    "\n",
    "ls -ltr /home/itv736079"
   ]
  },
  {
   "cell_type": "code",
   "execution_count": 14,
   "metadata": {},
   "outputs": [
    {
     "data": {
      "text/plain": [
       "5"
      ]
     },
     "execution_count": 14,
     "metadata": {},
     "output_type": "execute_result"
    }
   ],
   "source": []
  },
  {
   "cell_type": "code",
   "execution_count": null,
   "metadata": {},
   "outputs": [],
   "source": []
  }
 ],
 "metadata": {
  "kernelspec": {
   "display_name": "Python 3",
   "language": "python",
   "name": "python3"
  },
  "language_info": {
   "codemirror_mode": {
    "name": "ipython",
    "version": 3
   },
   "file_extension": ".py",
   "mimetype": "text/x-python",
   "name": "python",
   "nbconvert_exporter": "python",
   "pygments_lexer": "ipython3",
   "version": "3.6.12"
  }
 },
 "nbformat": 4,
 "nbformat_minor": 4
}
